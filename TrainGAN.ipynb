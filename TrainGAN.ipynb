{
  "cells": [
    {
      "cell_type": "code",
      "execution_count": 1,
      "id": "6de13e4d",
      "metadata": {
        "colab": {
          "base_uri": "https://localhost:8080/"
        },
        "id": "6de13e4d",
        "outputId": "9defa334-4bef-451a-a882-1ccd2f81509e"
      },
      "outputs": [
        {
          "output_type": "stream",
          "name": "stdout",
          "text": [
            "/content/WassersteinGANTest_1D\n"
          ]
        }
      ],
      "source": [
        "# 1D toy example of the improved Wasserstein GAN by Gulrajani et al., 2017, https://arxiv.org/abs/1704.00028\n",
        "# based on the blog posts by Eric Jang, http://blog.evjang.com/2016/06/generative-adversarial-nets-in.html\n",
        "# and by John Glover, http://blog.aylien.com/introduction-generative-adversarial-networks-code-tensorflow/\n",
        "# and the Wasserstein-GP implementation at https://github.com/igul222/improved_wgan_training\n",
        "\n",
        "import matplotlib.pyplot as plt\n",
        "import seaborn as sns\n",
        "import numpy as np\n",
        "\n",
        "from matplotlib.animation import PillowWriter\n",
        "\n",
        "%cd /content/WassersteinGANTest_1D\n",
        "from gan import GAN"
      ]
    },
    {
      "cell_type": "code",
      "execution_count": 47,
      "id": "cc363874",
      "metadata": {
        "id": "cc363874"
      },
      "outputs": [],
      "source": [
        "class Visualization(object):\n",
        "    \"\"\"Helper class to visualize the progress of the GAN training procedure.\n",
        "    \"\"\"\n",
        "    def __init__(self, path, name, save_animation=False, hist = False, fps=100):\n",
        "        \"\"\"Initialize the helper class.\n",
        "\n",
        "        :param save_animation: Whether the animation should be saved as a gif. Requires the ImageMagick library.\n",
        "        :param fps: The number of frames per second when saving the gif animation.\n",
        "        \"\"\"\n",
        "        self.save_animation = save_animation\n",
        "        self.hist = hist\n",
        "        self.fps = fps\n",
        "        self.figure, (self.ax1, self.ax2) = plt.subplots(1, 2, figsize=(12, 6))\n",
        "        self.figure.suptitle(\"1D Generative Adversarial Network Example (WGAN-GP)\")\n",
        "        sns.set(color_codes=True, style='white', palette='colorblind')\n",
        "        sns.despine(self.figure)\n",
        "        plt.show(block=False)\n",
        "\n",
        "        if self.save_animation:\n",
        "            self.writer = PillowWriter(fps=self.fps)\n",
        "            self.writer.setup(self.figure, path + name, dpi=self.fps)\n",
        "    def plot_progress(self, gan, session, data):\n",
        "        \"\"\"Plot the progress of the training procedure. This can be called back from the GAN fit method.\n",
        "\n",
        "        :param gan: The GAN we are fitting.\n",
        "        :param session: The current session of the GAN.\n",
        "        :param data: The data object from which we are sampling the input data.\n",
        "        \"\"\"\n",
        "\n",
        "        # Plot the training curve.\n",
        "        steps = gan.log_interval * np.arange(len(gan.loss_curve))\n",
        "        self.ax1.clear()\n",
        "        self.ax1.plot(steps, gan.loss_curve, '-')\n",
        "        self.ax1.set_title('Learning curve')\n",
        "        self.ax1.set_xlabel('Iteration')\n",
        "        self.ax1.set_ylabel('Negative critic loss')\n",
        "\n",
        "        # Plot the generated and the input data distributions.\n",
        "        g = gan.sample(session)\n",
        "        x = np.linspace(*self.ax2.get_xlim(), gan.n_sample)[:, np.newaxis]\n",
        "        critic = gan.critic(session, x)\n",
        "\n",
        "        # Normalize the critic to be in [0, 1] to make visualization easier.\n",
        "        critic = (critic - critic.min()) / (critic.max() - critic.min())\n",
        "        d, _ = data.next_batch(gan.n_sample)\n",
        "        self.ax2.clear()\n",
        "        self.ax2.set_ylim([0, 1])\n",
        "        self.ax2.set_xlim([-4, 5])\n",
        "        self.ax2.plot(x, critic, label='Critic (normalized)')\n",
        "        if not hist:\n",
        "          sns.kdeplot(d.flatten(), fill=True, ax=self.ax2, label='Real data')\n",
        "          sns.kdeplot(g.flatten(), fill=True, ax=self.ax2, label='Generated data')\n",
        "        else:\n",
        "          self.ax2.hist(x = d.flatten(), weights=1./d.flatten().shape[0]*np.ones((d.flatten().shape[0],)), bins = 20, histtype='step', color='blue', label='Real data')\n",
        "          self.ax2.hist(x = g.flatten(), weights=1./g.flatten().shape[0]*np.ones((g.flatten().shape[0],)), bins = 20, histtype='stepfilled', facecolor='orange', alpha=0.7, label='Generated data')\n",
        "        self.ax2.set_title('Distributions')\n",
        "        self.ax2.set_xlabel('Input domain')\n",
        "        self.ax2.set_ylabel('Probability density')\n",
        "        self.ax2.legend(loc='upper left', frameon=True)\n",
        "\n",
        "        if len(steps) - 1 == gan.n_step // gan.log_interval:\n",
        "            if self.save_animation:\n",
        "                wait_seconds = 3\n",
        "                [self.writer.grab_frame() for _ in range(wait_seconds * self.fps)]\n",
        "                self.writer.finish()\n",
        "            plt.show()\n",
        "        else:\n",
        "            self.figure.canvas.draw()\n",
        "            self.figure.canvas.flush_events()\n",
        "            if self.save_animation:\n",
        "                self.writer.grab_frame()\n",
        "\n",
        "\n",
        "class Dataset(object):\n",
        "    \"\"\"Dataset helper class which implements the next_batch method which can also be found in other TF helper classes.\n",
        "    \"\"\"\n",
        "    def __init__(self,\n",
        "                 Gaussian_out = True, mu = 0., sigma = 2.,\n",
        "                 Uniform_out = False, left_v = -2., right_v = 2.,\n",
        "                 Discrete_out = False, dis_v_list = [-3., 1.5, 3.2], dis_p_list = [0.3, 0.6, 0.1],\n",
        "                 seed=0):\n",
        "\n",
        "        self.Gaussian_out = Gaussian_out   # Gaussian distribution output\n",
        "        self.mu = mu\n",
        "        self.sigma = sigma\n",
        "        self.Uniform_out = Uniform_out   # Uniform distribution output\n",
        "        self.left_v = left_v\n",
        "        self.right_v = right_v\n",
        "        self.Discrete_out = Discrete_out   # Discrete values output\n",
        "        self.dis_v_list = dis_v_list\n",
        "        self.dis_p_list = dis_p_list\n",
        "        self.seed = seed\n",
        "        np.random.seed(seed)\n",
        "\n",
        "    def next_batch(self, batch_size):\n",
        "        #Generate the next batch of toy input data.\n",
        "        if self.Gaussian_out:\n",
        "            data_out = np.random.normal(self.mu, self.sigma, (batch_size, 1))\n",
        "        elif self.Uniform_out:\n",
        "            data_out = np.random.uniform(low=self.left_v, high=self.right_v, size=(batch_size, 1))\n",
        "        elif self.Discrete_out:\n",
        "            data_out = np.random.choice(self.dis_v_list, (batch_size, 1), p=self.dis_p_list)\n",
        "        else:\n",
        "            print(\"Please choose one distribution type!\")\n",
        "        return data_out, np.ones(batch_size)\n"
      ]
    },
    {
      "cell_type": "code",
      "execution_count": 52,
      "id": "758304c9",
      "metadata": {
        "colab": {
          "base_uri": "https://localhost:8080/",
          "height": 1000
        },
        "id": "758304c9",
        "outputId": "8f89be27-e602-45e8-b258-1fa2d7cfe0be"
      },
      "outputs": [
        {
          "output_type": "display_data",
          "data": {
            "text/plain": [
              "<Figure size 1200x600 with 2 Axes>"
            ],
            "image/png": "[encoded data removed]"
          },
          "metadata": {}
        },
        {
          "output_type": "stream",
          "name": "stdout",
          "text": [
            "step:    0, negative critic loss:  -0.2686, time:   0 s\n",
            "step:   50, negative critic loss:   0.5056, time:   1 s\n",
            "step:  100, negative critic loss:   0.2454, time:   2 s\n",
            "step:  150, negative critic loss:   0.1919, time:   3 s\n",
            "step:  200, negative critic loss:   0.1056, time:   4 s\n",
            "step:  250, negative critic loss:   0.0413, time:   5 s\n",
            "step:  300, negative critic loss:  -0.0255, time:   6 s\n",
            "step:  350, negative critic loss:   0.0475, time:   7 s\n",
            "step:  400, negative critic loss:  -0.0062, time:   8 s\n",
            "step:  450, negative critic loss:   0.0631, time:   9 s\n",
            "step:  500, negative critic loss:   0.0020, time:  10 s\n",
            "step:  550, negative critic loss:   0.0316, time:  11 s\n",
            "step:  600, negative critic loss:   0.0286, time:  13 s\n",
            "step:  650, negative critic loss:   0.0311, time:  14 s\n",
            "step:  700, negative critic loss:   0.0578, time:  15 s\n",
            "step:  750, negative critic loss:   0.0343, time:  16 s\n",
            "step:  800, negative critic loss:   0.0049, time:  17 s\n",
            "step:  850, negative critic loss:   0.0244, time:  18 s\n",
            "step:  900, negative critic loss:   0.0286, time:  20 s\n",
            "step:  950, negative critic loss:   0.0327, time:  21 s\n",
            "step: 1000, negative critic loss:   0.0316, time:  22 s\n",
            "step: 1050, negative critic loss:   0.0505, time:  23 s\n",
            "step: 1100, negative critic loss:  -0.0030, time:  24 s\n",
            "step: 1150, negative critic loss:   0.0018, time:  26 s\n",
            "step: 1200, negative critic loss:   0.0085, time:  27 s\n",
            "step: 1250, negative critic loss:  -0.0123, time:  28 s\n",
            "step: 1300, negative critic loss:  -0.0026, time:  29 s\n",
            "step: 1350, negative critic loss:  -0.0058, time:  30 s\n",
            "step: 1400, negative critic loss:   0.0326, time:  31 s\n",
            "step: 1450, negative critic loss:   0.0198, time:  32 s\n",
            "step: 1500, negative critic loss:   0.0128, time:  32 s\n",
            "step: 1550, negative critic loss:   0.0197, time:  33 s\n",
            "step: 1600, negative critic loss:   0.0084, time:  34 s\n",
            "step: 1650, negative critic loss:   0.0060, time:  35 s\n",
            "step: 1700, negative critic loss:   0.0028, time:  37 s\n",
            "step: 1750, negative critic loss:   0.0365, time:  38 s\n",
            "step: 1800, negative critic loss:  -0.0363, time:  39 s\n",
            "step: 1850, negative critic loss:  -0.0175, time:  40 s\n",
            "step: 1900, negative critic loss:   0.0018, time:  41 s\n",
            "step: 1950, negative critic loss:  -0.0150, time:  42 s\n",
            "step: 2000, negative critic loss:  -0.0498, time:  43 s\n"
          ]
        }
      ],
      "source": [
        "Gaussian_out = False\n",
        "mu = 0.5\n",
        "sigma = 1.5\n",
        "\n",
        "Uniform_out = True\n",
        "left_v = -1.\n",
        "right_v = 4.\n",
        "\n",
        "Discrete_out = False\n",
        "dis_v_list = [-3., 1.5, 3.2]  # discrete values as a list\n",
        "dis_p_list = [0.3, 0.5, 0.2]   # probabilities for the discrete values\n",
        "\n",
        "hist = True if Discrete_out else False\n",
        "seed = 100  # Fix the random seed\n",
        "n_step = 2000  # Run the training procedure for 1450 steps.\n",
        "\n",
        "savepath = ''  # the directory and the file name to save the generated pdf during training\n",
        "file_name = 'Uniform_pdf.gif'\n",
        "data = Dataset(Gaussian_out, mu, sigma, Uniform_out, left_v, right_v, Discrete_out, dis_v_list, dis_p_list, seed)  # Initialize the toy data object.\n",
        "vis = Visualization(path = savepath, name = file_name, save_animation=True, hist = hist)  # Create the visualization and optionally save the resulting animation.\n",
        "model = GAN(n_step=n_step, callback=vis.plot_progress, seed=seed).fit(data)  # Fit the data and plot the progress.\n"
      ]
    },
    {
      "cell_type": "code",
      "source": [],
      "metadata": {
        "id": "CDcpVwDDy5T5"
      },
      "id": "CDcpVwDDy5T5",
      "execution_count": null,
      "outputs": []
    }
  ],
  "metadata": {
    "kernelspec": {
      "display_name": "Python 3 (ipykernel)",
      "language": "python",
      "name": "python3"
    },
    "language_info": {
      "codemirror_mode": {
        "name": "ipython",
        "version": 3
      },
      "file_extension": ".py",
      "mimetype": "text/x-python",
      "name": "python",
      "nbconvert_exporter": "python",
      "pygments_lexer": "ipython3",
      "version": "3.9.13"
    },
    "colab": {
      "provenance": []
    }
  },
  "nbformat": 4,
  "nbformat_minor": 5
}