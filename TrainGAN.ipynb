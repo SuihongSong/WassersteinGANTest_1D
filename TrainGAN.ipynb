{
  "cells": [
    {
      "cell_type": "code",
      "execution_count": 1,
      "id": "6de13e4d",
      "metadata": {
        "colab": {
          "base_uri": "https://localhost:8080/"
        },
        "id": "6de13e4d",
        "outputId": "22b4ba38-c733-44bc-fccc-6d8b65662af6"
      },
      "outputs": [
        {
          "output_type": "stream",
          "name": "stdout",
          "text": [
            "/WassersteinGANTest_1D\n"
          ]
        }
      ],
      "source": [
        "# 1D toy example of the improved Wasserstein GAN by Gulrajani et al., 2017, https://arxiv.org/abs/1704.00028\n",
        "# based on the blog posts by Eric Jang, http://blog.evjang.com/2016/06/generative-adversarial-nets-in.html\n",
        "# and by John Glover, http://blog.aylien.com/introduction-generative-adversarial-networks-code-tensorflow/\n",
        "# and the Wasserstein-GP implementation at https://github.com/igul222/improved_wgan_training\n",
        "\n",
        "import matplotlib.pyplot as plt\n",
        "import seaborn as sns\n",
        "import numpy as np\n",
        "\n",
        "from matplotlib.animation import PillowWriter\n",
        "\n",
        "%cd /WassersteinGANTest_1D\n",
        "from gan import GAN"
      ]
    },
    {
      "cell_type": "code",
      "execution_count": 2,
      "id": "cc363874",
      "metadata": {
        "id": "cc363874"
      },
      "outputs": [],
      "source": [
        "class Visualization(object):\n",
        "    \"\"\"Helper class to visualize the progress of the GAN training procedure.\n",
        "    \"\"\"\n",
        "    def __init__(self, path, name, save_animation=False, fps=30):\n",
        "        \"\"\"Initialize the helper class.\n",
        "\n",
        "        :param save_animation: Whether the animation should be saved as a gif. Requires the ImageMagick library.\n",
        "        :param fps: The number of frames per second when saving the gif animation.\n",
        "        \"\"\"\n",
        "        self.save_animation = save_animation\n",
        "        self.fps = fps\n",
        "        self.figure, (self.ax1, self.ax2) = plt.subplots(1, 2, figsize=(8, 4))\n",
        "        self.figure.suptitle(\"1D Generative Adversarial Network Example (WGAN-GP)\")\n",
        "        sns.set(color_codes=True, style='white', palette='colorblind')\n",
        "        sns.despine(self.figure)\n",
        "        plt.show(block=False)\n",
        "\n",
        "        if self.save_animation:\n",
        "            self.writer = PillowWriter(fps=self.fps)\n",
        "            self.writer.setup(self.figure, path + name, dpi=100)\n",
        "    def plot_progress(self, gan, session, data):\n",
        "        \"\"\"Plot the progress of the training procedure. This can be called back from the GAN fit method.\n",
        "\n",
        "        :param gan: The GAN we are fitting.\n",
        "        :param session: The current session of the GAN.\n",
        "        :param data: The data object from which we are sampling the input data.\n",
        "        \"\"\"\n",
        "\n",
        "        # Plot the training curve.\n",
        "        steps = gan.log_interval * np.arange(len(gan.loss_curve))\n",
        "        self.ax1.clear()\n",
        "        self.ax1.plot(steps, gan.loss_curve, '-')\n",
        "        self.ax1.set_title('Learning curve')\n",
        "        self.ax1.set_xlabel('Iteration')\n",
        "        self.ax1.set_ylabel('Negative critic loss')\n",
        "\n",
        "        # Plot the generated and the input data distributions.\n",
        "        g = gan.sample(session)\n",
        "        x = np.linspace(*self.ax2.get_xlim(), gan.n_sample)[:, np.newaxis]\n",
        "        critic = gan.critic(session, x)\n",
        "\n",
        "        # Normalize the critic to be in [0, 1] to make visualization easier.\n",
        "        critic = (critic - critic.min()) / (critic.max() - critic.min())\n",
        "        d, _ = data.next_batch(gan.n_sample)\n",
        "        self.ax2.clear()\n",
        "        self.ax2.set_ylim([0, 1])\n",
        "        self.ax2.set_xlim([-4, 5])\n",
        "        self.ax2.plot(x, critic, label='Critic (normalized)')\n",
        "        sns.kdeplot(d.flatten(), shade=True, ax=self.ax2, label='Real data')\n",
        "        sns.kdeplot(g.flatten(), shade=True, ax=self.ax2, label='Generated data')\n",
        "        self.ax2.set_title('Distributions')\n",
        "        self.ax2.set_xlabel('Input domain')\n",
        "        self.ax2.set_ylabel('Probability density')\n",
        "        self.ax2.legend(loc='upper left', frameon=True)\n",
        "\n",
        "        if len(steps) - 1 == gan.n_step // gan.log_interval:\n",
        "            if self.save_animation:\n",
        "                wait_seconds = 3\n",
        "                [self.writer.grab_frame() for _ in range(wait_seconds * self.fps)]\n",
        "                self.writer.finish()\n",
        "            plt.show()\n",
        "        else:\n",
        "            self.figure.canvas.draw()\n",
        "            self.figure.canvas.flush_events()\n",
        "            if self.save_animation:\n",
        "                self.writer.grab_frame()\n",
        "\n",
        "\n",
        "class Dataset(object):\n",
        "    \"\"\"Dataset helper class which implements the next_batch method which can also be found in other TF helper classes.\n",
        "    \"\"\"\n",
        "    def __init__(self,\n",
        "                 Gaussian_out = True, mu = 0., sigma = 2.,\n",
        "                 Uniform_out = False, left_v = -2., right_v = 2.,\n",
        "                 Discrete_out = False, dis_v_list = [-3., 1.5, 3.2], dis_p_list = [0.3, 0.6, 0.1],\n",
        "                 seed=0):\n",
        "\n",
        "        self.Gaussian_out = Gaussian_out   # Gaussian distribution output\n",
        "        self.mu = mu\n",
        "        self.sigma = sigma\n",
        "        self.Uniform_out = Uniform_out   # Uniform distribution output\n",
        "        self.left_v = left_v\n",
        "        self.right_v = right_v\n",
        "        self.Discrete_out = Discrete_out   # Discrete values output\n",
        "        self.dis_v_list = dis_v_list\n",
        "        self.dis_p_list = dis_p_list\n",
        "        self.seed = seed\n",
        "        np.random.seed(seed)\n",
        "\n",
        "    def next_batch(self, batch_size):\n",
        "        #Generate the next batch of toy input data.\n",
        "        if self.Gaussian_out:\n",
        "            data_out = np.random.normal(self.mu, self.sigma, (batch_size, 1))\n",
        "        elif self.Uniform_out:\n",
        "            data_out = np.random.uniform(low=self.left_v, high=self.right_v, size=(batch_size, 1))\n",
        "        elif self.Discrete_out:\n",
        "            data_out = np.random.choice(self.dis_v_list, (batch_size, 1), p=self.dis_p_list)\n",
        "        else:\n",
        "            print(\"Please choose one distribution type!\")\n",
        "        return data_out, np.ones(batch_size)\n"
      ]
    },
    {
      "cell_type": "code",
      "execution_count": 3,
      "id": "758304c9",
      "metadata": {
        "colab": {
          "base_uri": "https://localhost:8080/",
          "height": 1000
        },
        "id": "758304c9",
        "outputId": "1fde35e1-0d74-48d7-c2bb-8aa4efa8d6ab"
      },
      "outputs": [
        {
          "output_type": "display_data",
          "data": {
            "text/plain": [
              "<Figure size 800x400 with 2 Axes>"
            ],
            "image/png": "[encoded data removed]"
          },
          "metadata": {}
        },
        {
          "output_type": "stream",
          "name": "stdout",
          "text": [
            "step:    0, negative critic loss:   0.2402, time:   0 s\n"
          ]
        },
        {
          "output_type": "stream",
          "name": "stderr",
          "text": [
            "<ipython-input-2-574068bb8da8>:49: FutureWarning: \n",
            "\n",
            "`shade` is now deprecated in favor of `fill`; setting `fill=True`.\n",
            "This will become an error in seaborn v0.14.0; please update your code.\n",
            "\n",
            "  sns.kdeplot(d.flatten(), shade=True, ax=self.ax2, label='Real data')\n",
            "<ipython-input-2-574068bb8da8>:50: FutureWarning: \n",
            "\n",
            "`shade` is now deprecated in favor of `fill`; setting `fill=True`.\n",
            "This will become an error in seaborn v0.14.0; please update your code.\n",
            "\n",
            "  sns.kdeplot(g.flatten(), shade=True, ax=self.ax2, label='Generated data')\n"
          ]
        },
        {
          "output_type": "stream",
          "name": "stdout",
          "text": [
            "step:   50, negative critic loss:   0.2424, time:   1 s\n"
          ]
        },
        {
          "output_type": "stream",
          "name": "stderr",
          "text": [
            "<ipython-input-2-574068bb8da8>:49: FutureWarning: \n",
            "\n",
            "`shade` is now deprecated in favor of `fill`; setting `fill=True`.\n",
            "This will become an error in seaborn v0.14.0; please update your code.\n",
            "\n",
            "  sns.kdeplot(d.flatten(), shade=True, ax=self.ax2, label='Real data')\n",
            "<ipython-input-2-574068bb8da8>:50: FutureWarning: \n",
            "\n",
            "`shade` is now deprecated in favor of `fill`; setting `fill=True`.\n",
            "This will become an error in seaborn v0.14.0; please update your code.\n",
            "\n",
            "  sns.kdeplot(g.flatten(), shade=True, ax=self.ax2, label='Generated data')\n"
          ]
        },
        {
          "output_type": "stream",
          "name": "stdout",
          "text": [
            "step:  100, negative critic loss:   0.1931, time:   2 s\n"
          ]
        },
        {
          "output_type": "stream",
          "name": "stderr",
          "text": [
            "<ipython-input-2-574068bb8da8>:49: FutureWarning: \n",
            "\n",
            "`shade` is now deprecated in favor of `fill`; setting `fill=True`.\n",
            "This will become an error in seaborn v0.14.0; please update your code.\n",
            "\n",
            "  sns.kdeplot(d.flatten(), shade=True, ax=self.ax2, label='Real data')\n",
            "<ipython-input-2-574068bb8da8>:50: FutureWarning: \n",
            "\n",
            "`shade` is now deprecated in favor of `fill`; setting `fill=True`.\n",
            "This will become an error in seaborn v0.14.0; please update your code.\n",
            "\n",
            "  sns.kdeplot(g.flatten(), shade=True, ax=self.ax2, label='Generated data')\n"
          ]
        },
        {
          "output_type": "stream",
          "name": "stdout",
          "text": [
            "step:  150, negative critic loss:   0.1202, time:   3 s\n"
          ]
        },
        {
          "output_type": "stream",
          "name": "stderr",
          "text": [
            "<ipython-input-2-574068bb8da8>:49: FutureWarning: \n",
            "\n",
            "`shade` is now deprecated in favor of `fill`; setting `fill=True`.\n",
            "This will become an error in seaborn v0.14.0; please update your code.\n",
            "\n",
            "  sns.kdeplot(d.flatten(), shade=True, ax=self.ax2, label='Real data')\n",
            "<ipython-input-2-574068bb8da8>:50: FutureWarning: \n",
            "\n",
            "`shade` is now deprecated in favor of `fill`; setting `fill=True`.\n",
            "This will become an error in seaborn v0.14.0; please update your code.\n",
            "\n",
            "  sns.kdeplot(g.flatten(), shade=True, ax=self.ax2, label='Generated data')\n"
          ]
        },
        {
          "output_type": "stream",
          "name": "stdout",
          "text": [
            "step:  200, negative critic loss:  -0.0066, time:   4 s\n"
          ]
        },
        {
          "output_type": "stream",
          "name": "stderr",
          "text": [
            "<ipython-input-2-574068bb8da8>:49: FutureWarning: \n",
            "\n",
            "`shade` is now deprecated in favor of `fill`; setting `fill=True`.\n",
            "This will become an error in seaborn v0.14.0; please update your code.\n",
            "\n",
            "  sns.kdeplot(d.flatten(), shade=True, ax=self.ax2, label='Real data')\n",
            "<ipython-input-2-574068bb8da8>:50: FutureWarning: \n",
            "\n",
            "`shade` is now deprecated in favor of `fill`; setting `fill=True`.\n",
            "This will become an error in seaborn v0.14.0; please update your code.\n",
            "\n",
            "  sns.kdeplot(g.flatten(), shade=True, ax=self.ax2, label='Generated data')\n"
          ]
        },
        {
          "output_type": "stream",
          "name": "stdout",
          "text": [
            "step:  250, negative critic loss:  -0.0084, time:   5 s\n"
          ]
        },
        {
          "output_type": "stream",
          "name": "stderr",
          "text": [
            "<ipython-input-2-574068bb8da8>:49: FutureWarning: \n",
            "\n",
            "`shade` is now deprecated in favor of `fill`; setting `fill=True`.\n",
            "This will become an error in seaborn v0.14.0; please update your code.\n",
            "\n",
            "  sns.kdeplot(d.flatten(), shade=True, ax=self.ax2, label='Real data')\n",
            "<ipython-input-2-574068bb8da8>:50: FutureWarning: \n",
            "\n",
            "`shade` is now deprecated in favor of `fill`; setting `fill=True`.\n",
            "This will become an error in seaborn v0.14.0; please update your code.\n",
            "\n",
            "  sns.kdeplot(g.flatten(), shade=True, ax=self.ax2, label='Generated data')\n"
          ]
        },
        {
          "output_type": "stream",
          "name": "stdout",
          "text": [
            "step:  300, negative critic loss:   0.0148, time:   6 s\n"
          ]
        },
        {
          "output_type": "stream",
          "name": "stderr",
          "text": [
            "<ipython-input-2-574068bb8da8>:49: FutureWarning: \n",
            "\n",
            "`shade` is now deprecated in favor of `fill`; setting `fill=True`.\n",
            "This will become an error in seaborn v0.14.0; please update your code.\n",
            "\n",
            "  sns.kdeplot(d.flatten(), shade=True, ax=self.ax2, label='Real data')\n",
            "<ipython-input-2-574068bb8da8>:50: FutureWarning: \n",
            "\n",
            "`shade` is now deprecated in favor of `fill`; setting `fill=True`.\n",
            "This will become an error in seaborn v0.14.0; please update your code.\n",
            "\n",
            "  sns.kdeplot(g.flatten(), shade=True, ax=self.ax2, label='Generated data')\n"
          ]
        },
        {
          "output_type": "stream",
          "name": "stdout",
          "text": [
            "step:  350, negative critic loss:  -0.0291, time:   7 s\n"
          ]
        },
        {
          "output_type": "stream",
          "name": "stderr",
          "text": [
            "<ipython-input-2-574068bb8da8>:49: FutureWarning: \n",
            "\n",
            "`shade` is now deprecated in favor of `fill`; setting `fill=True`.\n",
            "This will become an error in seaborn v0.14.0; please update your code.\n",
            "\n",
            "  sns.kdeplot(d.flatten(), shade=True, ax=self.ax2, label='Real data')\n",
            "<ipython-input-2-574068bb8da8>:50: FutureWarning: \n",
            "\n",
            "`shade` is now deprecated in favor of `fill`; setting `fill=True`.\n",
            "This will become an error in seaborn v0.14.0; please update your code.\n",
            "\n",
            "  sns.kdeplot(g.flatten(), shade=True, ax=self.ax2, label='Generated data')\n"
          ]
        },
        {
          "output_type": "stream",
          "name": "stdout",
          "text": [
            "step:  400, negative critic loss:   0.0351, time:   8 s\n"
          ]
        },
        {
          "output_type": "stream",
          "name": "stderr",
          "text": [
            "<ipython-input-2-574068bb8da8>:49: FutureWarning: \n",
            "\n",
            "`shade` is now deprecated in favor of `fill`; setting `fill=True`.\n",
            "This will become an error in seaborn v0.14.0; please update your code.\n",
            "\n",
            "  sns.kdeplot(d.flatten(), shade=True, ax=self.ax2, label='Real data')\n",
            "<ipython-input-2-574068bb8da8>:50: FutureWarning: \n",
            "\n",
            "`shade` is now deprecated in favor of `fill`; setting `fill=True`.\n",
            "This will become an error in seaborn v0.14.0; please update your code.\n",
            "\n",
            "  sns.kdeplot(g.flatten(), shade=True, ax=self.ax2, label='Generated data')\n"
          ]
        },
        {
          "output_type": "stream",
          "name": "stdout",
          "text": [
            "step:  450, negative critic loss:   0.0107, time:   9 s\n"
          ]
        },
        {
          "output_type": "stream",
          "name": "stderr",
          "text": [
            "<ipython-input-2-574068bb8da8>:49: FutureWarning: \n",
            "\n",
            "`shade` is now deprecated in favor of `fill`; setting `fill=True`.\n",
            "This will become an error in seaborn v0.14.0; please update your code.\n",
            "\n",
            "  sns.kdeplot(d.flatten(), shade=True, ax=self.ax2, label='Real data')\n",
            "<ipython-input-2-574068bb8da8>:50: FutureWarning: \n",
            "\n",
            "`shade` is now deprecated in favor of `fill`; setting `fill=True`.\n",
            "This will become an error in seaborn v0.14.0; please update your code.\n",
            "\n",
            "  sns.kdeplot(g.flatten(), shade=True, ax=self.ax2, label='Generated data')\n"
          ]
        },
        {
          "output_type": "stream",
          "name": "stdout",
          "text": [
            "step:  500, negative critic loss:  -0.0229, time:  10 s\n"
          ]
        },
        {
          "output_type": "stream",
          "name": "stderr",
          "text": [
            "<ipython-input-2-574068bb8da8>:49: FutureWarning: \n",
            "\n",
            "`shade` is now deprecated in favor of `fill`; setting `fill=True`.\n",
            "This will become an error in seaborn v0.14.0; please update your code.\n",
            "\n",
            "  sns.kdeplot(d.flatten(), shade=True, ax=self.ax2, label='Real data')\n",
            "<ipython-input-2-574068bb8da8>:50: FutureWarning: \n",
            "\n",
            "`shade` is now deprecated in favor of `fill`; setting `fill=True`.\n",
            "This will become an error in seaborn v0.14.0; please update your code.\n",
            "\n",
            "  sns.kdeplot(g.flatten(), shade=True, ax=self.ax2, label='Generated data')\n"
          ]
        },
        {
          "output_type": "stream",
          "name": "stdout",
          "text": [
            "step:  550, negative critic loss:   0.0380, time:  11 s\n"
          ]
        },
        {
          "output_type": "stream",
          "name": "stderr",
          "text": [
            "<ipython-input-2-574068bb8da8>:49: FutureWarning: \n",
            "\n",
            "`shade` is now deprecated in favor of `fill`; setting `fill=True`.\n",
            "This will become an error in seaborn v0.14.0; please update your code.\n",
            "\n",
            "  sns.kdeplot(d.flatten(), shade=True, ax=self.ax2, label='Real data')\n",
            "<ipython-input-2-574068bb8da8>:50: FutureWarning: \n",
            "\n",
            "`shade` is now deprecated in favor of `fill`; setting `fill=True`.\n",
            "This will become an error in seaborn v0.14.0; please update your code.\n",
            "\n",
            "  sns.kdeplot(g.flatten(), shade=True, ax=self.ax2, label='Generated data')\n"
          ]
        },
        {
          "output_type": "stream",
          "name": "stdout",
          "text": [
            "step:  600, negative critic loss:  -0.0341, time:  12 s\n"
          ]
        },
        {
          "output_type": "stream",
          "name": "stderr",
          "text": [
            "<ipython-input-2-574068bb8da8>:49: FutureWarning: \n",
            "\n",
            "`shade` is now deprecated in favor of `fill`; setting `fill=True`.\n",
            "This will become an error in seaborn v0.14.0; please update your code.\n",
            "\n",
            "  sns.kdeplot(d.flatten(), shade=True, ax=self.ax2, label='Real data')\n",
            "<ipython-input-2-574068bb8da8>:50: FutureWarning: \n",
            "\n",
            "`shade` is now deprecated in favor of `fill`; setting `fill=True`.\n",
            "This will become an error in seaborn v0.14.0; please update your code.\n",
            "\n",
            "  sns.kdeplot(g.flatten(), shade=True, ax=self.ax2, label='Generated data')\n"
          ]
        },
        {
          "output_type": "stream",
          "name": "stdout",
          "text": [
            "step:  650, negative critic loss:  -0.0303, time:  12 s\n"
          ]
        },
        {
          "output_type": "stream",
          "name": "stderr",
          "text": [
            "<ipython-input-2-574068bb8da8>:49: FutureWarning: \n",
            "\n",
            "`shade` is now deprecated in favor of `fill`; setting `fill=True`.\n",
            "This will become an error in seaborn v0.14.0; please update your code.\n",
            "\n",
            "  sns.kdeplot(d.flatten(), shade=True, ax=self.ax2, label='Real data')\n",
            "<ipython-input-2-574068bb8da8>:50: FutureWarning: \n",
            "\n",
            "`shade` is now deprecated in favor of `fill`; setting `fill=True`.\n",
            "This will become an error in seaborn v0.14.0; please update your code.\n",
            "\n",
            "  sns.kdeplot(g.flatten(), shade=True, ax=self.ax2, label='Generated data')\n"
          ]
        },
        {
          "output_type": "stream",
          "name": "stdout",
          "text": [
            "step:  700, negative critic loss:   0.0552, time:  13 s\n"
          ]
        },
        {
          "output_type": "stream",
          "name": "stderr",
          "text": [
            "<ipython-input-2-574068bb8da8>:49: FutureWarning: \n",
            "\n",
            "`shade` is now deprecated in favor of `fill`; setting `fill=True`.\n",
            "This will become an error in seaborn v0.14.0; please update your code.\n",
            "\n",
            "  sns.kdeplot(d.flatten(), shade=True, ax=self.ax2, label='Real data')\n",
            "<ipython-input-2-574068bb8da8>:50: FutureWarning: \n",
            "\n",
            "`shade` is now deprecated in favor of `fill`; setting `fill=True`.\n",
            "This will become an error in seaborn v0.14.0; please update your code.\n",
            "\n",
            "  sns.kdeplot(g.flatten(), shade=True, ax=self.ax2, label='Generated data')\n"
          ]
        },
        {
          "output_type": "stream",
          "name": "stdout",
          "text": [
            "step:  750, negative critic loss:  -0.0406, time:  14 s\n"
          ]
        },
        {
          "output_type": "stream",
          "name": "stderr",
          "text": [
            "<ipython-input-2-574068bb8da8>:49: FutureWarning: \n",
            "\n",
            "`shade` is now deprecated in favor of `fill`; setting `fill=True`.\n",
            "This will become an error in seaborn v0.14.0; please update your code.\n",
            "\n",
            "  sns.kdeplot(d.flatten(), shade=True, ax=self.ax2, label='Real data')\n",
            "<ipython-input-2-574068bb8da8>:50: FutureWarning: \n",
            "\n",
            "`shade` is now deprecated in favor of `fill`; setting `fill=True`.\n",
            "This will become an error in seaborn v0.14.0; please update your code.\n",
            "\n",
            "  sns.kdeplot(g.flatten(), shade=True, ax=self.ax2, label='Generated data')\n"
          ]
        },
        {
          "output_type": "stream",
          "name": "stdout",
          "text": [
            "step:  800, negative critic loss:   0.0015, time:  15 s\n"
          ]
        },
        {
          "output_type": "stream",
          "name": "stderr",
          "text": [
            "<ipython-input-2-574068bb8da8>:49: FutureWarning: \n",
            "\n",
            "`shade` is now deprecated in favor of `fill`; setting `fill=True`.\n",
            "This will become an error in seaborn v0.14.0; please update your code.\n",
            "\n",
            "  sns.kdeplot(d.flatten(), shade=True, ax=self.ax2, label='Real data')\n",
            "<ipython-input-2-574068bb8da8>:50: FutureWarning: \n",
            "\n",
            "`shade` is now deprecated in favor of `fill`; setting `fill=True`.\n",
            "This will become an error in seaborn v0.14.0; please update your code.\n",
            "\n",
            "  sns.kdeplot(g.flatten(), shade=True, ax=self.ax2, label='Generated data')\n"
          ]
        },
        {
          "output_type": "stream",
          "name": "stdout",
          "text": [
            "step:  850, negative critic loss:   0.0049, time:  16 s\n"
          ]
        },
        {
          "output_type": "stream",
          "name": "stderr",
          "text": [
            "<ipython-input-2-574068bb8da8>:49: FutureWarning: \n",
            "\n",
            "`shade` is now deprecated in favor of `fill`; setting `fill=True`.\n",
            "This will become an error in seaborn v0.14.0; please update your code.\n",
            "\n",
            "  sns.kdeplot(d.flatten(), shade=True, ax=self.ax2, label='Real data')\n",
            "<ipython-input-2-574068bb8da8>:50: FutureWarning: \n",
            "\n",
            "`shade` is now deprecated in favor of `fill`; setting `fill=True`.\n",
            "This will become an error in seaborn v0.14.0; please update your code.\n",
            "\n",
            "  sns.kdeplot(g.flatten(), shade=True, ax=self.ax2, label='Generated data')\n"
          ]
        },
        {
          "output_type": "stream",
          "name": "stdout",
          "text": [
            "step:  900, negative critic loss:   0.0367, time:  17 s\n"
          ]
        },
        {
          "output_type": "stream",
          "name": "stderr",
          "text": [
            "<ipython-input-2-574068bb8da8>:49: FutureWarning: \n",
            "\n",
            "`shade` is now deprecated in favor of `fill`; setting `fill=True`.\n",
            "This will become an error in seaborn v0.14.0; please update your code.\n",
            "\n",
            "  sns.kdeplot(d.flatten(), shade=True, ax=self.ax2, label='Real data')\n",
            "<ipython-input-2-574068bb8da8>:50: FutureWarning: \n",
            "\n",
            "`shade` is now deprecated in favor of `fill`; setting `fill=True`.\n",
            "This will become an error in seaborn v0.14.0; please update your code.\n",
            "\n",
            "  sns.kdeplot(g.flatten(), shade=True, ax=self.ax2, label='Generated data')\n"
          ]
        },
        {
          "output_type": "stream",
          "name": "stdout",
          "text": [
            "step:  950, negative critic loss:   0.0038, time:  18 s\n"
          ]
        },
        {
          "output_type": "stream",
          "name": "stderr",
          "text": [
            "<ipython-input-2-574068bb8da8>:49: FutureWarning: \n",
            "\n",
            "`shade` is now deprecated in favor of `fill`; setting `fill=True`.\n",
            "This will become an error in seaborn v0.14.0; please update your code.\n",
            "\n",
            "  sns.kdeplot(d.flatten(), shade=True, ax=self.ax2, label='Real data')\n",
            "<ipython-input-2-574068bb8da8>:50: FutureWarning: \n",
            "\n",
            "`shade` is now deprecated in favor of `fill`; setting `fill=True`.\n",
            "This will become an error in seaborn v0.14.0; please update your code.\n",
            "\n",
            "  sns.kdeplot(g.flatten(), shade=True, ax=self.ax2, label='Generated data')\n"
          ]
        },
        {
          "output_type": "stream",
          "name": "stdout",
          "text": [
            "step: 1000, negative critic loss:  -0.0345, time:  19 s\n"
          ]
        },
        {
          "output_type": "stream",
          "name": "stderr",
          "text": [
            "<ipython-input-2-574068bb8da8>:49: FutureWarning: \n",
            "\n",
            "`shade` is now deprecated in favor of `fill`; setting `fill=True`.\n",
            "This will become an error in seaborn v0.14.0; please update your code.\n",
            "\n",
            "  sns.kdeplot(d.flatten(), shade=True, ax=self.ax2, label='Real data')\n",
            "<ipython-input-2-574068bb8da8>:50: FutureWarning: \n",
            "\n",
            "`shade` is now deprecated in favor of `fill`; setting `fill=True`.\n",
            "This will become an error in seaborn v0.14.0; please update your code.\n",
            "\n",
            "  sns.kdeplot(g.flatten(), shade=True, ax=self.ax2, label='Generated data')\n"
          ]
        },
        {
          "output_type": "stream",
          "name": "stdout",
          "text": [
            "step: 1050, negative critic loss:  -0.0316, time:  20 s\n"
          ]
        },
        {
          "output_type": "stream",
          "name": "stderr",
          "text": [
            "<ipython-input-2-574068bb8da8>:49: FutureWarning: \n",
            "\n",
            "`shade` is now deprecated in favor of `fill`; setting `fill=True`.\n",
            "This will become an error in seaborn v0.14.0; please update your code.\n",
            "\n",
            "  sns.kdeplot(d.flatten(), shade=True, ax=self.ax2, label='Real data')\n",
            "<ipython-input-2-574068bb8da8>:50: FutureWarning: \n",
            "\n",
            "`shade` is now deprecated in favor of `fill`; setting `fill=True`.\n",
            "This will become an error in seaborn v0.14.0; please update your code.\n",
            "\n",
            "  sns.kdeplot(g.flatten(), shade=True, ax=self.ax2, label='Generated data')\n"
          ]
        },
        {
          "output_type": "stream",
          "name": "stdout",
          "text": [
            "step: 1100, negative critic loss:   0.0437, time:  21 s\n"
          ]
        },
        {
          "output_type": "stream",
          "name": "stderr",
          "text": [
            "<ipython-input-2-574068bb8da8>:49: FutureWarning: \n",
            "\n",
            "`shade` is now deprecated in favor of `fill`; setting `fill=True`.\n",
            "This will become an error in seaborn v0.14.0; please update your code.\n",
            "\n",
            "  sns.kdeplot(d.flatten(), shade=True, ax=self.ax2, label='Real data')\n",
            "<ipython-input-2-574068bb8da8>:50: FutureWarning: \n",
            "\n",
            "`shade` is now deprecated in favor of `fill`; setting `fill=True`.\n",
            "This will become an error in seaborn v0.14.0; please update your code.\n",
            "\n",
            "  sns.kdeplot(g.flatten(), shade=True, ax=self.ax2, label='Generated data')\n"
          ]
        },
        {
          "output_type": "stream",
          "name": "stdout",
          "text": [
            "step: 1150, negative critic loss:   0.0010, time:  22 s\n"
          ]
        },
        {
          "output_type": "stream",
          "name": "stderr",
          "text": [
            "<ipython-input-2-574068bb8da8>:49: FutureWarning: \n",
            "\n",
            "`shade` is now deprecated in favor of `fill`; setting `fill=True`.\n",
            "This will become an error in seaborn v0.14.0; please update your code.\n",
            "\n",
            "  sns.kdeplot(d.flatten(), shade=True, ax=self.ax2, label='Real data')\n",
            "<ipython-input-2-574068bb8da8>:50: FutureWarning: \n",
            "\n",
            "`shade` is now deprecated in favor of `fill`; setting `fill=True`.\n",
            "This will become an error in seaborn v0.14.0; please update your code.\n",
            "\n",
            "  sns.kdeplot(g.flatten(), shade=True, ax=self.ax2, label='Generated data')\n"
          ]
        },
        {
          "output_type": "stream",
          "name": "stdout",
          "text": [
            "step: 1200, negative critic loss:  -0.0251, time:  23 s\n"
          ]
        },
        {
          "output_type": "stream",
          "name": "stderr",
          "text": [
            "<ipython-input-2-574068bb8da8>:49: FutureWarning: \n",
            "\n",
            "`shade` is now deprecated in favor of `fill`; setting `fill=True`.\n",
            "This will become an error in seaborn v0.14.0; please update your code.\n",
            "\n",
            "  sns.kdeplot(d.flatten(), shade=True, ax=self.ax2, label='Real data')\n",
            "<ipython-input-2-574068bb8da8>:50: FutureWarning: \n",
            "\n",
            "`shade` is now deprecated in favor of `fill`; setting `fill=True`.\n",
            "This will become an error in seaborn v0.14.0; please update your code.\n",
            "\n",
            "  sns.kdeplot(g.flatten(), shade=True, ax=self.ax2, label='Generated data')\n"
          ]
        },
        {
          "output_type": "stream",
          "name": "stdout",
          "text": [
            "step: 1250, negative critic loss:  -0.0272, time:  24 s\n"
          ]
        },
        {
          "output_type": "stream",
          "name": "stderr",
          "text": [
            "<ipython-input-2-574068bb8da8>:49: FutureWarning: \n",
            "\n",
            "`shade` is now deprecated in favor of `fill`; setting `fill=True`.\n",
            "This will become an error in seaborn v0.14.0; please update your code.\n",
            "\n",
            "  sns.kdeplot(d.flatten(), shade=True, ax=self.ax2, label='Real data')\n",
            "<ipython-input-2-574068bb8da8>:50: FutureWarning: \n",
            "\n",
            "`shade` is now deprecated in favor of `fill`; setting `fill=True`.\n",
            "This will become an error in seaborn v0.14.0; please update your code.\n",
            "\n",
            "  sns.kdeplot(g.flatten(), shade=True, ax=self.ax2, label='Generated data')\n"
          ]
        },
        {
          "output_type": "stream",
          "name": "stdout",
          "text": [
            "step: 1300, negative critic loss:   0.0106, time:  25 s\n"
          ]
        },
        {
          "output_type": "stream",
          "name": "stderr",
          "text": [
            "<ipython-input-2-574068bb8da8>:49: FutureWarning: \n",
            "\n",
            "`shade` is now deprecated in favor of `fill`; setting `fill=True`.\n",
            "This will become an error in seaborn v0.14.0; please update your code.\n",
            "\n",
            "  sns.kdeplot(d.flatten(), shade=True, ax=self.ax2, label='Real data')\n",
            "<ipython-input-2-574068bb8da8>:50: FutureWarning: \n",
            "\n",
            "`shade` is now deprecated in favor of `fill`; setting `fill=True`.\n",
            "This will become an error in seaborn v0.14.0; please update your code.\n",
            "\n",
            "  sns.kdeplot(g.flatten(), shade=True, ax=self.ax2, label='Generated data')\n"
          ]
        },
        {
          "output_type": "stream",
          "name": "stdout",
          "text": [
            "step: 1350, negative critic loss:  -0.0036, time:  26 s\n"
          ]
        },
        {
          "output_type": "stream",
          "name": "stderr",
          "text": [
            "<ipython-input-2-574068bb8da8>:49: FutureWarning: \n",
            "\n",
            "`shade` is now deprecated in favor of `fill`; setting `fill=True`.\n",
            "This will become an error in seaborn v0.14.0; please update your code.\n",
            "\n",
            "  sns.kdeplot(d.flatten(), shade=True, ax=self.ax2, label='Real data')\n",
            "<ipython-input-2-574068bb8da8>:50: FutureWarning: \n",
            "\n",
            "`shade` is now deprecated in favor of `fill`; setting `fill=True`.\n",
            "This will become an error in seaborn v0.14.0; please update your code.\n",
            "\n",
            "  sns.kdeplot(g.flatten(), shade=True, ax=self.ax2, label='Generated data')\n"
          ]
        },
        {
          "output_type": "stream",
          "name": "stdout",
          "text": [
            "step: 1400, negative critic loss:   0.0153, time:  26 s\n"
          ]
        },
        {
          "output_type": "stream",
          "name": "stderr",
          "text": [
            "<ipython-input-2-574068bb8da8>:49: FutureWarning: \n",
            "\n",
            "`shade` is now deprecated in favor of `fill`; setting `fill=True`.\n",
            "This will become an error in seaborn v0.14.0; please update your code.\n",
            "\n",
            "  sns.kdeplot(d.flatten(), shade=True, ax=self.ax2, label='Real data')\n",
            "<ipython-input-2-574068bb8da8>:50: FutureWarning: \n",
            "\n",
            "`shade` is now deprecated in favor of `fill`; setting `fill=True`.\n",
            "This will become an error in seaborn v0.14.0; please update your code.\n",
            "\n",
            "  sns.kdeplot(g.flatten(), shade=True, ax=self.ax2, label='Generated data')\n"
          ]
        },
        {
          "output_type": "stream",
          "name": "stdout",
          "text": [
            "step: 1450, negative critic loss:   0.0231, time:  27 s\n"
          ]
        },
        {
          "output_type": "stream",
          "name": "stderr",
          "text": [
            "<ipython-input-2-574068bb8da8>:49: FutureWarning: \n",
            "\n",
            "`shade` is now deprecated in favor of `fill`; setting `fill=True`.\n",
            "This will become an error in seaborn v0.14.0; please update your code.\n",
            "\n",
            "  sns.kdeplot(d.flatten(), shade=True, ax=self.ax2, label='Real data')\n",
            "<ipython-input-2-574068bb8da8>:50: FutureWarning: \n",
            "\n",
            "`shade` is now deprecated in favor of `fill`; setting `fill=True`.\n",
            "This will become an error in seaborn v0.14.0; please update your code.\n",
            "\n",
            "  sns.kdeplot(g.flatten(), shade=True, ax=self.ax2, label='Generated data')\n"
          ]
        },
        {
          "output_type": "stream",
          "name": "stdout",
          "text": [
            "step: 1500, negative critic loss:  -0.0409, time:  28 s\n"
          ]
        },
        {
          "output_type": "stream",
          "name": "stderr",
          "text": [
            "<ipython-input-2-574068bb8da8>:49: FutureWarning: \n",
            "\n",
            "`shade` is now deprecated in favor of `fill`; setting `fill=True`.\n",
            "This will become an error in seaborn v0.14.0; please update your code.\n",
            "\n",
            "  sns.kdeplot(d.flatten(), shade=True, ax=self.ax2, label='Real data')\n",
            "<ipython-input-2-574068bb8da8>:50: FutureWarning: \n",
            "\n",
            "`shade` is now deprecated in favor of `fill`; setting `fill=True`.\n",
            "This will become an error in seaborn v0.14.0; please update your code.\n",
            "\n",
            "  sns.kdeplot(g.flatten(), shade=True, ax=self.ax2, label='Generated data')\n"
          ]
        },
        {
          "output_type": "stream",
          "name": "stdout",
          "text": [
            "step: 1550, negative critic loss:  -0.0272, time:  29 s\n"
          ]
        },
        {
          "output_type": "stream",
          "name": "stderr",
          "text": [
            "<ipython-input-2-574068bb8da8>:49: FutureWarning: \n",
            "\n",
            "`shade` is now deprecated in favor of `fill`; setting `fill=True`.\n",
            "This will become an error in seaborn v0.14.0; please update your code.\n",
            "\n",
            "  sns.kdeplot(d.flatten(), shade=True, ax=self.ax2, label='Real data')\n",
            "<ipython-input-2-574068bb8da8>:50: FutureWarning: \n",
            "\n",
            "`shade` is now deprecated in favor of `fill`; setting `fill=True`.\n",
            "This will become an error in seaborn v0.14.0; please update your code.\n",
            "\n",
            "  sns.kdeplot(g.flatten(), shade=True, ax=self.ax2, label='Generated data')\n"
          ]
        },
        {
          "output_type": "stream",
          "name": "stdout",
          "text": [
            "step: 1600, negative critic loss:  -0.0096, time:  30 s\n"
          ]
        },
        {
          "output_type": "stream",
          "name": "stderr",
          "text": [
            "<ipython-input-2-574068bb8da8>:49: FutureWarning: \n",
            "\n",
            "`shade` is now deprecated in favor of `fill`; setting `fill=True`.\n",
            "This will become an error in seaborn v0.14.0; please update your code.\n",
            "\n",
            "  sns.kdeplot(d.flatten(), shade=True, ax=self.ax2, label='Real data')\n",
            "<ipython-input-2-574068bb8da8>:50: FutureWarning: \n",
            "\n",
            "`shade` is now deprecated in favor of `fill`; setting `fill=True`.\n",
            "This will become an error in seaborn v0.14.0; please update your code.\n",
            "\n",
            "  sns.kdeplot(g.flatten(), shade=True, ax=self.ax2, label='Generated data')\n"
          ]
        },
        {
          "output_type": "stream",
          "name": "stdout",
          "text": [
            "step: 1650, negative critic loss:  -0.0084, time:  33 s\n"
          ]
        },
        {
          "output_type": "stream",
          "name": "stderr",
          "text": [
            "<ipython-input-2-574068bb8da8>:49: FutureWarning: \n",
            "\n",
            "`shade` is now deprecated in favor of `fill`; setting `fill=True`.\n",
            "This will become an error in seaborn v0.14.0; please update your code.\n",
            "\n",
            "  sns.kdeplot(d.flatten(), shade=True, ax=self.ax2, label='Real data')\n",
            "<ipython-input-2-574068bb8da8>:50: FutureWarning: \n",
            "\n",
            "`shade` is now deprecated in favor of `fill`; setting `fill=True`.\n",
            "This will become an error in seaborn v0.14.0; please update your code.\n",
            "\n",
            "  sns.kdeplot(g.flatten(), shade=True, ax=self.ax2, label='Generated data')\n"
          ]
        },
        {
          "output_type": "stream",
          "name": "stdout",
          "text": [
            "step: 1700, negative critic loss:  -0.0024, time:  34 s\n"
          ]
        },
        {
          "output_type": "stream",
          "name": "stderr",
          "text": [
            "<ipython-input-2-574068bb8da8>:49: FutureWarning: \n",
            "\n",
            "`shade` is now deprecated in favor of `fill`; setting `fill=True`.\n",
            "This will become an error in seaborn v0.14.0; please update your code.\n",
            "\n",
            "  sns.kdeplot(d.flatten(), shade=True, ax=self.ax2, label='Real data')\n",
            "<ipython-input-2-574068bb8da8>:50: FutureWarning: \n",
            "\n",
            "`shade` is now deprecated in favor of `fill`; setting `fill=True`.\n",
            "This will become an error in seaborn v0.14.0; please update your code.\n",
            "\n",
            "  sns.kdeplot(g.flatten(), shade=True, ax=self.ax2, label='Generated data')\n"
          ]
        },
        {
          "output_type": "stream",
          "name": "stdout",
          "text": [
            "step: 1750, negative critic loss:  -0.0489, time:  35 s\n"
          ]
        },
        {
          "output_type": "stream",
          "name": "stderr",
          "text": [
            "<ipython-input-2-574068bb8da8>:49: FutureWarning: \n",
            "\n",
            "`shade` is now deprecated in favor of `fill`; setting `fill=True`.\n",
            "This will become an error in seaborn v0.14.0; please update your code.\n",
            "\n",
            "  sns.kdeplot(d.flatten(), shade=True, ax=self.ax2, label='Real data')\n",
            "<ipython-input-2-574068bb8da8>:50: FutureWarning: \n",
            "\n",
            "`shade` is now deprecated in favor of `fill`; setting `fill=True`.\n",
            "This will become an error in seaborn v0.14.0; please update your code.\n",
            "\n",
            "  sns.kdeplot(g.flatten(), shade=True, ax=self.ax2, label='Generated data')\n"
          ]
        },
        {
          "output_type": "stream",
          "name": "stdout",
          "text": [
            "step: 1800, negative critic loss:  -0.0125, time:  36 s\n"
          ]
        },
        {
          "output_type": "stream",
          "name": "stderr",
          "text": [
            "<ipython-input-2-574068bb8da8>:49: FutureWarning: \n",
            "\n",
            "`shade` is now deprecated in favor of `fill`; setting `fill=True`.\n",
            "This will become an error in seaborn v0.14.0; please update your code.\n",
            "\n",
            "  sns.kdeplot(d.flatten(), shade=True, ax=self.ax2, label='Real data')\n",
            "<ipython-input-2-574068bb8da8>:50: FutureWarning: \n",
            "\n",
            "`shade` is now deprecated in favor of `fill`; setting `fill=True`.\n",
            "This will become an error in seaborn v0.14.0; please update your code.\n",
            "\n",
            "  sns.kdeplot(g.flatten(), shade=True, ax=self.ax2, label='Generated data')\n"
          ]
        },
        {
          "output_type": "stream",
          "name": "stdout",
          "text": [
            "step: 1850, negative critic loss:   0.0553, time:  37 s\n"
          ]
        },
        {
          "output_type": "stream",
          "name": "stderr",
          "text": [
            "<ipython-input-2-574068bb8da8>:49: FutureWarning: \n",
            "\n",
            "`shade` is now deprecated in favor of `fill`; setting `fill=True`.\n",
            "This will become an error in seaborn v0.14.0; please update your code.\n",
            "\n",
            "  sns.kdeplot(d.flatten(), shade=True, ax=self.ax2, label='Real data')\n",
            "<ipython-input-2-574068bb8da8>:50: FutureWarning: \n",
            "\n",
            "`shade` is now deprecated in favor of `fill`; setting `fill=True`.\n",
            "This will become an error in seaborn v0.14.0; please update your code.\n",
            "\n",
            "  sns.kdeplot(g.flatten(), shade=True, ax=self.ax2, label='Generated data')\n"
          ]
        },
        {
          "output_type": "stream",
          "name": "stdout",
          "text": [
            "step: 1900, negative critic loss:   0.0051, time:  38 s\n"
          ]
        },
        {
          "output_type": "stream",
          "name": "stderr",
          "text": [
            "<ipython-input-2-574068bb8da8>:49: FutureWarning: \n",
            "\n",
            "`shade` is now deprecated in favor of `fill`; setting `fill=True`.\n",
            "This will become an error in seaborn v0.14.0; please update your code.\n",
            "\n",
            "  sns.kdeplot(d.flatten(), shade=True, ax=self.ax2, label='Real data')\n",
            "<ipython-input-2-574068bb8da8>:50: FutureWarning: \n",
            "\n",
            "`shade` is now deprecated in favor of `fill`; setting `fill=True`.\n",
            "This will become an error in seaborn v0.14.0; please update your code.\n",
            "\n",
            "  sns.kdeplot(g.flatten(), shade=True, ax=self.ax2, label='Generated data')\n"
          ]
        },
        {
          "output_type": "stream",
          "name": "stdout",
          "text": [
            "step: 1950, negative critic loss:  -0.0008, time:  38 s\n"
          ]
        },
        {
          "output_type": "stream",
          "name": "stderr",
          "text": [
            "<ipython-input-2-574068bb8da8>:49: FutureWarning: \n",
            "\n",
            "`shade` is now deprecated in favor of `fill`; setting `fill=True`.\n",
            "This will become an error in seaborn v0.14.0; please update your code.\n",
            "\n",
            "  sns.kdeplot(d.flatten(), shade=True, ax=self.ax2, label='Real data')\n",
            "<ipython-input-2-574068bb8da8>:50: FutureWarning: \n",
            "\n",
            "`shade` is now deprecated in favor of `fill`; setting `fill=True`.\n",
            "This will become an error in seaborn v0.14.0; please update your code.\n",
            "\n",
            "  sns.kdeplot(g.flatten(), shade=True, ax=self.ax2, label='Generated data')\n"
          ]
        },
        {
          "output_type": "stream",
          "name": "stdout",
          "text": [
            "step: 2000, negative critic loss:  -0.0289, time:  39 s\n"
          ]
        },
        {
          "output_type": "stream",
          "name": "stderr",
          "text": [
            "<ipython-input-2-574068bb8da8>:49: FutureWarning: \n",
            "\n",
            "`shade` is now deprecated in favor of `fill`; setting `fill=True`.\n",
            "This will become an error in seaborn v0.14.0; please update your code.\n",
            "\n",
            "  sns.kdeplot(d.flatten(), shade=True, ax=self.ax2, label='Real data')\n",
            "<ipython-input-2-574068bb8da8>:50: FutureWarning: \n",
            "\n",
            "`shade` is now deprecated in favor of `fill`; setting `fill=True`.\n",
            "This will become an error in seaborn v0.14.0; please update your code.\n",
            "\n",
            "  sns.kdeplot(g.flatten(), shade=True, ax=self.ax2, label='Generated data')\n"
          ]
        },
        {
          "output_type": "stream",
          "name": "stdout",
          "text": [
            "step: 2050, negative critic loss:  -0.0403, time:  40 s\n"
          ]
        },
        {
          "output_type": "stream",
          "name": "stderr",
          "text": [
            "<ipython-input-2-574068bb8da8>:49: FutureWarning: \n",
            "\n",
            "`shade` is now deprecated in favor of `fill`; setting `fill=True`.\n",
            "This will become an error in seaborn v0.14.0; please update your code.\n",
            "\n",
            "  sns.kdeplot(d.flatten(), shade=True, ax=self.ax2, label='Real data')\n",
            "<ipython-input-2-574068bb8da8>:50: FutureWarning: \n",
            "\n",
            "`shade` is now deprecated in favor of `fill`; setting `fill=True`.\n",
            "This will become an error in seaborn v0.14.0; please update your code.\n",
            "\n",
            "  sns.kdeplot(g.flatten(), shade=True, ax=self.ax2, label='Generated data')\n"
          ]
        },
        {
          "output_type": "stream",
          "name": "stdout",
          "text": [
            "step: 2100, negative critic loss:  -0.0168, time:  41 s\n"
          ]
        },
        {
          "output_type": "stream",
          "name": "stderr",
          "text": [
            "<ipython-input-2-574068bb8da8>:49: FutureWarning: \n",
            "\n",
            "`shade` is now deprecated in favor of `fill`; setting `fill=True`.\n",
            "This will become an error in seaborn v0.14.0; please update your code.\n",
            "\n",
            "  sns.kdeplot(d.flatten(), shade=True, ax=self.ax2, label='Real data')\n",
            "<ipython-input-2-574068bb8da8>:50: FutureWarning: \n",
            "\n",
            "`shade` is now deprecated in favor of `fill`; setting `fill=True`.\n",
            "This will become an error in seaborn v0.14.0; please update your code.\n",
            "\n",
            "  sns.kdeplot(g.flatten(), shade=True, ax=self.ax2, label='Generated data')\n"
          ]
        },
        {
          "output_type": "stream",
          "name": "stdout",
          "text": [
            "step: 2150, negative critic loss:  -0.0319, time:  42 s\n"
          ]
        },
        {
          "output_type": "stream",
          "name": "stderr",
          "text": [
            "<ipython-input-2-574068bb8da8>:49: FutureWarning: \n",
            "\n",
            "`shade` is now deprecated in favor of `fill`; setting `fill=True`.\n",
            "This will become an error in seaborn v0.14.0; please update your code.\n",
            "\n",
            "  sns.kdeplot(d.flatten(), shade=True, ax=self.ax2, label='Real data')\n",
            "<ipython-input-2-574068bb8da8>:50: FutureWarning: \n",
            "\n",
            "`shade` is now deprecated in favor of `fill`; setting `fill=True`.\n",
            "This will become an error in seaborn v0.14.0; please update your code.\n",
            "\n",
            "  sns.kdeplot(g.flatten(), shade=True, ax=self.ax2, label='Generated data')\n"
          ]
        },
        {
          "output_type": "stream",
          "name": "stdout",
          "text": [
            "step: 2200, negative critic loss:  -0.0619, time:  43 s\n"
          ]
        },
        {
          "output_type": "stream",
          "name": "stderr",
          "text": [
            "<ipython-input-2-574068bb8da8>:49: FutureWarning: \n",
            "\n",
            "`shade` is now deprecated in favor of `fill`; setting `fill=True`.\n",
            "This will become an error in seaborn v0.14.0; please update your code.\n",
            "\n",
            "  sns.kdeplot(d.flatten(), shade=True, ax=self.ax2, label='Real data')\n",
            "<ipython-input-2-574068bb8da8>:50: FutureWarning: \n",
            "\n",
            "`shade` is now deprecated in favor of `fill`; setting `fill=True`.\n",
            "This will become an error in seaborn v0.14.0; please update your code.\n",
            "\n",
            "  sns.kdeplot(g.flatten(), shade=True, ax=self.ax2, label='Generated data')\n"
          ]
        },
        {
          "output_type": "stream",
          "name": "stdout",
          "text": [
            "step: 2250, negative critic loss:   0.0202, time:  44 s\n"
          ]
        },
        {
          "output_type": "stream",
          "name": "stderr",
          "text": [
            "<ipython-input-2-574068bb8da8>:49: FutureWarning: \n",
            "\n",
            "`shade` is now deprecated in favor of `fill`; setting `fill=True`.\n",
            "This will become an error in seaborn v0.14.0; please update your code.\n",
            "\n",
            "  sns.kdeplot(d.flatten(), shade=True, ax=self.ax2, label='Real data')\n",
            "<ipython-input-2-574068bb8da8>:50: FutureWarning: \n",
            "\n",
            "`shade` is now deprecated in favor of `fill`; setting `fill=True`.\n",
            "This will become an error in seaborn v0.14.0; please update your code.\n",
            "\n",
            "  sns.kdeplot(g.flatten(), shade=True, ax=self.ax2, label='Generated data')\n"
          ]
        },
        {
          "output_type": "stream",
          "name": "stdout",
          "text": [
            "step: 2300, negative critic loss:   0.0087, time:  45 s\n"
          ]
        },
        {
          "output_type": "stream",
          "name": "stderr",
          "text": [
            "<ipython-input-2-574068bb8da8>:49: FutureWarning: \n",
            "\n",
            "`shade` is now deprecated in favor of `fill`; setting `fill=True`.\n",
            "This will become an error in seaborn v0.14.0; please update your code.\n",
            "\n",
            "  sns.kdeplot(d.flatten(), shade=True, ax=self.ax2, label='Real data')\n",
            "<ipython-input-2-574068bb8da8>:50: FutureWarning: \n",
            "\n",
            "`shade` is now deprecated in favor of `fill`; setting `fill=True`.\n",
            "This will become an error in seaborn v0.14.0; please update your code.\n",
            "\n",
            "  sns.kdeplot(g.flatten(), shade=True, ax=self.ax2, label='Generated data')\n"
          ]
        },
        {
          "output_type": "stream",
          "name": "stdout",
          "text": [
            "step: 2350, negative critic loss:   0.0181, time:  46 s\n"
          ]
        },
        {
          "output_type": "stream",
          "name": "stderr",
          "text": [
            "<ipython-input-2-574068bb8da8>:49: FutureWarning: \n",
            "\n",
            "`shade` is now deprecated in favor of `fill`; setting `fill=True`.\n",
            "This will become an error in seaborn v0.14.0; please update your code.\n",
            "\n",
            "  sns.kdeplot(d.flatten(), shade=True, ax=self.ax2, label='Real data')\n",
            "<ipython-input-2-574068bb8da8>:50: FutureWarning: \n",
            "\n",
            "`shade` is now deprecated in favor of `fill`; setting `fill=True`.\n",
            "This will become an error in seaborn v0.14.0; please update your code.\n",
            "\n",
            "  sns.kdeplot(g.flatten(), shade=True, ax=self.ax2, label='Generated data')\n"
          ]
        },
        {
          "output_type": "stream",
          "name": "stdout",
          "text": [
            "step: 2400, negative critic loss:   0.0024, time:  47 s\n"
          ]
        },
        {
          "output_type": "stream",
          "name": "stderr",
          "text": [
            "<ipython-input-2-574068bb8da8>:49: FutureWarning: \n",
            "\n",
            "`shade` is now deprecated in favor of `fill`; setting `fill=True`.\n",
            "This will become an error in seaborn v0.14.0; please update your code.\n",
            "\n",
            "  sns.kdeplot(d.flatten(), shade=True, ax=self.ax2, label='Real data')\n",
            "<ipython-input-2-574068bb8da8>:50: FutureWarning: \n",
            "\n",
            "`shade` is now deprecated in favor of `fill`; setting `fill=True`.\n",
            "This will become an error in seaborn v0.14.0; please update your code.\n",
            "\n",
            "  sns.kdeplot(g.flatten(), shade=True, ax=self.ax2, label='Generated data')\n"
          ]
        },
        {
          "output_type": "stream",
          "name": "stdout",
          "text": [
            "step: 2450, negative critic loss:   0.0314, time:  48 s\n"
          ]
        },
        {
          "output_type": "stream",
          "name": "stderr",
          "text": [
            "<ipython-input-2-574068bb8da8>:49: FutureWarning: \n",
            "\n",
            "`shade` is now deprecated in favor of `fill`; setting `fill=True`.\n",
            "This will become an error in seaborn v0.14.0; please update your code.\n",
            "\n",
            "  sns.kdeplot(d.flatten(), shade=True, ax=self.ax2, label='Real data')\n",
            "<ipython-input-2-574068bb8da8>:50: FutureWarning: \n",
            "\n",
            "`shade` is now deprecated in favor of `fill`; setting `fill=True`.\n",
            "This will become an error in seaborn v0.14.0; please update your code.\n",
            "\n",
            "  sns.kdeplot(g.flatten(), shade=True, ax=self.ax2, label='Generated data')\n"
          ]
        },
        {
          "output_type": "stream",
          "name": "stdout",
          "text": [
            "step: 2500, negative critic loss:   0.0060, time:  50 s\n"
          ]
        },
        {
          "output_type": "stream",
          "name": "stderr",
          "text": [
            "<ipython-input-2-574068bb8da8>:49: FutureWarning: \n",
            "\n",
            "`shade` is now deprecated in favor of `fill`; setting `fill=True`.\n",
            "This will become an error in seaborn v0.14.0; please update your code.\n",
            "\n",
            "  sns.kdeplot(d.flatten(), shade=True, ax=self.ax2, label='Real data')\n",
            "<ipython-input-2-574068bb8da8>:50: FutureWarning: \n",
            "\n",
            "`shade` is now deprecated in favor of `fill`; setting `fill=True`.\n",
            "This will become an error in seaborn v0.14.0; please update your code.\n",
            "\n",
            "  sns.kdeplot(g.flatten(), shade=True, ax=self.ax2, label='Generated data')\n"
          ]
        },
        {
          "output_type": "stream",
          "name": "stdout",
          "text": [
            "step: 2550, negative critic loss:   0.0421, time:  51 s\n"
          ]
        },
        {
          "output_type": "stream",
          "name": "stderr",
          "text": [
            "<ipython-input-2-574068bb8da8>:49: FutureWarning: \n",
            "\n",
            "`shade` is now deprecated in favor of `fill`; setting `fill=True`.\n",
            "This will become an error in seaborn v0.14.0; please update your code.\n",
            "\n",
            "  sns.kdeplot(d.flatten(), shade=True, ax=self.ax2, label='Real data')\n",
            "<ipython-input-2-574068bb8da8>:50: FutureWarning: \n",
            "\n",
            "`shade` is now deprecated in favor of `fill`; setting `fill=True`.\n",
            "This will become an error in seaborn v0.14.0; please update your code.\n",
            "\n",
            "  sns.kdeplot(g.flatten(), shade=True, ax=self.ax2, label='Generated data')\n"
          ]
        },
        {
          "output_type": "stream",
          "name": "stdout",
          "text": [
            "step: 2600, negative critic loss:   0.0015, time:  52 s\n"
          ]
        },
        {
          "output_type": "stream",
          "name": "stderr",
          "text": [
            "<ipython-input-2-574068bb8da8>:49: FutureWarning: \n",
            "\n",
            "`shade` is now deprecated in favor of `fill`; setting `fill=True`.\n",
            "This will become an error in seaborn v0.14.0; please update your code.\n",
            "\n",
            "  sns.kdeplot(d.flatten(), shade=True, ax=self.ax2, label='Real data')\n",
            "<ipython-input-2-574068bb8da8>:50: FutureWarning: \n",
            "\n",
            "`shade` is now deprecated in favor of `fill`; setting `fill=True`.\n",
            "This will become an error in seaborn v0.14.0; please update your code.\n",
            "\n",
            "  sns.kdeplot(g.flatten(), shade=True, ax=self.ax2, label='Generated data')\n"
          ]
        },
        {
          "output_type": "stream",
          "name": "stdout",
          "text": [
            "step: 2650, negative critic loss:  -0.0091, time:  53 s\n"
          ]
        },
        {
          "output_type": "stream",
          "name": "stderr",
          "text": [
            "<ipython-input-2-574068bb8da8>:49: FutureWarning: \n",
            "\n",
            "`shade` is now deprecated in favor of `fill`; setting `fill=True`.\n",
            "This will become an error in seaborn v0.14.0; please update your code.\n",
            "\n",
            "  sns.kdeplot(d.flatten(), shade=True, ax=self.ax2, label='Real data')\n",
            "<ipython-input-2-574068bb8da8>:50: FutureWarning: \n",
            "\n",
            "`shade` is now deprecated in favor of `fill`; setting `fill=True`.\n",
            "This will become an error in seaborn v0.14.0; please update your code.\n",
            "\n",
            "  sns.kdeplot(g.flatten(), shade=True, ax=self.ax2, label='Generated data')\n"
          ]
        },
        {
          "output_type": "stream",
          "name": "stdout",
          "text": [
            "step: 2700, negative critic loss:  -0.0001, time:  54 s\n"
          ]
        },
        {
          "output_type": "stream",
          "name": "stderr",
          "text": [
            "<ipython-input-2-574068bb8da8>:49: FutureWarning: \n",
            "\n",
            "`shade` is now deprecated in favor of `fill`; setting `fill=True`.\n",
            "This will become an error in seaborn v0.14.0; please update your code.\n",
            "\n",
            "  sns.kdeplot(d.flatten(), shade=True, ax=self.ax2, label='Real data')\n",
            "<ipython-input-2-574068bb8da8>:50: FutureWarning: \n",
            "\n",
            "`shade` is now deprecated in favor of `fill`; setting `fill=True`.\n",
            "This will become an error in seaborn v0.14.0; please update your code.\n",
            "\n",
            "  sns.kdeplot(g.flatten(), shade=True, ax=self.ax2, label='Generated data')\n"
          ]
        },
        {
          "output_type": "stream",
          "name": "stdout",
          "text": [
            "step: 2750, negative critic loss:   0.0631, time:  54 s\n"
          ]
        },
        {
          "output_type": "stream",
          "name": "stderr",
          "text": [
            "<ipython-input-2-574068bb8da8>:49: FutureWarning: \n",
            "\n",
            "`shade` is now deprecated in favor of `fill`; setting `fill=True`.\n",
            "This will become an error in seaborn v0.14.0; please update your code.\n",
            "\n",
            "  sns.kdeplot(d.flatten(), shade=True, ax=self.ax2, label='Real data')\n",
            "<ipython-input-2-574068bb8da8>:50: FutureWarning: \n",
            "\n",
            "`shade` is now deprecated in favor of `fill`; setting `fill=True`.\n",
            "This will become an error in seaborn v0.14.0; please update your code.\n",
            "\n",
            "  sns.kdeplot(g.flatten(), shade=True, ax=self.ax2, label='Generated data')\n"
          ]
        },
        {
          "output_type": "stream",
          "name": "stdout",
          "text": [
            "step: 2800, negative critic loss:  -0.0326, time:  55 s\n"
          ]
        },
        {
          "output_type": "stream",
          "name": "stderr",
          "text": [
            "<ipython-input-2-574068bb8da8>:49: FutureWarning: \n",
            "\n",
            "`shade` is now deprecated in favor of `fill`; setting `fill=True`.\n",
            "This will become an error in seaborn v0.14.0; please update your code.\n",
            "\n",
            "  sns.kdeplot(d.flatten(), shade=True, ax=self.ax2, label='Real data')\n",
            "<ipython-input-2-574068bb8da8>:50: FutureWarning: \n",
            "\n",
            "`shade` is now deprecated in favor of `fill`; setting `fill=True`.\n",
            "This will become an error in seaborn v0.14.0; please update your code.\n",
            "\n",
            "  sns.kdeplot(g.flatten(), shade=True, ax=self.ax2, label='Generated data')\n"
          ]
        },
        {
          "output_type": "stream",
          "name": "stdout",
          "text": [
            "step: 2850, negative critic loss:  -0.0269, time:  56 s\n"
          ]
        },
        {
          "output_type": "stream",
          "name": "stderr",
          "text": [
            "<ipython-input-2-574068bb8da8>:49: FutureWarning: \n",
            "\n",
            "`shade` is now deprecated in favor of `fill`; setting `fill=True`.\n",
            "This will become an error in seaborn v0.14.0; please update your code.\n",
            "\n",
            "  sns.kdeplot(d.flatten(), shade=True, ax=self.ax2, label='Real data')\n",
            "<ipython-input-2-574068bb8da8>:50: FutureWarning: \n",
            "\n",
            "`shade` is now deprecated in favor of `fill`; setting `fill=True`.\n",
            "This will become an error in seaborn v0.14.0; please update your code.\n",
            "\n",
            "  sns.kdeplot(g.flatten(), shade=True, ax=self.ax2, label='Generated data')\n"
          ]
        },
        {
          "output_type": "stream",
          "name": "stdout",
          "text": [
            "step: 2900, negative critic loss:   0.0427, time:  58 s\n"
          ]
        },
        {
          "output_type": "stream",
          "name": "stderr",
          "text": [
            "<ipython-input-2-574068bb8da8>:49: FutureWarning: \n",
            "\n",
            "`shade` is now deprecated in favor of `fill`; setting `fill=True`.\n",
            "This will become an error in seaborn v0.14.0; please update your code.\n",
            "\n",
            "  sns.kdeplot(d.flatten(), shade=True, ax=self.ax2, label='Real data')\n",
            "<ipython-input-2-574068bb8da8>:50: FutureWarning: \n",
            "\n",
            "`shade` is now deprecated in favor of `fill`; setting `fill=True`.\n",
            "This will become an error in seaborn v0.14.0; please update your code.\n",
            "\n",
            "  sns.kdeplot(g.flatten(), shade=True, ax=self.ax2, label='Generated data')\n"
          ]
        },
        {
          "output_type": "stream",
          "name": "stdout",
          "text": [
            "step: 2950, negative critic loss:  -0.0085, time:  59 s\n"
          ]
        },
        {
          "output_type": "stream",
          "name": "stderr",
          "text": [
            "<ipython-input-2-574068bb8da8>:49: FutureWarning: \n",
            "\n",
            "`shade` is now deprecated in favor of `fill`; setting `fill=True`.\n",
            "This will become an error in seaborn v0.14.0; please update your code.\n",
            "\n",
            "  sns.kdeplot(d.flatten(), shade=True, ax=self.ax2, label='Real data')\n",
            "<ipython-input-2-574068bb8da8>:50: FutureWarning: \n",
            "\n",
            "`shade` is now deprecated in favor of `fill`; setting `fill=True`.\n",
            "This will become an error in seaborn v0.14.0; please update your code.\n",
            "\n",
            "  sns.kdeplot(g.flatten(), shade=True, ax=self.ax2, label='Generated data')\n"
          ]
        },
        {
          "output_type": "stream",
          "name": "stdout",
          "text": [
            "step: 3000, negative critic loss:  -0.0006, time:  60 s\n"
          ]
        },
        {
          "output_type": "stream",
          "name": "stderr",
          "text": [
            "<ipython-input-2-574068bb8da8>:49: FutureWarning: \n",
            "\n",
            "`shade` is now deprecated in favor of `fill`; setting `fill=True`.\n",
            "This will become an error in seaborn v0.14.0; please update your code.\n",
            "\n",
            "  sns.kdeplot(d.flatten(), shade=True, ax=self.ax2, label='Real data')\n",
            "<ipython-input-2-574068bb8da8>:50: FutureWarning: \n",
            "\n",
            "`shade` is now deprecated in favor of `fill`; setting `fill=True`.\n",
            "This will become an error in seaborn v0.14.0; please update your code.\n",
            "\n",
            "  sns.kdeplot(g.flatten(), shade=True, ax=self.ax2, label='Generated data')\n"
          ]
        },
        {
          "output_type": "stream",
          "name": "stdout",
          "text": [
            "step: 3050, negative critic loss:   0.0187, time:  61 s\n"
          ]
        },
        {
          "output_type": "stream",
          "name": "stderr",
          "text": [
            "<ipython-input-2-574068bb8da8>:49: FutureWarning: \n",
            "\n",
            "`shade` is now deprecated in favor of `fill`; setting `fill=True`.\n",
            "This will become an error in seaborn v0.14.0; please update your code.\n",
            "\n",
            "  sns.kdeplot(d.flatten(), shade=True, ax=self.ax2, label='Real data')\n",
            "<ipython-input-2-574068bb8da8>:50: FutureWarning: \n",
            "\n",
            "`shade` is now deprecated in favor of `fill`; setting `fill=True`.\n",
            "This will become an error in seaborn v0.14.0; please update your code.\n",
            "\n",
            "  sns.kdeplot(g.flatten(), shade=True, ax=self.ax2, label='Generated data')\n"
          ]
        },
        {
          "output_type": "stream",
          "name": "stdout",
          "text": [
            "step: 3100, negative critic loss:  -0.0159, time:  62 s\n"
          ]
        },
        {
          "output_type": "stream",
          "name": "stderr",
          "text": [
            "<ipython-input-2-574068bb8da8>:49: FutureWarning: \n",
            "\n",
            "`shade` is now deprecated in favor of `fill`; setting `fill=True`.\n",
            "This will become an error in seaborn v0.14.0; please update your code.\n",
            "\n",
            "  sns.kdeplot(d.flatten(), shade=True, ax=self.ax2, label='Real data')\n",
            "<ipython-input-2-574068bb8da8>:50: FutureWarning: \n",
            "\n",
            "`shade` is now deprecated in favor of `fill`; setting `fill=True`.\n",
            "This will become an error in seaborn v0.14.0; please update your code.\n",
            "\n",
            "  sns.kdeplot(g.flatten(), shade=True, ax=self.ax2, label='Generated data')\n"
          ]
        },
        {
          "output_type": "stream",
          "name": "stdout",
          "text": [
            "step: 3150, negative critic loss:  -0.0277, time:  63 s\n"
          ]
        },
        {
          "output_type": "stream",
          "name": "stderr",
          "text": [
            "<ipython-input-2-574068bb8da8>:49: FutureWarning: \n",
            "\n",
            "`shade` is now deprecated in favor of `fill`; setting `fill=True`.\n",
            "This will become an error in seaborn v0.14.0; please update your code.\n",
            "\n",
            "  sns.kdeplot(d.flatten(), shade=True, ax=self.ax2, label='Real data')\n",
            "<ipython-input-2-574068bb8da8>:50: FutureWarning: \n",
            "\n",
            "`shade` is now deprecated in favor of `fill`; setting `fill=True`.\n",
            "This will become an error in seaborn v0.14.0; please update your code.\n",
            "\n",
            "  sns.kdeplot(g.flatten(), shade=True, ax=self.ax2, label='Generated data')\n"
          ]
        },
        {
          "output_type": "stream",
          "name": "stdout",
          "text": [
            "step: 3200, negative critic loss:   0.0047, time:  63 s\n"
          ]
        },
        {
          "output_type": "stream",
          "name": "stderr",
          "text": [
            "<ipython-input-2-574068bb8da8>:49: FutureWarning: \n",
            "\n",
            "`shade` is now deprecated in favor of `fill`; setting `fill=True`.\n",
            "This will become an error in seaborn v0.14.0; please update your code.\n",
            "\n",
            "  sns.kdeplot(d.flatten(), shade=True, ax=self.ax2, label='Real data')\n",
            "<ipython-input-2-574068bb8da8>:50: FutureWarning: \n",
            "\n",
            "`shade` is now deprecated in favor of `fill`; setting `fill=True`.\n",
            "This will become an error in seaborn v0.14.0; please update your code.\n",
            "\n",
            "  sns.kdeplot(g.flatten(), shade=True, ax=self.ax2, label='Generated data')\n"
          ]
        },
        {
          "output_type": "stream",
          "name": "stdout",
          "text": [
            "step: 3250, negative critic loss:  -0.0109, time:  64 s\n"
          ]
        },
        {
          "output_type": "stream",
          "name": "stderr",
          "text": [
            "<ipython-input-2-574068bb8da8>:49: FutureWarning: \n",
            "\n",
            "`shade` is now deprecated in favor of `fill`; setting `fill=True`.\n",
            "This will become an error in seaborn v0.14.0; please update your code.\n",
            "\n",
            "  sns.kdeplot(d.flatten(), shade=True, ax=self.ax2, label='Real data')\n",
            "<ipython-input-2-574068bb8da8>:50: FutureWarning: \n",
            "\n",
            "`shade` is now deprecated in favor of `fill`; setting `fill=True`.\n",
            "This will become an error in seaborn v0.14.0; please update your code.\n",
            "\n",
            "  sns.kdeplot(g.flatten(), shade=True, ax=self.ax2, label='Generated data')\n"
          ]
        },
        {
          "output_type": "stream",
          "name": "stdout",
          "text": [
            "step: 3300, negative critic loss:   0.0255, time:  65 s\n"
          ]
        },
        {
          "output_type": "stream",
          "name": "stderr",
          "text": [
            "<ipython-input-2-574068bb8da8>:49: FutureWarning: \n",
            "\n",
            "`shade` is now deprecated in favor of `fill`; setting `fill=True`.\n",
            "This will become an error in seaborn v0.14.0; please update your code.\n",
            "\n",
            "  sns.kdeplot(d.flatten(), shade=True, ax=self.ax2, label='Real data')\n",
            "<ipython-input-2-574068bb8da8>:50: FutureWarning: \n",
            "\n",
            "`shade` is now deprecated in favor of `fill`; setting `fill=True`.\n",
            "This will become an error in seaborn v0.14.0; please update your code.\n",
            "\n",
            "  sns.kdeplot(g.flatten(), shade=True, ax=self.ax2, label='Generated data')\n"
          ]
        },
        {
          "output_type": "stream",
          "name": "stdout",
          "text": [
            "step: 3350, negative critic loss:  -0.0203, time:  66 s\n"
          ]
        },
        {
          "output_type": "stream",
          "name": "stderr",
          "text": [
            "<ipython-input-2-574068bb8da8>:49: FutureWarning: \n",
            "\n",
            "`shade` is now deprecated in favor of `fill`; setting `fill=True`.\n",
            "This will become an error in seaborn v0.14.0; please update your code.\n",
            "\n",
            "  sns.kdeplot(d.flatten(), shade=True, ax=self.ax2, label='Real data')\n",
            "<ipython-input-2-574068bb8da8>:50: FutureWarning: \n",
            "\n",
            "`shade` is now deprecated in favor of `fill`; setting `fill=True`.\n",
            "This will become an error in seaborn v0.14.0; please update your code.\n",
            "\n",
            "  sns.kdeplot(g.flatten(), shade=True, ax=self.ax2, label='Generated data')\n"
          ]
        },
        {
          "output_type": "stream",
          "name": "stdout",
          "text": [
            "step: 3400, negative critic loss:   0.0147, time:  67 s\n"
          ]
        },
        {
          "output_type": "stream",
          "name": "stderr",
          "text": [
            "<ipython-input-2-574068bb8da8>:49: FutureWarning: \n",
            "\n",
            "`shade` is now deprecated in favor of `fill`; setting `fill=True`.\n",
            "This will become an error in seaborn v0.14.0; please update your code.\n",
            "\n",
            "  sns.kdeplot(d.flatten(), shade=True, ax=self.ax2, label='Real data')\n",
            "<ipython-input-2-574068bb8da8>:50: FutureWarning: \n",
            "\n",
            "`shade` is now deprecated in favor of `fill`; setting `fill=True`.\n",
            "This will become an error in seaborn v0.14.0; please update your code.\n",
            "\n",
            "  sns.kdeplot(g.flatten(), shade=True, ax=self.ax2, label='Generated data')\n"
          ]
        },
        {
          "output_type": "stream",
          "name": "stdout",
          "text": [
            "step: 3450, negative critic loss:   0.0244, time:  68 s\n"
          ]
        },
        {
          "output_type": "stream",
          "name": "stderr",
          "text": [
            "<ipython-input-2-574068bb8da8>:49: FutureWarning: \n",
            "\n",
            "`shade` is now deprecated in favor of `fill`; setting `fill=True`.\n",
            "This will become an error in seaborn v0.14.0; please update your code.\n",
            "\n",
            "  sns.kdeplot(d.flatten(), shade=True, ax=self.ax2, label='Real data')\n",
            "<ipython-input-2-574068bb8da8>:50: FutureWarning: \n",
            "\n",
            "`shade` is now deprecated in favor of `fill`; setting `fill=True`.\n",
            "This will become an error in seaborn v0.14.0; please update your code.\n",
            "\n",
            "  sns.kdeplot(g.flatten(), shade=True, ax=self.ax2, label='Generated data')\n"
          ]
        },
        {
          "output_type": "stream",
          "name": "stdout",
          "text": [
            "step: 3500, negative critic loss:  -0.0152, time:  69 s\n"
          ]
        },
        {
          "output_type": "stream",
          "name": "stderr",
          "text": [
            "<ipython-input-2-574068bb8da8>:49: FutureWarning: \n",
            "\n",
            "`shade` is now deprecated in favor of `fill`; setting `fill=True`.\n",
            "This will become an error in seaborn v0.14.0; please update your code.\n",
            "\n",
            "  sns.kdeplot(d.flatten(), shade=True, ax=self.ax2, label='Real data')\n",
            "<ipython-input-2-574068bb8da8>:50: FutureWarning: \n",
            "\n",
            "`shade` is now deprecated in favor of `fill`; setting `fill=True`.\n",
            "This will become an error in seaborn v0.14.0; please update your code.\n",
            "\n",
            "  sns.kdeplot(g.flatten(), shade=True, ax=self.ax2, label='Generated data')\n"
          ]
        },
        {
          "output_type": "stream",
          "name": "stdout",
          "text": [
            "step: 3550, negative critic loss:   0.0347, time:  70 s\n"
          ]
        },
        {
          "output_type": "stream",
          "name": "stderr",
          "text": [
            "<ipython-input-2-574068bb8da8>:49: FutureWarning: \n",
            "\n",
            "`shade` is now deprecated in favor of `fill`; setting `fill=True`.\n",
            "This will become an error in seaborn v0.14.0; please update your code.\n",
            "\n",
            "  sns.kdeplot(d.flatten(), shade=True, ax=self.ax2, label='Real data')\n",
            "<ipython-input-2-574068bb8da8>:50: FutureWarning: \n",
            "\n",
            "`shade` is now deprecated in favor of `fill`; setting `fill=True`.\n",
            "This will become an error in seaborn v0.14.0; please update your code.\n",
            "\n",
            "  sns.kdeplot(g.flatten(), shade=True, ax=self.ax2, label='Generated data')\n"
          ]
        },
        {
          "output_type": "stream",
          "name": "stdout",
          "text": [
            "step: 3600, negative critic loss:   0.0326, time:  72 s\n"
          ]
        },
        {
          "output_type": "stream",
          "name": "stderr",
          "text": [
            "<ipython-input-2-574068bb8da8>:49: FutureWarning: \n",
            "\n",
            "`shade` is now deprecated in favor of `fill`; setting `fill=True`.\n",
            "This will become an error in seaborn v0.14.0; please update your code.\n",
            "\n",
            "  sns.kdeplot(d.flatten(), shade=True, ax=self.ax2, label='Real data')\n",
            "<ipython-input-2-574068bb8da8>:50: FutureWarning: \n",
            "\n",
            "`shade` is now deprecated in favor of `fill`; setting `fill=True`.\n",
            "This will become an error in seaborn v0.14.0; please update your code.\n",
            "\n",
            "  sns.kdeplot(g.flatten(), shade=True, ax=self.ax2, label='Generated data')\n"
          ]
        },
        {
          "output_type": "stream",
          "name": "stdout",
          "text": [
            "step: 3650, negative critic loss:  -0.0037, time:  72 s\n"
          ]
        },
        {
          "output_type": "stream",
          "name": "stderr",
          "text": [
            "<ipython-input-2-574068bb8da8>:49: FutureWarning: \n",
            "\n",
            "`shade` is now deprecated in favor of `fill`; setting `fill=True`.\n",
            "This will become an error in seaborn v0.14.0; please update your code.\n",
            "\n",
            "  sns.kdeplot(d.flatten(), shade=True, ax=self.ax2, label='Real data')\n",
            "<ipython-input-2-574068bb8da8>:50: FutureWarning: \n",
            "\n",
            "`shade` is now deprecated in favor of `fill`; setting `fill=True`.\n",
            "This will become an error in seaborn v0.14.0; please update your code.\n",
            "\n",
            "  sns.kdeplot(g.flatten(), shade=True, ax=self.ax2, label='Generated data')\n"
          ]
        },
        {
          "output_type": "stream",
          "name": "stdout",
          "text": [
            "step: 3700, negative critic loss:  -0.0172, time:  73 s\n"
          ]
        },
        {
          "output_type": "stream",
          "name": "stderr",
          "text": [
            "<ipython-input-2-574068bb8da8>:49: FutureWarning: \n",
            "\n",
            "`shade` is now deprecated in favor of `fill`; setting `fill=True`.\n",
            "This will become an error in seaborn v0.14.0; please update your code.\n",
            "\n",
            "  sns.kdeplot(d.flatten(), shade=True, ax=self.ax2, label='Real data')\n",
            "<ipython-input-2-574068bb8da8>:50: FutureWarning: \n",
            "\n",
            "`shade` is now deprecated in favor of `fill`; setting `fill=True`.\n",
            "This will become an error in seaborn v0.14.0; please update your code.\n",
            "\n",
            "  sns.kdeplot(g.flatten(), shade=True, ax=self.ax2, label='Generated data')\n"
          ]
        },
        {
          "output_type": "stream",
          "name": "stdout",
          "text": [
            "step: 3750, negative critic loss:  -0.0279, time:  74 s\n"
          ]
        },
        {
          "output_type": "stream",
          "name": "stderr",
          "text": [
            "<ipython-input-2-574068bb8da8>:49: FutureWarning: \n",
            "\n",
            "`shade` is now deprecated in favor of `fill`; setting `fill=True`.\n",
            "This will become an error in seaborn v0.14.0; please update your code.\n",
            "\n",
            "  sns.kdeplot(d.flatten(), shade=True, ax=self.ax2, label='Real data')\n",
            "<ipython-input-2-574068bb8da8>:50: FutureWarning: \n",
            "\n",
            "`shade` is now deprecated in favor of `fill`; setting `fill=True`.\n",
            "This will become an error in seaborn v0.14.0; please update your code.\n",
            "\n",
            "  sns.kdeplot(g.flatten(), shade=True, ax=self.ax2, label='Generated data')\n"
          ]
        },
        {
          "output_type": "stream",
          "name": "stdout",
          "text": [
            "step: 3800, negative critic loss:   0.0358, time:  75 s\n"
          ]
        },
        {
          "output_type": "stream",
          "name": "stderr",
          "text": [
            "<ipython-input-2-574068bb8da8>:49: FutureWarning: \n",
            "\n",
            "`shade` is now deprecated in favor of `fill`; setting `fill=True`.\n",
            "This will become an error in seaborn v0.14.0; please update your code.\n",
            "\n",
            "  sns.kdeplot(d.flatten(), shade=True, ax=self.ax2, label='Real data')\n",
            "<ipython-input-2-574068bb8da8>:50: FutureWarning: \n",
            "\n",
            "`shade` is now deprecated in favor of `fill`; setting `fill=True`.\n",
            "This will become an error in seaborn v0.14.0; please update your code.\n",
            "\n",
            "  sns.kdeplot(g.flatten(), shade=True, ax=self.ax2, label='Generated data')\n"
          ]
        },
        {
          "output_type": "stream",
          "name": "stdout",
          "text": [
            "step: 3850, negative critic loss:  -0.0051, time:  76 s\n"
          ]
        },
        {
          "output_type": "stream",
          "name": "stderr",
          "text": [
            "<ipython-input-2-574068bb8da8>:49: FutureWarning: \n",
            "\n",
            "`shade` is now deprecated in favor of `fill`; setting `fill=True`.\n",
            "This will become an error in seaborn v0.14.0; please update your code.\n",
            "\n",
            "  sns.kdeplot(d.flatten(), shade=True, ax=self.ax2, label='Real data')\n",
            "<ipython-input-2-574068bb8da8>:50: FutureWarning: \n",
            "\n",
            "`shade` is now deprecated in favor of `fill`; setting `fill=True`.\n",
            "This will become an error in seaborn v0.14.0; please update your code.\n",
            "\n",
            "  sns.kdeplot(g.flatten(), shade=True, ax=self.ax2, label='Generated data')\n"
          ]
        },
        {
          "output_type": "stream",
          "name": "stdout",
          "text": [
            "step: 3900, negative critic loss:  -0.0006, time:  77 s\n"
          ]
        },
        {
          "output_type": "stream",
          "name": "stderr",
          "text": [
            "<ipython-input-2-574068bb8da8>:49: FutureWarning: \n",
            "\n",
            "`shade` is now deprecated in favor of `fill`; setting `fill=True`.\n",
            "This will become an error in seaborn v0.14.0; please update your code.\n",
            "\n",
            "  sns.kdeplot(d.flatten(), shade=True, ax=self.ax2, label='Real data')\n",
            "<ipython-input-2-574068bb8da8>:50: FutureWarning: \n",
            "\n",
            "`shade` is now deprecated in favor of `fill`; setting `fill=True`.\n",
            "This will become an error in seaborn v0.14.0; please update your code.\n",
            "\n",
            "  sns.kdeplot(g.flatten(), shade=True, ax=self.ax2, label='Generated data')\n"
          ]
        },
        {
          "output_type": "stream",
          "name": "stdout",
          "text": [
            "step: 3950, negative critic loss:  -0.0001, time:  78 s\n"
          ]
        },
        {
          "output_type": "stream",
          "name": "stderr",
          "text": [
            "<ipython-input-2-574068bb8da8>:49: FutureWarning: \n",
            "\n",
            "`shade` is now deprecated in favor of `fill`; setting `fill=True`.\n",
            "This will become an error in seaborn v0.14.0; please update your code.\n",
            "\n",
            "  sns.kdeplot(d.flatten(), shade=True, ax=self.ax2, label='Real data')\n",
            "<ipython-input-2-574068bb8da8>:50: FutureWarning: \n",
            "\n",
            "`shade` is now deprecated in favor of `fill`; setting `fill=True`.\n",
            "This will become an error in seaborn v0.14.0; please update your code.\n",
            "\n",
            "  sns.kdeplot(g.flatten(), shade=True, ax=self.ax2, label='Generated data')\n"
          ]
        },
        {
          "output_type": "stream",
          "name": "stdout",
          "text": [
            "step: 4000, negative critic loss:  -0.0012, time:  78 s\n"
          ]
        },
        {
          "output_type": "stream",
          "name": "stderr",
          "text": [
            "<ipython-input-2-574068bb8da8>:49: FutureWarning: \n",
            "\n",
            "`shade` is now deprecated in favor of `fill`; setting `fill=True`.\n",
            "This will become an error in seaborn v0.14.0; please update your code.\n",
            "\n",
            "  sns.kdeplot(d.flatten(), shade=True, ax=self.ax2, label='Real data')\n",
            "<ipython-input-2-574068bb8da8>:50: FutureWarning: \n",
            "\n",
            "`shade` is now deprecated in favor of `fill`; setting `fill=True`.\n",
            "This will become an error in seaborn v0.14.0; please update your code.\n",
            "\n",
            "  sns.kdeplot(g.flatten(), shade=True, ax=self.ax2, label='Generated data')\n"
          ]
        },
        {
          "output_type": "stream",
          "name": "stdout",
          "text": [
            "step: 4050, negative critic loss:   0.0174, time:  79 s\n"
          ]
        },
        {
          "output_type": "stream",
          "name": "stderr",
          "text": [
            "<ipython-input-2-574068bb8da8>:49: FutureWarning: \n",
            "\n",
            "`shade` is now deprecated in favor of `fill`; setting `fill=True`.\n",
            "This will become an error in seaborn v0.14.0; please update your code.\n",
            "\n",
            "  sns.kdeplot(d.flatten(), shade=True, ax=self.ax2, label='Real data')\n",
            "<ipython-input-2-574068bb8da8>:50: FutureWarning: \n",
            "\n",
            "`shade` is now deprecated in favor of `fill`; setting `fill=True`.\n",
            "This will become an error in seaborn v0.14.0; please update your code.\n",
            "\n",
            "  sns.kdeplot(g.flatten(), shade=True, ax=self.ax2, label='Generated data')\n"
          ]
        },
        {
          "output_type": "stream",
          "name": "stdout",
          "text": [
            "step: 4100, negative critic loss:  -0.0496, time:  80 s\n"
          ]
        },
        {
          "output_type": "stream",
          "name": "stderr",
          "text": [
            "<ipython-input-2-574068bb8da8>:49: FutureWarning: \n",
            "\n",
            "`shade` is now deprecated in favor of `fill`; setting `fill=True`.\n",
            "This will become an error in seaborn v0.14.0; please update your code.\n",
            "\n",
            "  sns.kdeplot(d.flatten(), shade=True, ax=self.ax2, label='Real data')\n",
            "<ipython-input-2-574068bb8da8>:50: FutureWarning: \n",
            "\n",
            "`shade` is now deprecated in favor of `fill`; setting `fill=True`.\n",
            "This will become an error in seaborn v0.14.0; please update your code.\n",
            "\n",
            "  sns.kdeplot(g.flatten(), shade=True, ax=self.ax2, label='Generated data')\n"
          ]
        },
        {
          "output_type": "stream",
          "name": "stdout",
          "text": [
            "step: 4150, negative critic loss:   0.0174, time:  81 s\n"
          ]
        },
        {
          "output_type": "stream",
          "name": "stderr",
          "text": [
            "<ipython-input-2-574068bb8da8>:49: FutureWarning: \n",
            "\n",
            "`shade` is now deprecated in favor of `fill`; setting `fill=True`.\n",
            "This will become an error in seaborn v0.14.0; please update your code.\n",
            "\n",
            "  sns.kdeplot(d.flatten(), shade=True, ax=self.ax2, label='Real data')\n",
            "<ipython-input-2-574068bb8da8>:50: FutureWarning: \n",
            "\n",
            "`shade` is now deprecated in favor of `fill`; setting `fill=True`.\n",
            "This will become an error in seaborn v0.14.0; please update your code.\n",
            "\n",
            "  sns.kdeplot(g.flatten(), shade=True, ax=self.ax2, label='Generated data')\n"
          ]
        },
        {
          "output_type": "stream",
          "name": "stdout",
          "text": [
            "step: 4200, negative critic loss:   0.0097, time:  82 s\n"
          ]
        },
        {
          "output_type": "stream",
          "name": "stderr",
          "text": [
            "<ipython-input-2-574068bb8da8>:49: FutureWarning: \n",
            "\n",
            "`shade` is now deprecated in favor of `fill`; setting `fill=True`.\n",
            "This will become an error in seaborn v0.14.0; please update your code.\n",
            "\n",
            "  sns.kdeplot(d.flatten(), shade=True, ax=self.ax2, label='Real data')\n",
            "<ipython-input-2-574068bb8da8>:50: FutureWarning: \n",
            "\n",
            "`shade` is now deprecated in favor of `fill`; setting `fill=True`.\n",
            "This will become an error in seaborn v0.14.0; please update your code.\n",
            "\n",
            "  sns.kdeplot(g.flatten(), shade=True, ax=self.ax2, label='Generated data')\n"
          ]
        },
        {
          "output_type": "stream",
          "name": "stdout",
          "text": [
            "step: 4250, negative critic loss:   0.0544, time:  84 s\n"
          ]
        },
        {
          "output_type": "stream",
          "name": "stderr",
          "text": [
            "<ipython-input-2-574068bb8da8>:49: FutureWarning: \n",
            "\n",
            "`shade` is now deprecated in favor of `fill`; setting `fill=True`.\n",
            "This will become an error in seaborn v0.14.0; please update your code.\n",
            "\n",
            "  sns.kdeplot(d.flatten(), shade=True, ax=self.ax2, label='Real data')\n",
            "<ipython-input-2-574068bb8da8>:50: FutureWarning: \n",
            "\n",
            "`shade` is now deprecated in favor of `fill`; setting `fill=True`.\n",
            "This will become an error in seaborn v0.14.0; please update your code.\n",
            "\n",
            "  sns.kdeplot(g.flatten(), shade=True, ax=self.ax2, label='Generated data')\n"
          ]
        },
        {
          "output_type": "stream",
          "name": "stdout",
          "text": [
            "step: 4300, negative critic loss:   0.0005, time:  85 s\n"
          ]
        },
        {
          "output_type": "stream",
          "name": "stderr",
          "text": [
            "<ipython-input-2-574068bb8da8>:49: FutureWarning: \n",
            "\n",
            "`shade` is now deprecated in favor of `fill`; setting `fill=True`.\n",
            "This will become an error in seaborn v0.14.0; please update your code.\n",
            "\n",
            "  sns.kdeplot(d.flatten(), shade=True, ax=self.ax2, label='Real data')\n",
            "<ipython-input-2-574068bb8da8>:50: FutureWarning: \n",
            "\n",
            "`shade` is now deprecated in favor of `fill`; setting `fill=True`.\n",
            "This will become an error in seaborn v0.14.0; please update your code.\n",
            "\n",
            "  sns.kdeplot(g.flatten(), shade=True, ax=self.ax2, label='Generated data')\n"
          ]
        },
        {
          "output_type": "stream",
          "name": "stdout",
          "text": [
            "step: 4350, negative critic loss:  -0.0226, time:  86 s\n"
          ]
        },
        {
          "output_type": "stream",
          "name": "stderr",
          "text": [
            "<ipython-input-2-574068bb8da8>:49: FutureWarning: \n",
            "\n",
            "`shade` is now deprecated in favor of `fill`; setting `fill=True`.\n",
            "This will become an error in seaborn v0.14.0; please update your code.\n",
            "\n",
            "  sns.kdeplot(d.flatten(), shade=True, ax=self.ax2, label='Real data')\n",
            "<ipython-input-2-574068bb8da8>:50: FutureWarning: \n",
            "\n",
            "`shade` is now deprecated in favor of `fill`; setting `fill=True`.\n",
            "This will become an error in seaborn v0.14.0; please update your code.\n",
            "\n",
            "  sns.kdeplot(g.flatten(), shade=True, ax=self.ax2, label='Generated data')\n"
          ]
        },
        {
          "output_type": "stream",
          "name": "stdout",
          "text": [
            "step: 4400, negative critic loss:  -0.0662, time:  86 s\n"
          ]
        },
        {
          "output_type": "stream",
          "name": "stderr",
          "text": [
            "<ipython-input-2-574068bb8da8>:49: FutureWarning: \n",
            "\n",
            "`shade` is now deprecated in favor of `fill`; setting `fill=True`.\n",
            "This will become an error in seaborn v0.14.0; please update your code.\n",
            "\n",
            "  sns.kdeplot(d.flatten(), shade=True, ax=self.ax2, label='Real data')\n",
            "<ipython-input-2-574068bb8da8>:50: FutureWarning: \n",
            "\n",
            "`shade` is now deprecated in favor of `fill`; setting `fill=True`.\n",
            "This will become an error in seaborn v0.14.0; please update your code.\n",
            "\n",
            "  sns.kdeplot(g.flatten(), shade=True, ax=self.ax2, label='Generated data')\n"
          ]
        },
        {
          "output_type": "stream",
          "name": "stdout",
          "text": [
            "step: 4450, negative critic loss:  -0.0530, time:  88 s\n"
          ]
        },
        {
          "output_type": "stream",
          "name": "stderr",
          "text": [
            "<ipython-input-2-574068bb8da8>:49: FutureWarning: \n",
            "\n",
            "`shade` is now deprecated in favor of `fill`; setting `fill=True`.\n",
            "This will become an error in seaborn v0.14.0; please update your code.\n",
            "\n",
            "  sns.kdeplot(d.flatten(), shade=True, ax=self.ax2, label='Real data')\n",
            "<ipython-input-2-574068bb8da8>:50: FutureWarning: \n",
            "\n",
            "`shade` is now deprecated in favor of `fill`; setting `fill=True`.\n",
            "This will become an error in seaborn v0.14.0; please update your code.\n",
            "\n",
            "  sns.kdeplot(g.flatten(), shade=True, ax=self.ax2, label='Generated data')\n"
          ]
        },
        {
          "output_type": "stream",
          "name": "stdout",
          "text": [
            "step: 4500, negative critic loss:   0.0559, time:  88 s\n"
          ]
        },
        {
          "output_type": "stream",
          "name": "stderr",
          "text": [
            "<ipython-input-2-574068bb8da8>:49: FutureWarning: \n",
            "\n",
            "`shade` is now deprecated in favor of `fill`; setting `fill=True`.\n",
            "This will become an error in seaborn v0.14.0; please update your code.\n",
            "\n",
            "  sns.kdeplot(d.flatten(), shade=True, ax=self.ax2, label='Real data')\n",
            "<ipython-input-2-574068bb8da8>:50: FutureWarning: \n",
            "\n",
            "`shade` is now deprecated in favor of `fill`; setting `fill=True`.\n",
            "This will become an error in seaborn v0.14.0; please update your code.\n",
            "\n",
            "  sns.kdeplot(g.flatten(), shade=True, ax=self.ax2, label='Generated data')\n"
          ]
        },
        {
          "output_type": "stream",
          "name": "stdout",
          "text": [
            "step: 4550, negative critic loss:   0.0205, time:  89 s\n"
          ]
        },
        {
          "output_type": "stream",
          "name": "stderr",
          "text": [
            "<ipython-input-2-574068bb8da8>:49: FutureWarning: \n",
            "\n",
            "`shade` is now deprecated in favor of `fill`; setting `fill=True`.\n",
            "This will become an error in seaborn v0.14.0; please update your code.\n",
            "\n",
            "  sns.kdeplot(d.flatten(), shade=True, ax=self.ax2, label='Real data')\n",
            "<ipython-input-2-574068bb8da8>:50: FutureWarning: \n",
            "\n",
            "`shade` is now deprecated in favor of `fill`; setting `fill=True`.\n",
            "This will become an error in seaborn v0.14.0; please update your code.\n",
            "\n",
            "  sns.kdeplot(g.flatten(), shade=True, ax=self.ax2, label='Generated data')\n"
          ]
        },
        {
          "output_type": "stream",
          "name": "stdout",
          "text": [
            "step: 4600, negative critic loss:   0.0063, time:  90 s\n"
          ]
        },
        {
          "output_type": "stream",
          "name": "stderr",
          "text": [
            "<ipython-input-2-574068bb8da8>:49: FutureWarning: \n",
            "\n",
            "`shade` is now deprecated in favor of `fill`; setting `fill=True`.\n",
            "This will become an error in seaborn v0.14.0; please update your code.\n",
            "\n",
            "  sns.kdeplot(d.flatten(), shade=True, ax=self.ax2, label='Real data')\n",
            "<ipython-input-2-574068bb8da8>:50: FutureWarning: \n",
            "\n",
            "`shade` is now deprecated in favor of `fill`; setting `fill=True`.\n",
            "This will become an error in seaborn v0.14.0; please update your code.\n",
            "\n",
            "  sns.kdeplot(g.flatten(), shade=True, ax=self.ax2, label='Generated data')\n"
          ]
        },
        {
          "output_type": "stream",
          "name": "stdout",
          "text": [
            "step: 4650, negative critic loss:   0.0244, time:  91 s\n"
          ]
        },
        {
          "output_type": "stream",
          "name": "stderr",
          "text": [
            "<ipython-input-2-574068bb8da8>:49: FutureWarning: \n",
            "\n",
            "`shade` is now deprecated in favor of `fill`; setting `fill=True`.\n",
            "This will become an error in seaborn v0.14.0; please update your code.\n",
            "\n",
            "  sns.kdeplot(d.flatten(), shade=True, ax=self.ax2, label='Real data')\n",
            "<ipython-input-2-574068bb8da8>:50: FutureWarning: \n",
            "\n",
            "`shade` is now deprecated in favor of `fill`; setting `fill=True`.\n",
            "This will become an error in seaborn v0.14.0; please update your code.\n",
            "\n",
            "  sns.kdeplot(g.flatten(), shade=True, ax=self.ax2, label='Generated data')\n"
          ]
        },
        {
          "output_type": "stream",
          "name": "stdout",
          "text": [
            "step: 4700, negative critic loss:  -0.0606, time:  92 s\n"
          ]
        },
        {
          "output_type": "stream",
          "name": "stderr",
          "text": [
            "<ipython-input-2-574068bb8da8>:49: FutureWarning: \n",
            "\n",
            "`shade` is now deprecated in favor of `fill`; setting `fill=True`.\n",
            "This will become an error in seaborn v0.14.0; please update your code.\n",
            "\n",
            "  sns.kdeplot(d.flatten(), shade=True, ax=self.ax2, label='Real data')\n",
            "<ipython-input-2-574068bb8da8>:50: FutureWarning: \n",
            "\n",
            "`shade` is now deprecated in favor of `fill`; setting `fill=True`.\n",
            "This will become an error in seaborn v0.14.0; please update your code.\n",
            "\n",
            "  sns.kdeplot(g.flatten(), shade=True, ax=self.ax2, label='Generated data')\n"
          ]
        },
        {
          "output_type": "stream",
          "name": "stdout",
          "text": [
            "step: 4750, negative critic loss:  -0.0039, time:  93 s\n"
          ]
        },
        {
          "output_type": "stream",
          "name": "stderr",
          "text": [
            "<ipython-input-2-574068bb8da8>:49: FutureWarning: \n",
            "\n",
            "`shade` is now deprecated in favor of `fill`; setting `fill=True`.\n",
            "This will become an error in seaborn v0.14.0; please update your code.\n",
            "\n",
            "  sns.kdeplot(d.flatten(), shade=True, ax=self.ax2, label='Real data')\n",
            "<ipython-input-2-574068bb8da8>:50: FutureWarning: \n",
            "\n",
            "`shade` is now deprecated in favor of `fill`; setting `fill=True`.\n",
            "This will become an error in seaborn v0.14.0; please update your code.\n",
            "\n",
            "  sns.kdeplot(g.flatten(), shade=True, ax=self.ax2, label='Generated data')\n"
          ]
        },
        {
          "output_type": "stream",
          "name": "stdout",
          "text": [
            "step: 4800, negative critic loss:   0.0350, time:  94 s\n"
          ]
        },
        {
          "output_type": "stream",
          "name": "stderr",
          "text": [
            "<ipython-input-2-574068bb8da8>:49: FutureWarning: \n",
            "\n",
            "`shade` is now deprecated in favor of `fill`; setting `fill=True`.\n",
            "This will become an error in seaborn v0.14.0; please update your code.\n",
            "\n",
            "  sns.kdeplot(d.flatten(), shade=True, ax=self.ax2, label='Real data')\n",
            "<ipython-input-2-574068bb8da8>:50: FutureWarning: \n",
            "\n",
            "`shade` is now deprecated in favor of `fill`; setting `fill=True`.\n",
            "This will become an error in seaborn v0.14.0; please update your code.\n",
            "\n",
            "  sns.kdeplot(g.flatten(), shade=True, ax=self.ax2, label='Generated data')\n"
          ]
        },
        {
          "output_type": "stream",
          "name": "stdout",
          "text": [
            "step: 4850, negative critic loss:   0.0623, time:  95 s\n"
          ]
        },
        {
          "output_type": "stream",
          "name": "stderr",
          "text": [
            "<ipython-input-2-574068bb8da8>:49: FutureWarning: \n",
            "\n",
            "`shade` is now deprecated in favor of `fill`; setting `fill=True`.\n",
            "This will become an error in seaborn v0.14.0; please update your code.\n",
            "\n",
            "  sns.kdeplot(d.flatten(), shade=True, ax=self.ax2, label='Real data')\n",
            "<ipython-input-2-574068bb8da8>:50: FutureWarning: \n",
            "\n",
            "`shade` is now deprecated in favor of `fill`; setting `fill=True`.\n",
            "This will become an error in seaborn v0.14.0; please update your code.\n",
            "\n",
            "  sns.kdeplot(g.flatten(), shade=True, ax=self.ax2, label='Generated data')\n"
          ]
        },
        {
          "output_type": "stream",
          "name": "stdout",
          "text": [
            "step: 4900, negative critic loss:   0.0030, time:  96 s\n"
          ]
        },
        {
          "output_type": "stream",
          "name": "stderr",
          "text": [
            "<ipython-input-2-574068bb8da8>:49: FutureWarning: \n",
            "\n",
            "`shade` is now deprecated in favor of `fill`; setting `fill=True`.\n",
            "This will become an error in seaborn v0.14.0; please update your code.\n",
            "\n",
            "  sns.kdeplot(d.flatten(), shade=True, ax=self.ax2, label='Real data')\n",
            "<ipython-input-2-574068bb8da8>:50: FutureWarning: \n",
            "\n",
            "`shade` is now deprecated in favor of `fill`; setting `fill=True`.\n",
            "This will become an error in seaborn v0.14.0; please update your code.\n",
            "\n",
            "  sns.kdeplot(g.flatten(), shade=True, ax=self.ax2, label='Generated data')\n"
          ]
        },
        {
          "output_type": "stream",
          "name": "stdout",
          "text": [
            "step: 4950, negative critic loss:   0.0349, time:  97 s\n"
          ]
        },
        {
          "output_type": "stream",
          "name": "stderr",
          "text": [
            "<ipython-input-2-574068bb8da8>:49: FutureWarning: \n",
            "\n",
            "`shade` is now deprecated in favor of `fill`; setting `fill=True`.\n",
            "This will become an error in seaborn v0.14.0; please update your code.\n",
            "\n",
            "  sns.kdeplot(d.flatten(), shade=True, ax=self.ax2, label='Real data')\n",
            "<ipython-input-2-574068bb8da8>:50: FutureWarning: \n",
            "\n",
            "`shade` is now deprecated in favor of `fill`; setting `fill=True`.\n",
            "This will become an error in seaborn v0.14.0; please update your code.\n",
            "\n",
            "  sns.kdeplot(g.flatten(), shade=True, ax=self.ax2, label='Generated data')\n"
          ]
        },
        {
          "output_type": "stream",
          "name": "stdout",
          "text": [
            "step: 5000, negative critic loss:   0.0334, time:  98 s\n"
          ]
        },
        {
          "output_type": "stream",
          "name": "stderr",
          "text": [
            "<ipython-input-2-574068bb8da8>:49: FutureWarning: \n",
            "\n",
            "`shade` is now deprecated in favor of `fill`; setting `fill=True`.\n",
            "This will become an error in seaborn v0.14.0; please update your code.\n",
            "\n",
            "  sns.kdeplot(d.flatten(), shade=True, ax=self.ax2, label='Real data')\n",
            "<ipython-input-2-574068bb8da8>:50: FutureWarning: \n",
            "\n",
            "`shade` is now deprecated in favor of `fill`; setting `fill=True`.\n",
            "This will become an error in seaborn v0.14.0; please update your code.\n",
            "\n",
            "  sns.kdeplot(g.flatten(), shade=True, ax=self.ax2, label='Generated data')\n"
          ]
        },
        {
          "output_type": "stream",
          "name": "stdout",
          "text": [
            "step: 5050, negative critic loss:   0.0575, time:  99 s\n"
          ]
        },
        {
          "output_type": "stream",
          "name": "stderr",
          "text": [
            "<ipython-input-2-574068bb8da8>:49: FutureWarning: \n",
            "\n",
            "`shade` is now deprecated in favor of `fill`; setting `fill=True`.\n",
            "This will become an error in seaborn v0.14.0; please update your code.\n",
            "\n",
            "  sns.kdeplot(d.flatten(), shade=True, ax=self.ax2, label='Real data')\n",
            "<ipython-input-2-574068bb8da8>:50: FutureWarning: \n",
            "\n",
            "`shade` is now deprecated in favor of `fill`; setting `fill=True`.\n",
            "This will become an error in seaborn v0.14.0; please update your code.\n",
            "\n",
            "  sns.kdeplot(g.flatten(), shade=True, ax=self.ax2, label='Generated data')\n"
          ]
        },
        {
          "output_type": "stream",
          "name": "stdout",
          "text": [
            "step: 5100, negative critic loss:  -0.0489, time: 100 s\n"
          ]
        },
        {
          "output_type": "stream",
          "name": "stderr",
          "text": [
            "<ipython-input-2-574068bb8da8>:49: FutureWarning: \n",
            "\n",
            "`shade` is now deprecated in favor of `fill`; setting `fill=True`.\n",
            "This will become an error in seaborn v0.14.0; please update your code.\n",
            "\n",
            "  sns.kdeplot(d.flatten(), shade=True, ax=self.ax2, label='Real data')\n",
            "<ipython-input-2-574068bb8da8>:50: FutureWarning: \n",
            "\n",
            "`shade` is now deprecated in favor of `fill`; setting `fill=True`.\n",
            "This will become an error in seaborn v0.14.0; please update your code.\n",
            "\n",
            "  sns.kdeplot(g.flatten(), shade=True, ax=self.ax2, label='Generated data')\n"
          ]
        },
        {
          "output_type": "stream",
          "name": "stdout",
          "text": [
            "step: 5150, negative critic loss:  -0.0381, time: 101 s\n"
          ]
        },
        {
          "output_type": "stream",
          "name": "stderr",
          "text": [
            "<ipython-input-2-574068bb8da8>:49: FutureWarning: \n",
            "\n",
            "`shade` is now deprecated in favor of `fill`; setting `fill=True`.\n",
            "This will become an error in seaborn v0.14.0; please update your code.\n",
            "\n",
            "  sns.kdeplot(d.flatten(), shade=True, ax=self.ax2, label='Real data')\n",
            "<ipython-input-2-574068bb8da8>:50: FutureWarning: \n",
            "\n",
            "`shade` is now deprecated in favor of `fill`; setting `fill=True`.\n",
            "This will become an error in seaborn v0.14.0; please update your code.\n",
            "\n",
            "  sns.kdeplot(g.flatten(), shade=True, ax=self.ax2, label='Generated data')\n"
          ]
        },
        {
          "output_type": "stream",
          "name": "stdout",
          "text": [
            "step: 5200, negative critic loss:  -0.0059, time: 102 s\n"
          ]
        },
        {
          "output_type": "stream",
          "name": "stderr",
          "text": [
            "<ipython-input-2-574068bb8da8>:49: FutureWarning: \n",
            "\n",
            "`shade` is now deprecated in favor of `fill`; setting `fill=True`.\n",
            "This will become an error in seaborn v0.14.0; please update your code.\n",
            "\n",
            "  sns.kdeplot(d.flatten(), shade=True, ax=self.ax2, label='Real data')\n",
            "<ipython-input-2-574068bb8da8>:50: FutureWarning: \n",
            "\n",
            "`shade` is now deprecated in favor of `fill`; setting `fill=True`.\n",
            "This will become an error in seaborn v0.14.0; please update your code.\n",
            "\n",
            "  sns.kdeplot(g.flatten(), shade=True, ax=self.ax2, label='Generated data')\n"
          ]
        },
        {
          "output_type": "stream",
          "name": "stdout",
          "text": [
            "step: 5250, negative critic loss:   0.0568, time: 103 s\n"
          ]
        },
        {
          "output_type": "stream",
          "name": "stderr",
          "text": [
            "<ipython-input-2-574068bb8da8>:49: FutureWarning: \n",
            "\n",
            "`shade` is now deprecated in favor of `fill`; setting `fill=True`.\n",
            "This will become an error in seaborn v0.14.0; please update your code.\n",
            "\n",
            "  sns.kdeplot(d.flatten(), shade=True, ax=self.ax2, label='Real data')\n",
            "<ipython-input-2-574068bb8da8>:50: FutureWarning: \n",
            "\n",
            "`shade` is now deprecated in favor of `fill`; setting `fill=True`.\n",
            "This will become an error in seaborn v0.14.0; please update your code.\n",
            "\n",
            "  sns.kdeplot(g.flatten(), shade=True, ax=self.ax2, label='Generated data')\n"
          ]
        },
        {
          "output_type": "stream",
          "name": "stdout",
          "text": [
            "step: 5300, negative critic loss:   0.0249, time: 104 s\n"
          ]
        },
        {
          "output_type": "stream",
          "name": "stderr",
          "text": [
            "<ipython-input-2-574068bb8da8>:49: FutureWarning: \n",
            "\n",
            "`shade` is now deprecated in favor of `fill`; setting `fill=True`.\n",
            "This will become an error in seaborn v0.14.0; please update your code.\n",
            "\n",
            "  sns.kdeplot(d.flatten(), shade=True, ax=self.ax2, label='Real data')\n",
            "<ipython-input-2-574068bb8da8>:50: FutureWarning: \n",
            "\n",
            "`shade` is now deprecated in favor of `fill`; setting `fill=True`.\n",
            "This will become an error in seaborn v0.14.0; please update your code.\n",
            "\n",
            "  sns.kdeplot(g.flatten(), shade=True, ax=self.ax2, label='Generated data')\n"
          ]
        },
        {
          "output_type": "stream",
          "name": "stdout",
          "text": [
            "step: 5350, negative critic loss:   0.0800, time: 104 s\n"
          ]
        },
        {
          "output_type": "stream",
          "name": "stderr",
          "text": [
            "<ipython-input-2-574068bb8da8>:49: FutureWarning: \n",
            "\n",
            "`shade` is now deprecated in favor of `fill`; setting `fill=True`.\n",
            "This will become an error in seaborn v0.14.0; please update your code.\n",
            "\n",
            "  sns.kdeplot(d.flatten(), shade=True, ax=self.ax2, label='Real data')\n",
            "<ipython-input-2-574068bb8da8>:50: FutureWarning: \n",
            "\n",
            "`shade` is now deprecated in favor of `fill`; setting `fill=True`.\n",
            "This will become an error in seaborn v0.14.0; please update your code.\n",
            "\n",
            "  sns.kdeplot(g.flatten(), shade=True, ax=self.ax2, label='Generated data')\n"
          ]
        },
        {
          "output_type": "stream",
          "name": "stdout",
          "text": [
            "step: 5400, negative critic loss:   0.0032, time: 105 s\n"
          ]
        },
        {
          "output_type": "stream",
          "name": "stderr",
          "text": [
            "<ipython-input-2-574068bb8da8>:49: FutureWarning: \n",
            "\n",
            "`shade` is now deprecated in favor of `fill`; setting `fill=True`.\n",
            "This will become an error in seaborn v0.14.0; please update your code.\n",
            "\n",
            "  sns.kdeplot(d.flatten(), shade=True, ax=self.ax2, label='Real data')\n",
            "<ipython-input-2-574068bb8da8>:50: FutureWarning: \n",
            "\n",
            "`shade` is now deprecated in favor of `fill`; setting `fill=True`.\n",
            "This will become an error in seaborn v0.14.0; please update your code.\n",
            "\n",
            "  sns.kdeplot(g.flatten(), shade=True, ax=self.ax2, label='Generated data')\n"
          ]
        },
        {
          "output_type": "stream",
          "name": "stdout",
          "text": [
            "step: 5450, negative critic loss:   0.0617, time: 106 s\n"
          ]
        },
        {
          "output_type": "stream",
          "name": "stderr",
          "text": [
            "<ipython-input-2-574068bb8da8>:49: FutureWarning: \n",
            "\n",
            "`shade` is now deprecated in favor of `fill`; setting `fill=True`.\n",
            "This will become an error in seaborn v0.14.0; please update your code.\n",
            "\n",
            "  sns.kdeplot(d.flatten(), shade=True, ax=self.ax2, label='Real data')\n",
            "<ipython-input-2-574068bb8da8>:50: FutureWarning: \n",
            "\n",
            "`shade` is now deprecated in favor of `fill`; setting `fill=True`.\n",
            "This will become an error in seaborn v0.14.0; please update your code.\n",
            "\n",
            "  sns.kdeplot(g.flatten(), shade=True, ax=self.ax2, label='Generated data')\n"
          ]
        },
        {
          "output_type": "stream",
          "name": "stdout",
          "text": [
            "step: 5500, negative critic loss:  -0.0014, time: 107 s\n"
          ]
        },
        {
          "output_type": "stream",
          "name": "stderr",
          "text": [
            "<ipython-input-2-574068bb8da8>:49: FutureWarning: \n",
            "\n",
            "`shade` is now deprecated in favor of `fill`; setting `fill=True`.\n",
            "This will become an error in seaborn v0.14.0; please update your code.\n",
            "\n",
            "  sns.kdeplot(d.flatten(), shade=True, ax=self.ax2, label='Real data')\n",
            "<ipython-input-2-574068bb8da8>:50: FutureWarning: \n",
            "\n",
            "`shade` is now deprecated in favor of `fill`; setting `fill=True`.\n",
            "This will become an error in seaborn v0.14.0; please update your code.\n",
            "\n",
            "  sns.kdeplot(g.flatten(), shade=True, ax=self.ax2, label='Generated data')\n"
          ]
        },
        {
          "output_type": "stream",
          "name": "stdout",
          "text": [
            "step: 5550, negative critic loss:  -0.0148, time: 108 s\n"
          ]
        },
        {
          "output_type": "stream",
          "name": "stderr",
          "text": [
            "<ipython-input-2-574068bb8da8>:49: FutureWarning: \n",
            "\n",
            "`shade` is now deprecated in favor of `fill`; setting `fill=True`.\n",
            "This will become an error in seaborn v0.14.0; please update your code.\n",
            "\n",
            "  sns.kdeplot(d.flatten(), shade=True, ax=self.ax2, label='Real data')\n",
            "<ipython-input-2-574068bb8da8>:50: FutureWarning: \n",
            "\n",
            "`shade` is now deprecated in favor of `fill`; setting `fill=True`.\n",
            "This will become an error in seaborn v0.14.0; please update your code.\n",
            "\n",
            "  sns.kdeplot(g.flatten(), shade=True, ax=self.ax2, label='Generated data')\n"
          ]
        },
        {
          "output_type": "stream",
          "name": "stdout",
          "text": [
            "step: 5600, negative critic loss:   0.0478, time: 110 s\n"
          ]
        },
        {
          "output_type": "stream",
          "name": "stderr",
          "text": [
            "<ipython-input-2-574068bb8da8>:49: FutureWarning: \n",
            "\n",
            "`shade` is now deprecated in favor of `fill`; setting `fill=True`.\n",
            "This will become an error in seaborn v0.14.0; please update your code.\n",
            "\n",
            "  sns.kdeplot(d.flatten(), shade=True, ax=self.ax2, label='Real data')\n",
            "<ipython-input-2-574068bb8da8>:50: FutureWarning: \n",
            "\n",
            "`shade` is now deprecated in favor of `fill`; setting `fill=True`.\n",
            "This will become an error in seaborn v0.14.0; please update your code.\n",
            "\n",
            "  sns.kdeplot(g.flatten(), shade=True, ax=self.ax2, label='Generated data')\n"
          ]
        },
        {
          "output_type": "stream",
          "name": "stdout",
          "text": [
            "step: 5650, negative critic loss:   0.0379, time: 111 s\n"
          ]
        },
        {
          "output_type": "stream",
          "name": "stderr",
          "text": [
            "<ipython-input-2-574068bb8da8>:49: FutureWarning: \n",
            "\n",
            "`shade` is now deprecated in favor of `fill`; setting `fill=True`.\n",
            "This will become an error in seaborn v0.14.0; please update your code.\n",
            "\n",
            "  sns.kdeplot(d.flatten(), shade=True, ax=self.ax2, label='Real data')\n",
            "<ipython-input-2-574068bb8da8>:50: FutureWarning: \n",
            "\n",
            "`shade` is now deprecated in favor of `fill`; setting `fill=True`.\n",
            "This will become an error in seaborn v0.14.0; please update your code.\n",
            "\n",
            "  sns.kdeplot(g.flatten(), shade=True, ax=self.ax2, label='Generated data')\n"
          ]
        },
        {
          "output_type": "stream",
          "name": "stdout",
          "text": [
            "step: 5700, negative critic loss:   0.0093, time: 112 s\n"
          ]
        },
        {
          "output_type": "stream",
          "name": "stderr",
          "text": [
            "<ipython-input-2-574068bb8da8>:49: FutureWarning: \n",
            "\n",
            "`shade` is now deprecated in favor of `fill`; setting `fill=True`.\n",
            "This will become an error in seaborn v0.14.0; please update your code.\n",
            "\n",
            "  sns.kdeplot(d.flatten(), shade=True, ax=self.ax2, label='Real data')\n",
            "<ipython-input-2-574068bb8da8>:50: FutureWarning: \n",
            "\n",
            "`shade` is now deprecated in favor of `fill`; setting `fill=True`.\n",
            "This will become an error in seaborn v0.14.0; please update your code.\n",
            "\n",
            "  sns.kdeplot(g.flatten(), shade=True, ax=self.ax2, label='Generated data')\n"
          ]
        },
        {
          "output_type": "stream",
          "name": "stdout",
          "text": [
            "step: 5750, negative critic loss:  -0.0100, time: 112 s\n"
          ]
        },
        {
          "output_type": "stream",
          "name": "stderr",
          "text": [
            "<ipython-input-2-574068bb8da8>:49: FutureWarning: \n",
            "\n",
            "`shade` is now deprecated in favor of `fill`; setting `fill=True`.\n",
            "This will become an error in seaborn v0.14.0; please update your code.\n",
            "\n",
            "  sns.kdeplot(d.flatten(), shade=True, ax=self.ax2, label='Real data')\n",
            "<ipython-input-2-574068bb8da8>:50: FutureWarning: \n",
            "\n",
            "`shade` is now deprecated in favor of `fill`; setting `fill=True`.\n",
            "This will become an error in seaborn v0.14.0; please update your code.\n",
            "\n",
            "  sns.kdeplot(g.flatten(), shade=True, ax=self.ax2, label='Generated data')\n"
          ]
        },
        {
          "output_type": "stream",
          "name": "stdout",
          "text": [
            "step: 5800, negative critic loss:   0.0470, time: 113 s\n"
          ]
        },
        {
          "output_type": "stream",
          "name": "stderr",
          "text": [
            "<ipython-input-2-574068bb8da8>:49: FutureWarning: \n",
            "\n",
            "`shade` is now deprecated in favor of `fill`; setting `fill=True`.\n",
            "This will become an error in seaborn v0.14.0; please update your code.\n",
            "\n",
            "  sns.kdeplot(d.flatten(), shade=True, ax=self.ax2, label='Real data')\n",
            "<ipython-input-2-574068bb8da8>:50: FutureWarning: \n",
            "\n",
            "`shade` is now deprecated in favor of `fill`; setting `fill=True`.\n",
            "This will become an error in seaborn v0.14.0; please update your code.\n",
            "\n",
            "  sns.kdeplot(g.flatten(), shade=True, ax=self.ax2, label='Generated data')\n"
          ]
        },
        {
          "output_type": "stream",
          "name": "stdout",
          "text": [
            "step: 5850, negative critic loss:  -0.0020, time: 114 s\n"
          ]
        },
        {
          "output_type": "stream",
          "name": "stderr",
          "text": [
            "<ipython-input-2-574068bb8da8>:49: FutureWarning: \n",
            "\n",
            "`shade` is now deprecated in favor of `fill`; setting `fill=True`.\n",
            "This will become an error in seaborn v0.14.0; please update your code.\n",
            "\n",
            "  sns.kdeplot(d.flatten(), shade=True, ax=self.ax2, label='Real data')\n",
            "<ipython-input-2-574068bb8da8>:50: FutureWarning: \n",
            "\n",
            "`shade` is now deprecated in favor of `fill`; setting `fill=True`.\n",
            "This will become an error in seaborn v0.14.0; please update your code.\n",
            "\n",
            "  sns.kdeplot(g.flatten(), shade=True, ax=self.ax2, label='Generated data')\n"
          ]
        },
        {
          "output_type": "stream",
          "name": "stdout",
          "text": [
            "step: 5900, negative critic loss:  -0.0490, time: 115 s\n"
          ]
        },
        {
          "output_type": "stream",
          "name": "stderr",
          "text": [
            "<ipython-input-2-574068bb8da8>:49: FutureWarning: \n",
            "\n",
            "`shade` is now deprecated in favor of `fill`; setting `fill=True`.\n",
            "This will become an error in seaborn v0.14.0; please update your code.\n",
            "\n",
            "  sns.kdeplot(d.flatten(), shade=True, ax=self.ax2, label='Real data')\n",
            "<ipython-input-2-574068bb8da8>:50: FutureWarning: \n",
            "\n",
            "`shade` is now deprecated in favor of `fill`; setting `fill=True`.\n",
            "This will become an error in seaborn v0.14.0; please update your code.\n",
            "\n",
            "  sns.kdeplot(g.flatten(), shade=True, ax=self.ax2, label='Generated data')\n"
          ]
        },
        {
          "output_type": "stream",
          "name": "stdout",
          "text": [
            "step: 5950, negative critic loss:  -0.0031, time: 116 s\n"
          ]
        },
        {
          "output_type": "stream",
          "name": "stderr",
          "text": [
            "<ipython-input-2-574068bb8da8>:49: FutureWarning: \n",
            "\n",
            "`shade` is now deprecated in favor of `fill`; setting `fill=True`.\n",
            "This will become an error in seaborn v0.14.0; please update your code.\n",
            "\n",
            "  sns.kdeplot(d.flatten(), shade=True, ax=self.ax2, label='Real data')\n",
            "<ipython-input-2-574068bb8da8>:50: FutureWarning: \n",
            "\n",
            "`shade` is now deprecated in favor of `fill`; setting `fill=True`.\n",
            "This will become an error in seaborn v0.14.0; please update your code.\n",
            "\n",
            "  sns.kdeplot(g.flatten(), shade=True, ax=self.ax2, label='Generated data')\n"
          ]
        },
        {
          "output_type": "stream",
          "name": "stdout",
          "text": [
            "step: 6000, negative critic loss:  -0.0200, time: 117 s\n"
          ]
        },
        {
          "output_type": "stream",
          "name": "stderr",
          "text": [
            "<ipython-input-2-574068bb8da8>:49: FutureWarning: \n",
            "\n",
            "`shade` is now deprecated in favor of `fill`; setting `fill=True`.\n",
            "This will become an error in seaborn v0.14.0; please update your code.\n",
            "\n",
            "  sns.kdeplot(d.flatten(), shade=True, ax=self.ax2, label='Real data')\n",
            "<ipython-input-2-574068bb8da8>:50: FutureWarning: \n",
            "\n",
            "`shade` is now deprecated in favor of `fill`; setting `fill=True`.\n",
            "This will become an error in seaborn v0.14.0; please update your code.\n",
            "\n",
            "  sns.kdeplot(g.flatten(), shade=True, ax=self.ax2, label='Generated data')\n"
          ]
        },
        {
          "output_type": "stream",
          "name": "stdout",
          "text": [
            "step: 6050, negative critic loss:  -0.0111, time: 118 s\n"
          ]
        },
        {
          "output_type": "stream",
          "name": "stderr",
          "text": [
            "<ipython-input-2-574068bb8da8>:49: FutureWarning: \n",
            "\n",
            "`shade` is now deprecated in favor of `fill`; setting `fill=True`.\n",
            "This will become an error in seaborn v0.14.0; please update your code.\n",
            "\n",
            "  sns.kdeplot(d.flatten(), shade=True, ax=self.ax2, label='Real data')\n",
            "<ipython-input-2-574068bb8da8>:50: FutureWarning: \n",
            "\n",
            "`shade` is now deprecated in favor of `fill`; setting `fill=True`.\n",
            "This will become an error in seaborn v0.14.0; please update your code.\n",
            "\n",
            "  sns.kdeplot(g.flatten(), shade=True, ax=self.ax2, label='Generated data')\n"
          ]
        },
        {
          "output_type": "stream",
          "name": "stdout",
          "text": [
            "step: 6100, negative critic loss:  -0.0561, time: 119 s\n"
          ]
        },
        {
          "output_type": "stream",
          "name": "stderr",
          "text": [
            "<ipython-input-2-574068bb8da8>:49: FutureWarning: \n",
            "\n",
            "`shade` is now deprecated in favor of `fill`; setting `fill=True`.\n",
            "This will become an error in seaborn v0.14.0; please update your code.\n",
            "\n",
            "  sns.kdeplot(d.flatten(), shade=True, ax=self.ax2, label='Real data')\n",
            "<ipython-input-2-574068bb8da8>:50: FutureWarning: \n",
            "\n",
            "`shade` is now deprecated in favor of `fill`; setting `fill=True`.\n",
            "This will become an error in seaborn v0.14.0; please update your code.\n",
            "\n",
            "  sns.kdeplot(g.flatten(), shade=True, ax=self.ax2, label='Generated data')\n"
          ]
        },
        {
          "output_type": "stream",
          "name": "stdout",
          "text": [
            "step: 6150, negative critic loss:   0.1215, time: 120 s\n"
          ]
        },
        {
          "output_type": "stream",
          "name": "stderr",
          "text": [
            "<ipython-input-2-574068bb8da8>:49: FutureWarning: \n",
            "\n",
            "`shade` is now deprecated in favor of `fill`; setting `fill=True`.\n",
            "This will become an error in seaborn v0.14.0; please update your code.\n",
            "\n",
            "  sns.kdeplot(d.flatten(), shade=True, ax=self.ax2, label='Real data')\n",
            "<ipython-input-2-574068bb8da8>:50: FutureWarning: \n",
            "\n",
            "`shade` is now deprecated in favor of `fill`; setting `fill=True`.\n",
            "This will become an error in seaborn v0.14.0; please update your code.\n",
            "\n",
            "  sns.kdeplot(g.flatten(), shade=True, ax=self.ax2, label='Generated data')\n"
          ]
        },
        {
          "output_type": "stream",
          "name": "stdout",
          "text": [
            "step: 6200, negative critic loss:  -0.0161, time: 121 s\n"
          ]
        },
        {
          "output_type": "stream",
          "name": "stderr",
          "text": [
            "<ipython-input-2-574068bb8da8>:49: FutureWarning: \n",
            "\n",
            "`shade` is now deprecated in favor of `fill`; setting `fill=True`.\n",
            "This will become an error in seaborn v0.14.0; please update your code.\n",
            "\n",
            "  sns.kdeplot(d.flatten(), shade=True, ax=self.ax2, label='Real data')\n",
            "<ipython-input-2-574068bb8da8>:50: FutureWarning: \n",
            "\n",
            "`shade` is now deprecated in favor of `fill`; setting `fill=True`.\n",
            "This will become an error in seaborn v0.14.0; please update your code.\n",
            "\n",
            "  sns.kdeplot(g.flatten(), shade=True, ax=self.ax2, label='Generated data')\n"
          ]
        },
        {
          "output_type": "stream",
          "name": "stdout",
          "text": [
            "step: 6250, negative critic loss:   0.0188, time: 122 s\n"
          ]
        },
        {
          "output_type": "stream",
          "name": "stderr",
          "text": [
            "<ipython-input-2-574068bb8da8>:49: FutureWarning: \n",
            "\n",
            "`shade` is now deprecated in favor of `fill`; setting `fill=True`.\n",
            "This will become an error in seaborn v0.14.0; please update your code.\n",
            "\n",
            "  sns.kdeplot(d.flatten(), shade=True, ax=self.ax2, label='Real data')\n",
            "<ipython-input-2-574068bb8da8>:50: FutureWarning: \n",
            "\n",
            "`shade` is now deprecated in favor of `fill`; setting `fill=True`.\n",
            "This will become an error in seaborn v0.14.0; please update your code.\n",
            "\n",
            "  sns.kdeplot(g.flatten(), shade=True, ax=self.ax2, label='Generated data')\n"
          ]
        },
        {
          "output_type": "stream",
          "name": "stdout",
          "text": [
            "step: 6300, negative critic loss:   0.0563, time: 123 s\n"
          ]
        },
        {
          "output_type": "stream",
          "name": "stderr",
          "text": [
            "<ipython-input-2-574068bb8da8>:49: FutureWarning: \n",
            "\n",
            "`shade` is now deprecated in favor of `fill`; setting `fill=True`.\n",
            "This will become an error in seaborn v0.14.0; please update your code.\n",
            "\n",
            "  sns.kdeplot(d.flatten(), shade=True, ax=self.ax2, label='Real data')\n",
            "<ipython-input-2-574068bb8da8>:50: FutureWarning: \n",
            "\n",
            "`shade` is now deprecated in favor of `fill`; setting `fill=True`.\n",
            "This will become an error in seaborn v0.14.0; please update your code.\n",
            "\n",
            "  sns.kdeplot(g.flatten(), shade=True, ax=self.ax2, label='Generated data')\n"
          ]
        },
        {
          "output_type": "stream",
          "name": "stdout",
          "text": [
            "step: 6350, negative critic loss:   0.0198, time: 124 s\n"
          ]
        },
        {
          "output_type": "stream",
          "name": "stderr",
          "text": [
            "<ipython-input-2-574068bb8da8>:49: FutureWarning: \n",
            "\n",
            "`shade` is now deprecated in favor of `fill`; setting `fill=True`.\n",
            "This will become an error in seaborn v0.14.0; please update your code.\n",
            "\n",
            "  sns.kdeplot(d.flatten(), shade=True, ax=self.ax2, label='Real data')\n",
            "<ipython-input-2-574068bb8da8>:50: FutureWarning: \n",
            "\n",
            "`shade` is now deprecated in favor of `fill`; setting `fill=True`.\n",
            "This will become an error in seaborn v0.14.0; please update your code.\n",
            "\n",
            "  sns.kdeplot(g.flatten(), shade=True, ax=self.ax2, label='Generated data')\n"
          ]
        },
        {
          "output_type": "stream",
          "name": "stdout",
          "text": [
            "step: 6400, negative critic loss:  -0.0558, time: 125 s\n"
          ]
        },
        {
          "output_type": "stream",
          "name": "stderr",
          "text": [
            "<ipython-input-2-574068bb8da8>:49: FutureWarning: \n",
            "\n",
            "`shade` is now deprecated in favor of `fill`; setting `fill=True`.\n",
            "This will become an error in seaborn v0.14.0; please update your code.\n",
            "\n",
            "  sns.kdeplot(d.flatten(), shade=True, ax=self.ax2, label='Real data')\n",
            "<ipython-input-2-574068bb8da8>:50: FutureWarning: \n",
            "\n",
            "`shade` is now deprecated in favor of `fill`; setting `fill=True`.\n",
            "This will become an error in seaborn v0.14.0; please update your code.\n",
            "\n",
            "  sns.kdeplot(g.flatten(), shade=True, ax=self.ax2, label='Generated data')\n"
          ]
        },
        {
          "output_type": "stream",
          "name": "stdout",
          "text": [
            "step: 6450, negative critic loss:  -0.0084, time: 126 s\n"
          ]
        },
        {
          "output_type": "stream",
          "name": "stderr",
          "text": [
            "<ipython-input-2-574068bb8da8>:49: FutureWarning: \n",
            "\n",
            "`shade` is now deprecated in favor of `fill`; setting `fill=True`.\n",
            "This will become an error in seaborn v0.14.0; please update your code.\n",
            "\n",
            "  sns.kdeplot(d.flatten(), shade=True, ax=self.ax2, label='Real data')\n",
            "<ipython-input-2-574068bb8da8>:50: FutureWarning: \n",
            "\n",
            "`shade` is now deprecated in favor of `fill`; setting `fill=True`.\n",
            "This will become an error in seaborn v0.14.0; please update your code.\n",
            "\n",
            "  sns.kdeplot(g.flatten(), shade=True, ax=self.ax2, label='Generated data')\n"
          ]
        },
        {
          "output_type": "stream",
          "name": "stdout",
          "text": [
            "step: 6500, negative critic loss:   0.0185, time: 127 s\n"
          ]
        },
        {
          "output_type": "stream",
          "name": "stderr",
          "text": [
            "<ipython-input-2-574068bb8da8>:49: FutureWarning: \n",
            "\n",
            "`shade` is now deprecated in favor of `fill`; setting `fill=True`.\n",
            "This will become an error in seaborn v0.14.0; please update your code.\n",
            "\n",
            "  sns.kdeplot(d.flatten(), shade=True, ax=self.ax2, label='Real data')\n",
            "<ipython-input-2-574068bb8da8>:50: FutureWarning: \n",
            "\n",
            "`shade` is now deprecated in favor of `fill`; setting `fill=True`.\n",
            "This will become an error in seaborn v0.14.0; please update your code.\n",
            "\n",
            "  sns.kdeplot(g.flatten(), shade=True, ax=self.ax2, label='Generated data')\n"
          ]
        },
        {
          "output_type": "stream",
          "name": "stdout",
          "text": [
            "step: 6550, negative critic loss:   0.0168, time: 128 s\n"
          ]
        },
        {
          "output_type": "stream",
          "name": "stderr",
          "text": [
            "<ipython-input-2-574068bb8da8>:49: FutureWarning: \n",
            "\n",
            "`shade` is now deprecated in favor of `fill`; setting `fill=True`.\n",
            "This will become an error in seaborn v0.14.0; please update your code.\n",
            "\n",
            "  sns.kdeplot(d.flatten(), shade=True, ax=self.ax2, label='Real data')\n",
            "<ipython-input-2-574068bb8da8>:50: FutureWarning: \n",
            "\n",
            "`shade` is now deprecated in favor of `fill`; setting `fill=True`.\n",
            "This will become an error in seaborn v0.14.0; please update your code.\n",
            "\n",
            "  sns.kdeplot(g.flatten(), shade=True, ax=self.ax2, label='Generated data')\n"
          ]
        },
        {
          "output_type": "stream",
          "name": "stdout",
          "text": [
            "step: 6600, negative critic loss:  -0.0266, time: 128 s\n"
          ]
        },
        {
          "output_type": "stream",
          "name": "stderr",
          "text": [
            "<ipython-input-2-574068bb8da8>:49: FutureWarning: \n",
            "\n",
            "`shade` is now deprecated in favor of `fill`; setting `fill=True`.\n",
            "This will become an error in seaborn v0.14.0; please update your code.\n",
            "\n",
            "  sns.kdeplot(d.flatten(), shade=True, ax=self.ax2, label='Real data')\n",
            "<ipython-input-2-574068bb8da8>:50: FutureWarning: \n",
            "\n",
            "`shade` is now deprecated in favor of `fill`; setting `fill=True`.\n",
            "This will become an error in seaborn v0.14.0; please update your code.\n",
            "\n",
            "  sns.kdeplot(g.flatten(), shade=True, ax=self.ax2, label='Generated data')\n"
          ]
        },
        {
          "output_type": "stream",
          "name": "stdout",
          "text": [
            "step: 6650, negative critic loss:  -0.0392, time: 129 s\n"
          ]
        },
        {
          "output_type": "stream",
          "name": "stderr",
          "text": [
            "<ipython-input-2-574068bb8da8>:49: FutureWarning: \n",
            "\n",
            "`shade` is now deprecated in favor of `fill`; setting `fill=True`.\n",
            "This will become an error in seaborn v0.14.0; please update your code.\n",
            "\n",
            "  sns.kdeplot(d.flatten(), shade=True, ax=self.ax2, label='Real data')\n",
            "<ipython-input-2-574068bb8da8>:50: FutureWarning: \n",
            "\n",
            "`shade` is now deprecated in favor of `fill`; setting `fill=True`.\n",
            "This will become an error in seaborn v0.14.0; please update your code.\n",
            "\n",
            "  sns.kdeplot(g.flatten(), shade=True, ax=self.ax2, label='Generated data')\n"
          ]
        },
        {
          "output_type": "stream",
          "name": "stdout",
          "text": [
            "step: 6700, negative critic loss:  -0.0572, time: 130 s\n"
          ]
        },
        {
          "output_type": "stream",
          "name": "stderr",
          "text": [
            "<ipython-input-2-574068bb8da8>:49: FutureWarning: \n",
            "\n",
            "`shade` is now deprecated in favor of `fill`; setting `fill=True`.\n",
            "This will become an error in seaborn v0.14.0; please update your code.\n",
            "\n",
            "  sns.kdeplot(d.flatten(), shade=True, ax=self.ax2, label='Real data')\n",
            "<ipython-input-2-574068bb8da8>:50: FutureWarning: \n",
            "\n",
            "`shade` is now deprecated in favor of `fill`; setting `fill=True`.\n",
            "This will become an error in seaborn v0.14.0; please update your code.\n",
            "\n",
            "  sns.kdeplot(g.flatten(), shade=True, ax=self.ax2, label='Generated data')\n"
          ]
        },
        {
          "output_type": "stream",
          "name": "stdout",
          "text": [
            "step: 6750, negative critic loss:   0.0944, time: 131 s\n"
          ]
        },
        {
          "output_type": "stream",
          "name": "stderr",
          "text": [
            "<ipython-input-2-574068bb8da8>:49: FutureWarning: \n",
            "\n",
            "`shade` is now deprecated in favor of `fill`; setting `fill=True`.\n",
            "This will become an error in seaborn v0.14.0; please update your code.\n",
            "\n",
            "  sns.kdeplot(d.flatten(), shade=True, ax=self.ax2, label='Real data')\n",
            "<ipython-input-2-574068bb8da8>:50: FutureWarning: \n",
            "\n",
            "`shade` is now deprecated in favor of `fill`; setting `fill=True`.\n",
            "This will become an error in seaborn v0.14.0; please update your code.\n",
            "\n",
            "  sns.kdeplot(g.flatten(), shade=True, ax=self.ax2, label='Generated data')\n"
          ]
        },
        {
          "output_type": "stream",
          "name": "stdout",
          "text": [
            "step: 6800, negative critic loss:   0.0465, time: 132 s\n"
          ]
        },
        {
          "output_type": "stream",
          "name": "stderr",
          "text": [
            "<ipython-input-2-574068bb8da8>:49: FutureWarning: \n",
            "\n",
            "`shade` is now deprecated in favor of `fill`; setting `fill=True`.\n",
            "This will become an error in seaborn v0.14.0; please update your code.\n",
            "\n",
            "  sns.kdeplot(d.flatten(), shade=True, ax=self.ax2, label='Real data')\n",
            "<ipython-input-2-574068bb8da8>:50: FutureWarning: \n",
            "\n",
            "`shade` is now deprecated in favor of `fill`; setting `fill=True`.\n",
            "This will become an error in seaborn v0.14.0; please update your code.\n",
            "\n",
            "  sns.kdeplot(g.flatten(), shade=True, ax=self.ax2, label='Generated data')\n"
          ]
        },
        {
          "output_type": "stream",
          "name": "stdout",
          "text": [
            "step: 6850, negative critic loss:  -0.0323, time: 133 s\n"
          ]
        },
        {
          "output_type": "stream",
          "name": "stderr",
          "text": [
            "<ipython-input-2-574068bb8da8>:49: FutureWarning: \n",
            "\n",
            "`shade` is now deprecated in favor of `fill`; setting `fill=True`.\n",
            "This will become an error in seaborn v0.14.0; please update your code.\n",
            "\n",
            "  sns.kdeplot(d.flatten(), shade=True, ax=self.ax2, label='Real data')\n",
            "<ipython-input-2-574068bb8da8>:50: FutureWarning: \n",
            "\n",
            "`shade` is now deprecated in favor of `fill`; setting `fill=True`.\n",
            "This will become an error in seaborn v0.14.0; please update your code.\n",
            "\n",
            "  sns.kdeplot(g.flatten(), shade=True, ax=self.ax2, label='Generated data')\n"
          ]
        },
        {
          "output_type": "stream",
          "name": "stdout",
          "text": [
            "step: 6900, negative critic loss:   0.1088, time: 134 s\n"
          ]
        },
        {
          "output_type": "stream",
          "name": "stderr",
          "text": [
            "<ipython-input-2-574068bb8da8>:49: FutureWarning: \n",
            "\n",
            "`shade` is now deprecated in favor of `fill`; setting `fill=True`.\n",
            "This will become an error in seaborn v0.14.0; please update your code.\n",
            "\n",
            "  sns.kdeplot(d.flatten(), shade=True, ax=self.ax2, label='Real data')\n",
            "<ipython-input-2-574068bb8da8>:50: FutureWarning: \n",
            "\n",
            "`shade` is now deprecated in favor of `fill`; setting `fill=True`.\n",
            "This will become an error in seaborn v0.14.0; please update your code.\n",
            "\n",
            "  sns.kdeplot(g.flatten(), shade=True, ax=self.ax2, label='Generated data')\n"
          ]
        },
        {
          "output_type": "stream",
          "name": "stdout",
          "text": [
            "step: 6950, negative critic loss:  -0.0171, time: 135 s\n"
          ]
        },
        {
          "output_type": "stream",
          "name": "stderr",
          "text": [
            "<ipython-input-2-574068bb8da8>:49: FutureWarning: \n",
            "\n",
            "`shade` is now deprecated in favor of `fill`; setting `fill=True`.\n",
            "This will become an error in seaborn v0.14.0; please update your code.\n",
            "\n",
            "  sns.kdeplot(d.flatten(), shade=True, ax=self.ax2, label='Real data')\n",
            "<ipython-input-2-574068bb8da8>:50: FutureWarning: \n",
            "\n",
            "`shade` is now deprecated in favor of `fill`; setting `fill=True`.\n",
            "This will become an error in seaborn v0.14.0; please update your code.\n",
            "\n",
            "  sns.kdeplot(g.flatten(), shade=True, ax=self.ax2, label='Generated data')\n"
          ]
        },
        {
          "output_type": "stream",
          "name": "stdout",
          "text": [
            "step: 7000, negative critic loss:   0.0773, time: 136 s\n"
          ]
        },
        {
          "output_type": "stream",
          "name": "stderr",
          "text": [
            "<ipython-input-2-574068bb8da8>:49: FutureWarning: \n",
            "\n",
            "`shade` is now deprecated in favor of `fill`; setting `fill=True`.\n",
            "This will become an error in seaborn v0.14.0; please update your code.\n",
            "\n",
            "  sns.kdeplot(d.flatten(), shade=True, ax=self.ax2, label='Real data')\n",
            "<ipython-input-2-574068bb8da8>:50: FutureWarning: \n",
            "\n",
            "`shade` is now deprecated in favor of `fill`; setting `fill=True`.\n",
            "This will become an error in seaborn v0.14.0; please update your code.\n",
            "\n",
            "  sns.kdeplot(g.flatten(), shade=True, ax=self.ax2, label='Generated data')\n"
          ]
        },
        {
          "output_type": "stream",
          "name": "stdout",
          "text": [
            "step: 7050, negative critic loss:   0.0098, time: 137 s\n"
          ]
        },
        {
          "output_type": "stream",
          "name": "stderr",
          "text": [
            "<ipython-input-2-574068bb8da8>:49: FutureWarning: \n",
            "\n",
            "`shade` is now deprecated in favor of `fill`; setting `fill=True`.\n",
            "This will become an error in seaborn v0.14.0; please update your code.\n",
            "\n",
            "  sns.kdeplot(d.flatten(), shade=True, ax=self.ax2, label='Real data')\n",
            "<ipython-input-2-574068bb8da8>:50: FutureWarning: \n",
            "\n",
            "`shade` is now deprecated in favor of `fill`; setting `fill=True`.\n",
            "This will become an error in seaborn v0.14.0; please update your code.\n",
            "\n",
            "  sns.kdeplot(g.flatten(), shade=True, ax=self.ax2, label='Generated data')\n"
          ]
        },
        {
          "output_type": "stream",
          "name": "stdout",
          "text": [
            "step: 7100, negative critic loss:  -0.0127, time: 138 s\n"
          ]
        },
        {
          "output_type": "stream",
          "name": "stderr",
          "text": [
            "<ipython-input-2-574068bb8da8>:49: FutureWarning: \n",
            "\n",
            "`shade` is now deprecated in favor of `fill`; setting `fill=True`.\n",
            "This will become an error in seaborn v0.14.0; please update your code.\n",
            "\n",
            "  sns.kdeplot(d.flatten(), shade=True, ax=self.ax2, label='Real data')\n",
            "<ipython-input-2-574068bb8da8>:50: FutureWarning: \n",
            "\n",
            "`shade` is now deprecated in favor of `fill`; setting `fill=True`.\n",
            "This will become an error in seaborn v0.14.0; please update your code.\n",
            "\n",
            "  sns.kdeplot(g.flatten(), shade=True, ax=self.ax2, label='Generated data')\n"
          ]
        },
        {
          "output_type": "stream",
          "name": "stdout",
          "text": [
            "step: 7150, negative critic loss:   0.0525, time: 139 s\n"
          ]
        },
        {
          "output_type": "stream",
          "name": "stderr",
          "text": [
            "<ipython-input-2-574068bb8da8>:49: FutureWarning: \n",
            "\n",
            "`shade` is now deprecated in favor of `fill`; setting `fill=True`.\n",
            "This will become an error in seaborn v0.14.0; please update your code.\n",
            "\n",
            "  sns.kdeplot(d.flatten(), shade=True, ax=self.ax2, label='Real data')\n",
            "<ipython-input-2-574068bb8da8>:50: FutureWarning: \n",
            "\n",
            "`shade` is now deprecated in favor of `fill`; setting `fill=True`.\n",
            "This will become an error in seaborn v0.14.0; please update your code.\n",
            "\n",
            "  sns.kdeplot(g.flatten(), shade=True, ax=self.ax2, label='Generated data')\n"
          ]
        },
        {
          "output_type": "stream",
          "name": "stdout",
          "text": [
            "step: 7200, negative critic loss:   0.0588, time: 140 s\n"
          ]
        },
        {
          "output_type": "stream",
          "name": "stderr",
          "text": [
            "<ipython-input-2-574068bb8da8>:49: FutureWarning: \n",
            "\n",
            "`shade` is now deprecated in favor of `fill`; setting `fill=True`.\n",
            "This will become an error in seaborn v0.14.0; please update your code.\n",
            "\n",
            "  sns.kdeplot(d.flatten(), shade=True, ax=self.ax2, label='Real data')\n",
            "<ipython-input-2-574068bb8da8>:50: FutureWarning: \n",
            "\n",
            "`shade` is now deprecated in favor of `fill`; setting `fill=True`.\n",
            "This will become an error in seaborn v0.14.0; please update your code.\n",
            "\n",
            "  sns.kdeplot(g.flatten(), shade=True, ax=self.ax2, label='Generated data')\n"
          ]
        },
        {
          "output_type": "stream",
          "name": "stdout",
          "text": [
            "step: 7250, negative critic loss:   0.0076, time: 141 s\n"
          ]
        },
        {
          "output_type": "stream",
          "name": "stderr",
          "text": [
            "<ipython-input-2-574068bb8da8>:49: FutureWarning: \n",
            "\n",
            "`shade` is now deprecated in favor of `fill`; setting `fill=True`.\n",
            "This will become an error in seaborn v0.14.0; please update your code.\n",
            "\n",
            "  sns.kdeplot(d.flatten(), shade=True, ax=self.ax2, label='Real data')\n",
            "<ipython-input-2-574068bb8da8>:50: FutureWarning: \n",
            "\n",
            "`shade` is now deprecated in favor of `fill`; setting `fill=True`.\n",
            "This will become an error in seaborn v0.14.0; please update your code.\n",
            "\n",
            "  sns.kdeplot(g.flatten(), shade=True, ax=self.ax2, label='Generated data')\n"
          ]
        },
        {
          "output_type": "stream",
          "name": "stdout",
          "text": [
            "step: 7300, negative critic loss:  -0.0169, time: 142 s\n"
          ]
        },
        {
          "output_type": "stream",
          "name": "stderr",
          "text": [
            "<ipython-input-2-574068bb8da8>:49: FutureWarning: \n",
            "\n",
            "`shade` is now deprecated in favor of `fill`; setting `fill=True`.\n",
            "This will become an error in seaborn v0.14.0; please update your code.\n",
            "\n",
            "  sns.kdeplot(d.flatten(), shade=True, ax=self.ax2, label='Real data')\n",
            "<ipython-input-2-574068bb8da8>:50: FutureWarning: \n",
            "\n",
            "`shade` is now deprecated in favor of `fill`; setting `fill=True`.\n",
            "This will become an error in seaborn v0.14.0; please update your code.\n",
            "\n",
            "  sns.kdeplot(g.flatten(), shade=True, ax=self.ax2, label='Generated data')\n"
          ]
        },
        {
          "output_type": "stream",
          "name": "stdout",
          "text": [
            "step: 7350, negative critic loss:   0.0294, time: 143 s\n"
          ]
        },
        {
          "output_type": "stream",
          "name": "stderr",
          "text": [
            "<ipython-input-2-574068bb8da8>:49: FutureWarning: \n",
            "\n",
            "`shade` is now deprecated in favor of `fill`; setting `fill=True`.\n",
            "This will become an error in seaborn v0.14.0; please update your code.\n",
            "\n",
            "  sns.kdeplot(d.flatten(), shade=True, ax=self.ax2, label='Real data')\n",
            "<ipython-input-2-574068bb8da8>:50: FutureWarning: \n",
            "\n",
            "`shade` is now deprecated in favor of `fill`; setting `fill=True`.\n",
            "This will become an error in seaborn v0.14.0; please update your code.\n",
            "\n",
            "  sns.kdeplot(g.flatten(), shade=True, ax=self.ax2, label='Generated data')\n"
          ]
        },
        {
          "output_type": "stream",
          "name": "stdout",
          "text": [
            "step: 7400, negative critic loss:   0.0106, time: 144 s\n"
          ]
        },
        {
          "output_type": "stream",
          "name": "stderr",
          "text": [
            "<ipython-input-2-574068bb8da8>:49: FutureWarning: \n",
            "\n",
            "`shade` is now deprecated in favor of `fill`; setting `fill=True`.\n",
            "This will become an error in seaborn v0.14.0; please update your code.\n",
            "\n",
            "  sns.kdeplot(d.flatten(), shade=True, ax=self.ax2, label='Real data')\n",
            "<ipython-input-2-574068bb8da8>:50: FutureWarning: \n",
            "\n",
            "`shade` is now deprecated in favor of `fill`; setting `fill=True`.\n",
            "This will become an error in seaborn v0.14.0; please update your code.\n",
            "\n",
            "  sns.kdeplot(g.flatten(), shade=True, ax=self.ax2, label='Generated data')\n"
          ]
        },
        {
          "output_type": "stream",
          "name": "stdout",
          "text": [
            "step: 7450, negative critic loss:  -0.0273, time: 145 s\n"
          ]
        },
        {
          "output_type": "stream",
          "name": "stderr",
          "text": [
            "<ipython-input-2-574068bb8da8>:49: FutureWarning: \n",
            "\n",
            "`shade` is now deprecated in favor of `fill`; setting `fill=True`.\n",
            "This will become an error in seaborn v0.14.0; please update your code.\n",
            "\n",
            "  sns.kdeplot(d.flatten(), shade=True, ax=self.ax2, label='Real data')\n",
            "<ipython-input-2-574068bb8da8>:50: FutureWarning: \n",
            "\n",
            "`shade` is now deprecated in favor of `fill`; setting `fill=True`.\n",
            "This will become an error in seaborn v0.14.0; please update your code.\n",
            "\n",
            "  sns.kdeplot(g.flatten(), shade=True, ax=self.ax2, label='Generated data')\n"
          ]
        },
        {
          "output_type": "stream",
          "name": "stdout",
          "text": [
            "step: 7500, negative critic loss:   0.0367, time: 145 s\n"
          ]
        },
        {
          "output_type": "stream",
          "name": "stderr",
          "text": [
            "<ipython-input-2-574068bb8da8>:49: FutureWarning: \n",
            "\n",
            "`shade` is now deprecated in favor of `fill`; setting `fill=True`.\n",
            "This will become an error in seaborn v0.14.0; please update your code.\n",
            "\n",
            "  sns.kdeplot(d.flatten(), shade=True, ax=self.ax2, label='Real data')\n",
            "<ipython-input-2-574068bb8da8>:50: FutureWarning: \n",
            "\n",
            "`shade` is now deprecated in favor of `fill`; setting `fill=True`.\n",
            "This will become an error in seaborn v0.14.0; please update your code.\n",
            "\n",
            "  sns.kdeplot(g.flatten(), shade=True, ax=self.ax2, label='Generated data')\n"
          ]
        },
        {
          "output_type": "stream",
          "name": "stdout",
          "text": [
            "step: 7550, negative critic loss:   0.0185, time: 147 s\n"
          ]
        },
        {
          "output_type": "stream",
          "name": "stderr",
          "text": [
            "<ipython-input-2-574068bb8da8>:49: FutureWarning: \n",
            "\n",
            "`shade` is now deprecated in favor of `fill`; setting `fill=True`.\n",
            "This will become an error in seaborn v0.14.0; please update your code.\n",
            "\n",
            "  sns.kdeplot(d.flatten(), shade=True, ax=self.ax2, label='Real data')\n",
            "<ipython-input-2-574068bb8da8>:50: FutureWarning: \n",
            "\n",
            "`shade` is now deprecated in favor of `fill`; setting `fill=True`.\n",
            "This will become an error in seaborn v0.14.0; please update your code.\n",
            "\n",
            "  sns.kdeplot(g.flatten(), shade=True, ax=self.ax2, label='Generated data')\n"
          ]
        },
        {
          "output_type": "stream",
          "name": "stdout",
          "text": [
            "step: 7600, negative critic loss:   0.0840, time: 148 s\n"
          ]
        },
        {
          "output_type": "stream",
          "name": "stderr",
          "text": [
            "<ipython-input-2-574068bb8da8>:49: FutureWarning: \n",
            "\n",
            "`shade` is now deprecated in favor of `fill`; setting `fill=True`.\n",
            "This will become an error in seaborn v0.14.0; please update your code.\n",
            "\n",
            "  sns.kdeplot(d.flatten(), shade=True, ax=self.ax2, label='Real data')\n",
            "<ipython-input-2-574068bb8da8>:50: FutureWarning: \n",
            "\n",
            "`shade` is now deprecated in favor of `fill`; setting `fill=True`.\n",
            "This will become an error in seaborn v0.14.0; please update your code.\n",
            "\n",
            "  sns.kdeplot(g.flatten(), shade=True, ax=self.ax2, label='Generated data')\n"
          ]
        },
        {
          "output_type": "stream",
          "name": "stdout",
          "text": [
            "step: 7650, negative critic loss:   0.0387, time: 149 s\n"
          ]
        },
        {
          "output_type": "stream",
          "name": "stderr",
          "text": [
            "<ipython-input-2-574068bb8da8>:49: FutureWarning: \n",
            "\n",
            "`shade` is now deprecated in favor of `fill`; setting `fill=True`.\n",
            "This will become an error in seaborn v0.14.0; please update your code.\n",
            "\n",
            "  sns.kdeplot(d.flatten(), shade=True, ax=self.ax2, label='Real data')\n",
            "<ipython-input-2-574068bb8da8>:50: FutureWarning: \n",
            "\n",
            "`shade` is now deprecated in favor of `fill`; setting `fill=True`.\n",
            "This will become an error in seaborn v0.14.0; please update your code.\n",
            "\n",
            "  sns.kdeplot(g.flatten(), shade=True, ax=self.ax2, label='Generated data')\n"
          ]
        },
        {
          "output_type": "stream",
          "name": "stdout",
          "text": [
            "step: 7700, negative critic loss:   0.0134, time: 150 s\n"
          ]
        },
        {
          "output_type": "stream",
          "name": "stderr",
          "text": [
            "<ipython-input-2-574068bb8da8>:49: FutureWarning: \n",
            "\n",
            "`shade` is now deprecated in favor of `fill`; setting `fill=True`.\n",
            "This will become an error in seaborn v0.14.0; please update your code.\n",
            "\n",
            "  sns.kdeplot(d.flatten(), shade=True, ax=self.ax2, label='Real data')\n",
            "<ipython-input-2-574068bb8da8>:50: FutureWarning: \n",
            "\n",
            "`shade` is now deprecated in favor of `fill`; setting `fill=True`.\n",
            "This will become an error in seaborn v0.14.0; please update your code.\n",
            "\n",
            "  sns.kdeplot(g.flatten(), shade=True, ax=self.ax2, label='Generated data')\n"
          ]
        },
        {
          "output_type": "stream",
          "name": "stdout",
          "text": [
            "step: 7750, negative critic loss:   0.0124, time: 152 s\n"
          ]
        },
        {
          "output_type": "stream",
          "name": "stderr",
          "text": [
            "<ipython-input-2-574068bb8da8>:49: FutureWarning: \n",
            "\n",
            "`shade` is now deprecated in favor of `fill`; setting `fill=True`.\n",
            "This will become an error in seaborn v0.14.0; please update your code.\n",
            "\n",
            "  sns.kdeplot(d.flatten(), shade=True, ax=self.ax2, label='Real data')\n",
            "<ipython-input-2-574068bb8da8>:50: FutureWarning: \n",
            "\n",
            "`shade` is now deprecated in favor of `fill`; setting `fill=True`.\n",
            "This will become an error in seaborn v0.14.0; please update your code.\n",
            "\n",
            "  sns.kdeplot(g.flatten(), shade=True, ax=self.ax2, label='Generated data')\n"
          ]
        },
        {
          "output_type": "stream",
          "name": "stdout",
          "text": [
            "step: 7800, negative critic loss:   0.0239, time: 154 s\n"
          ]
        },
        {
          "output_type": "stream",
          "name": "stderr",
          "text": [
            "<ipython-input-2-574068bb8da8>:49: FutureWarning: \n",
            "\n",
            "`shade` is now deprecated in favor of `fill`; setting `fill=True`.\n",
            "This will become an error in seaborn v0.14.0; please update your code.\n",
            "\n",
            "  sns.kdeplot(d.flatten(), shade=True, ax=self.ax2, label='Real data')\n",
            "<ipython-input-2-574068bb8da8>:50: FutureWarning: \n",
            "\n",
            "`shade` is now deprecated in favor of `fill`; setting `fill=True`.\n",
            "This will become an error in seaborn v0.14.0; please update your code.\n",
            "\n",
            "  sns.kdeplot(g.flatten(), shade=True, ax=self.ax2, label='Generated data')\n"
          ]
        },
        {
          "output_type": "stream",
          "name": "stdout",
          "text": [
            "step: 7850, negative critic loss:  -0.0435, time: 155 s\n"
          ]
        },
        {
          "output_type": "stream",
          "name": "stderr",
          "text": [
            "<ipython-input-2-574068bb8da8>:49: FutureWarning: \n",
            "\n",
            "`shade` is now deprecated in favor of `fill`; setting `fill=True`.\n",
            "This will become an error in seaborn v0.14.0; please update your code.\n",
            "\n",
            "  sns.kdeplot(d.flatten(), shade=True, ax=self.ax2, label='Real data')\n",
            "<ipython-input-2-574068bb8da8>:50: FutureWarning: \n",
            "\n",
            "`shade` is now deprecated in favor of `fill`; setting `fill=True`.\n",
            "This will become an error in seaborn v0.14.0; please update your code.\n",
            "\n",
            "  sns.kdeplot(g.flatten(), shade=True, ax=self.ax2, label='Generated data')\n"
          ]
        },
        {
          "output_type": "stream",
          "name": "stdout",
          "text": [
            "step: 7900, negative critic loss:  -0.0270, time: 157 s\n"
          ]
        },
        {
          "output_type": "stream",
          "name": "stderr",
          "text": [
            "<ipython-input-2-574068bb8da8>:49: FutureWarning: \n",
            "\n",
            "`shade` is now deprecated in favor of `fill`; setting `fill=True`.\n",
            "This will become an error in seaborn v0.14.0; please update your code.\n",
            "\n",
            "  sns.kdeplot(d.flatten(), shade=True, ax=self.ax2, label='Real data')\n",
            "<ipython-input-2-574068bb8da8>:50: FutureWarning: \n",
            "\n",
            "`shade` is now deprecated in favor of `fill`; setting `fill=True`.\n",
            "This will become an error in seaborn v0.14.0; please update your code.\n",
            "\n",
            "  sns.kdeplot(g.flatten(), shade=True, ax=self.ax2, label='Generated data')\n"
          ]
        },
        {
          "output_type": "stream",
          "name": "stdout",
          "text": [
            "step: 7950, negative critic loss:  -0.0147, time: 159 s\n"
          ]
        },
        {
          "output_type": "stream",
          "name": "stderr",
          "text": [
            "<ipython-input-2-574068bb8da8>:49: FutureWarning: \n",
            "\n",
            "`shade` is now deprecated in favor of `fill`; setting `fill=True`.\n",
            "This will become an error in seaborn v0.14.0; please update your code.\n",
            "\n",
            "  sns.kdeplot(d.flatten(), shade=True, ax=self.ax2, label='Real data')\n",
            "<ipython-input-2-574068bb8da8>:50: FutureWarning: \n",
            "\n",
            "`shade` is now deprecated in favor of `fill`; setting `fill=True`.\n",
            "This will become an error in seaborn v0.14.0; please update your code.\n",
            "\n",
            "  sns.kdeplot(g.flatten(), shade=True, ax=self.ax2, label='Generated data')\n"
          ]
        },
        {
          "output_type": "stream",
          "name": "stdout",
          "text": [
            "step: 8000, negative critic loss:   0.0678, time: 162 s\n"
          ]
        },
        {
          "output_type": "stream",
          "name": "stderr",
          "text": [
            "<ipython-input-2-574068bb8da8>:49: FutureWarning: \n",
            "\n",
            "`shade` is now deprecated in favor of `fill`; setting `fill=True`.\n",
            "This will become an error in seaborn v0.14.0; please update your code.\n",
            "\n",
            "  sns.kdeplot(d.flatten(), shade=True, ax=self.ax2, label='Real data')\n",
            "<ipython-input-2-574068bb8da8>:50: FutureWarning: \n",
            "\n",
            "`shade` is now deprecated in favor of `fill`; setting `fill=True`.\n",
            "This will become an error in seaborn v0.14.0; please update your code.\n",
            "\n",
            "  sns.kdeplot(g.flatten(), shade=True, ax=self.ax2, label='Generated data')\n"
          ]
        },
        {
          "output_type": "stream",
          "name": "stdout",
          "text": [
            "step: 8050, negative critic loss:  -0.0524, time: 164 s\n"
          ]
        },
        {
          "output_type": "stream",
          "name": "stderr",
          "text": [
            "<ipython-input-2-574068bb8da8>:49: FutureWarning: \n",
            "\n",
            "`shade` is now deprecated in favor of `fill`; setting `fill=True`.\n",
            "This will become an error in seaborn v0.14.0; please update your code.\n",
            "\n",
            "  sns.kdeplot(d.flatten(), shade=True, ax=self.ax2, label='Real data')\n",
            "<ipython-input-2-574068bb8da8>:50: FutureWarning: \n",
            "\n",
            "`shade` is now deprecated in favor of `fill`; setting `fill=True`.\n",
            "This will become an error in seaborn v0.14.0; please update your code.\n",
            "\n",
            "  sns.kdeplot(g.flatten(), shade=True, ax=self.ax2, label='Generated data')\n"
          ]
        },
        {
          "output_type": "stream",
          "name": "stdout",
          "text": [
            "step: 8100, negative critic loss:  -0.0748, time: 165 s\n"
          ]
        },
        {
          "output_type": "stream",
          "name": "stderr",
          "text": [
            "<ipython-input-2-574068bb8da8>:49: FutureWarning: \n",
            "\n",
            "`shade` is now deprecated in favor of `fill`; setting `fill=True`.\n",
            "This will become an error in seaborn v0.14.0; please update your code.\n",
            "\n",
            "  sns.kdeplot(d.flatten(), shade=True, ax=self.ax2, label='Real data')\n",
            "<ipython-input-2-574068bb8da8>:50: FutureWarning: \n",
            "\n",
            "`shade` is now deprecated in favor of `fill`; setting `fill=True`.\n",
            "This will become an error in seaborn v0.14.0; please update your code.\n",
            "\n",
            "  sns.kdeplot(g.flatten(), shade=True, ax=self.ax2, label='Generated data')\n"
          ]
        },
        {
          "output_type": "stream",
          "name": "stdout",
          "text": [
            "step: 8150, negative critic loss:   0.1094, time: 165 s\n"
          ]
        },
        {
          "output_type": "stream",
          "name": "stderr",
          "text": [
            "<ipython-input-2-574068bb8da8>:49: FutureWarning: \n",
            "\n",
            "`shade` is now deprecated in favor of `fill`; setting `fill=True`.\n",
            "This will become an error in seaborn v0.14.0; please update your code.\n",
            "\n",
            "  sns.kdeplot(d.flatten(), shade=True, ax=self.ax2, label='Real data')\n",
            "<ipython-input-2-574068bb8da8>:50: FutureWarning: \n",
            "\n",
            "`shade` is now deprecated in favor of `fill`; setting `fill=True`.\n",
            "This will become an error in seaborn v0.14.0; please update your code.\n",
            "\n",
            "  sns.kdeplot(g.flatten(), shade=True, ax=self.ax2, label='Generated data')\n"
          ]
        },
        {
          "output_type": "stream",
          "name": "stdout",
          "text": [
            "step: 8200, negative critic loss:   0.0725, time: 166 s\n"
          ]
        },
        {
          "output_type": "stream",
          "name": "stderr",
          "text": [
            "<ipython-input-2-574068bb8da8>:49: FutureWarning: \n",
            "\n",
            "`shade` is now deprecated in favor of `fill`; setting `fill=True`.\n",
            "This will become an error in seaborn v0.14.0; please update your code.\n",
            "\n",
            "  sns.kdeplot(d.flatten(), shade=True, ax=self.ax2, label='Real data')\n",
            "<ipython-input-2-574068bb8da8>:50: FutureWarning: \n",
            "\n",
            "`shade` is now deprecated in favor of `fill`; setting `fill=True`.\n",
            "This will become an error in seaborn v0.14.0; please update your code.\n",
            "\n",
            "  sns.kdeplot(g.flatten(), shade=True, ax=self.ax2, label='Generated data')\n"
          ]
        },
        {
          "output_type": "stream",
          "name": "stdout",
          "text": [
            "step: 8250, negative critic loss:   0.0732, time: 167 s\n"
          ]
        },
        {
          "output_type": "stream",
          "name": "stderr",
          "text": [
            "<ipython-input-2-574068bb8da8>:49: FutureWarning: \n",
            "\n",
            "`shade` is now deprecated in favor of `fill`; setting `fill=True`.\n",
            "This will become an error in seaborn v0.14.0; please update your code.\n",
            "\n",
            "  sns.kdeplot(d.flatten(), shade=True, ax=self.ax2, label='Real data')\n",
            "<ipython-input-2-574068bb8da8>:50: FutureWarning: \n",
            "\n",
            "`shade` is now deprecated in favor of `fill`; setting `fill=True`.\n",
            "This will become an error in seaborn v0.14.0; please update your code.\n",
            "\n",
            "  sns.kdeplot(g.flatten(), shade=True, ax=self.ax2, label='Generated data')\n"
          ]
        },
        {
          "output_type": "stream",
          "name": "stdout",
          "text": [
            "step: 8300, negative critic loss:  -0.0121, time: 168 s\n"
          ]
        },
        {
          "output_type": "stream",
          "name": "stderr",
          "text": [
            "<ipython-input-2-574068bb8da8>:49: FutureWarning: \n",
            "\n",
            "`shade` is now deprecated in favor of `fill`; setting `fill=True`.\n",
            "This will become an error in seaborn v0.14.0; please update your code.\n",
            "\n",
            "  sns.kdeplot(d.flatten(), shade=True, ax=self.ax2, label='Real data')\n",
            "<ipython-input-2-574068bb8da8>:50: FutureWarning: \n",
            "\n",
            "`shade` is now deprecated in favor of `fill`; setting `fill=True`.\n",
            "This will become an error in seaborn v0.14.0; please update your code.\n",
            "\n",
            "  sns.kdeplot(g.flatten(), shade=True, ax=self.ax2, label='Generated data')\n"
          ]
        },
        {
          "output_type": "stream",
          "name": "stdout",
          "text": [
            "step: 8350, negative critic loss:   0.0384, time: 169 s\n"
          ]
        },
        {
          "output_type": "stream",
          "name": "stderr",
          "text": [
            "<ipython-input-2-574068bb8da8>:49: FutureWarning: \n",
            "\n",
            "`shade` is now deprecated in favor of `fill`; setting `fill=True`.\n",
            "This will become an error in seaborn v0.14.0; please update your code.\n",
            "\n",
            "  sns.kdeplot(d.flatten(), shade=True, ax=self.ax2, label='Real data')\n",
            "<ipython-input-2-574068bb8da8>:50: FutureWarning: \n",
            "\n",
            "`shade` is now deprecated in favor of `fill`; setting `fill=True`.\n",
            "This will become an error in seaborn v0.14.0; please update your code.\n",
            "\n",
            "  sns.kdeplot(g.flatten(), shade=True, ax=self.ax2, label='Generated data')\n"
          ]
        },
        {
          "output_type": "stream",
          "name": "stdout",
          "text": [
            "step: 8400, negative critic loss:   0.0111, time: 170 s\n"
          ]
        },
        {
          "output_type": "stream",
          "name": "stderr",
          "text": [
            "<ipython-input-2-574068bb8da8>:49: FutureWarning: \n",
            "\n",
            "`shade` is now deprecated in favor of `fill`; setting `fill=True`.\n",
            "This will become an error in seaborn v0.14.0; please update your code.\n",
            "\n",
            "  sns.kdeplot(d.flatten(), shade=True, ax=self.ax2, label='Real data')\n",
            "<ipython-input-2-574068bb8da8>:50: FutureWarning: \n",
            "\n",
            "`shade` is now deprecated in favor of `fill`; setting `fill=True`.\n",
            "This will become an error in seaborn v0.14.0; please update your code.\n",
            "\n",
            "  sns.kdeplot(g.flatten(), shade=True, ax=self.ax2, label='Generated data')\n"
          ]
        },
        {
          "output_type": "stream",
          "name": "stdout",
          "text": [
            "step: 8450, negative critic loss:  -0.0200, time: 171 s\n"
          ]
        },
        {
          "output_type": "stream",
          "name": "stderr",
          "text": [
            "<ipython-input-2-574068bb8da8>:49: FutureWarning: \n",
            "\n",
            "`shade` is now deprecated in favor of `fill`; setting `fill=True`.\n",
            "This will become an error in seaborn v0.14.0; please update your code.\n",
            "\n",
            "  sns.kdeplot(d.flatten(), shade=True, ax=self.ax2, label='Real data')\n",
            "<ipython-input-2-574068bb8da8>:50: FutureWarning: \n",
            "\n",
            "`shade` is now deprecated in favor of `fill`; setting `fill=True`.\n",
            "This will become an error in seaborn v0.14.0; please update your code.\n",
            "\n",
            "  sns.kdeplot(g.flatten(), shade=True, ax=self.ax2, label='Generated data')\n"
          ]
        },
        {
          "output_type": "stream",
          "name": "stdout",
          "text": [
            "step: 8500, negative critic loss:   0.0146, time: 172 s\n"
          ]
        },
        {
          "output_type": "stream",
          "name": "stderr",
          "text": [
            "<ipython-input-2-574068bb8da8>:49: FutureWarning: \n",
            "\n",
            "`shade` is now deprecated in favor of `fill`; setting `fill=True`.\n",
            "This will become an error in seaborn v0.14.0; please update your code.\n",
            "\n",
            "  sns.kdeplot(d.flatten(), shade=True, ax=self.ax2, label='Real data')\n",
            "<ipython-input-2-574068bb8da8>:50: FutureWarning: \n",
            "\n",
            "`shade` is now deprecated in favor of `fill`; setting `fill=True`.\n",
            "This will become an error in seaborn v0.14.0; please update your code.\n",
            "\n",
            "  sns.kdeplot(g.flatten(), shade=True, ax=self.ax2, label='Generated data')\n"
          ]
        },
        {
          "output_type": "stream",
          "name": "stdout",
          "text": [
            "step: 8550, negative critic loss:   0.0145, time: 173 s\n"
          ]
        },
        {
          "output_type": "stream",
          "name": "stderr",
          "text": [
            "<ipython-input-2-574068bb8da8>:49: FutureWarning: \n",
            "\n",
            "`shade` is now deprecated in favor of `fill`; setting `fill=True`.\n",
            "This will become an error in seaborn v0.14.0; please update your code.\n",
            "\n",
            "  sns.kdeplot(d.flatten(), shade=True, ax=self.ax2, label='Real data')\n",
            "<ipython-input-2-574068bb8da8>:50: FutureWarning: \n",
            "\n",
            "`shade` is now deprecated in favor of `fill`; setting `fill=True`.\n",
            "This will become an error in seaborn v0.14.0; please update your code.\n",
            "\n",
            "  sns.kdeplot(g.flatten(), shade=True, ax=self.ax2, label='Generated data')\n"
          ]
        },
        {
          "output_type": "stream",
          "name": "stdout",
          "text": [
            "step: 8600, negative critic loss:   0.0384, time: 174 s\n"
          ]
        },
        {
          "output_type": "stream",
          "name": "stderr",
          "text": [
            "<ipython-input-2-574068bb8da8>:49: FutureWarning: \n",
            "\n",
            "`shade` is now deprecated in favor of `fill`; setting `fill=True`.\n",
            "This will become an error in seaborn v0.14.0; please update your code.\n",
            "\n",
            "  sns.kdeplot(d.flatten(), shade=True, ax=self.ax2, label='Real data')\n",
            "<ipython-input-2-574068bb8da8>:50: FutureWarning: \n",
            "\n",
            "`shade` is now deprecated in favor of `fill`; setting `fill=True`.\n",
            "This will become an error in seaborn v0.14.0; please update your code.\n",
            "\n",
            "  sns.kdeplot(g.flatten(), shade=True, ax=self.ax2, label='Generated data')\n"
          ]
        },
        {
          "output_type": "stream",
          "name": "stdout",
          "text": [
            "step: 8650, negative critic loss:   0.0099, time: 175 s\n"
          ]
        },
        {
          "output_type": "stream",
          "name": "stderr",
          "text": [
            "<ipython-input-2-574068bb8da8>:49: FutureWarning: \n",
            "\n",
            "`shade` is now deprecated in favor of `fill`; setting `fill=True`.\n",
            "This will become an error in seaborn v0.14.0; please update your code.\n",
            "\n",
            "  sns.kdeplot(d.flatten(), shade=True, ax=self.ax2, label='Real data')\n",
            "<ipython-input-2-574068bb8da8>:50: FutureWarning: \n",
            "\n",
            "`shade` is now deprecated in favor of `fill`; setting `fill=True`.\n",
            "This will become an error in seaborn v0.14.0; please update your code.\n",
            "\n",
            "  sns.kdeplot(g.flatten(), shade=True, ax=self.ax2, label='Generated data')\n"
          ]
        },
        {
          "output_type": "stream",
          "name": "stdout",
          "text": [
            "step: 8700, negative critic loss:  -0.0255, time: 176 s\n"
          ]
        },
        {
          "output_type": "stream",
          "name": "stderr",
          "text": [
            "<ipython-input-2-574068bb8da8>:49: FutureWarning: \n",
            "\n",
            "`shade` is now deprecated in favor of `fill`; setting `fill=True`.\n",
            "This will become an error in seaborn v0.14.0; please update your code.\n",
            "\n",
            "  sns.kdeplot(d.flatten(), shade=True, ax=self.ax2, label='Real data')\n",
            "<ipython-input-2-574068bb8da8>:50: FutureWarning: \n",
            "\n",
            "`shade` is now deprecated in favor of `fill`; setting `fill=True`.\n",
            "This will become an error in seaborn v0.14.0; please update your code.\n",
            "\n",
            "  sns.kdeplot(g.flatten(), shade=True, ax=self.ax2, label='Generated data')\n"
          ]
        },
        {
          "output_type": "stream",
          "name": "stdout",
          "text": [
            "step: 8750, negative critic loss:  -0.0302, time: 177 s\n"
          ]
        },
        {
          "output_type": "stream",
          "name": "stderr",
          "text": [
            "<ipython-input-2-574068bb8da8>:49: FutureWarning: \n",
            "\n",
            "`shade` is now deprecated in favor of `fill`; setting `fill=True`.\n",
            "This will become an error in seaborn v0.14.0; please update your code.\n",
            "\n",
            "  sns.kdeplot(d.flatten(), shade=True, ax=self.ax2, label='Real data')\n",
            "<ipython-input-2-574068bb8da8>:50: FutureWarning: \n",
            "\n",
            "`shade` is now deprecated in favor of `fill`; setting `fill=True`.\n",
            "This will become an error in seaborn v0.14.0; please update your code.\n",
            "\n",
            "  sns.kdeplot(g.flatten(), shade=True, ax=self.ax2, label='Generated data')\n"
          ]
        },
        {
          "output_type": "stream",
          "name": "stdout",
          "text": [
            "step: 8800, negative critic loss:   0.0678, time: 178 s\n"
          ]
        },
        {
          "output_type": "stream",
          "name": "stderr",
          "text": [
            "<ipython-input-2-574068bb8da8>:49: FutureWarning: \n",
            "\n",
            "`shade` is now deprecated in favor of `fill`; setting `fill=True`.\n",
            "This will become an error in seaborn v0.14.0; please update your code.\n",
            "\n",
            "  sns.kdeplot(d.flatten(), shade=True, ax=self.ax2, label='Real data')\n",
            "<ipython-input-2-574068bb8da8>:50: FutureWarning: \n",
            "\n",
            "`shade` is now deprecated in favor of `fill`; setting `fill=True`.\n",
            "This will become an error in seaborn v0.14.0; please update your code.\n",
            "\n",
            "  sns.kdeplot(g.flatten(), shade=True, ax=self.ax2, label='Generated data')\n"
          ]
        },
        {
          "output_type": "stream",
          "name": "stdout",
          "text": [
            "step: 8850, negative critic loss:   0.0392, time: 179 s\n"
          ]
        },
        {
          "output_type": "stream",
          "name": "stderr",
          "text": [
            "<ipython-input-2-574068bb8da8>:49: FutureWarning: \n",
            "\n",
            "`shade` is now deprecated in favor of `fill`; setting `fill=True`.\n",
            "This will become an error in seaborn v0.14.0; please update your code.\n",
            "\n",
            "  sns.kdeplot(d.flatten(), shade=True, ax=self.ax2, label='Real data')\n",
            "<ipython-input-2-574068bb8da8>:50: FutureWarning: \n",
            "\n",
            "`shade` is now deprecated in favor of `fill`; setting `fill=True`.\n",
            "This will become an error in seaborn v0.14.0; please update your code.\n",
            "\n",
            "  sns.kdeplot(g.flatten(), shade=True, ax=self.ax2, label='Generated data')\n"
          ]
        },
        {
          "output_type": "stream",
          "name": "stdout",
          "text": [
            "step: 8900, negative critic loss:   0.0420, time: 180 s\n"
          ]
        },
        {
          "output_type": "stream",
          "name": "stderr",
          "text": [
            "<ipython-input-2-574068bb8da8>:49: FutureWarning: \n",
            "\n",
            "`shade` is now deprecated in favor of `fill`; setting `fill=True`.\n",
            "This will become an error in seaborn v0.14.0; please update your code.\n",
            "\n",
            "  sns.kdeplot(d.flatten(), shade=True, ax=self.ax2, label='Real data')\n",
            "<ipython-input-2-574068bb8da8>:50: FutureWarning: \n",
            "\n",
            "`shade` is now deprecated in favor of `fill`; setting `fill=True`.\n",
            "This will become an error in seaborn v0.14.0; please update your code.\n",
            "\n",
            "  sns.kdeplot(g.flatten(), shade=True, ax=self.ax2, label='Generated data')\n"
          ]
        },
        {
          "output_type": "stream",
          "name": "stdout",
          "text": [
            "step: 8950, negative critic loss:  -0.0142, time: 181 s\n"
          ]
        },
        {
          "output_type": "stream",
          "name": "stderr",
          "text": [
            "<ipython-input-2-574068bb8da8>:49: FutureWarning: \n",
            "\n",
            "`shade` is now deprecated in favor of `fill`; setting `fill=True`.\n",
            "This will become an error in seaborn v0.14.0; please update your code.\n",
            "\n",
            "  sns.kdeplot(d.flatten(), shade=True, ax=self.ax2, label='Real data')\n",
            "<ipython-input-2-574068bb8da8>:50: FutureWarning: \n",
            "\n",
            "`shade` is now deprecated in favor of `fill`; setting `fill=True`.\n",
            "This will become an error in seaborn v0.14.0; please update your code.\n",
            "\n",
            "  sns.kdeplot(g.flatten(), shade=True, ax=self.ax2, label='Generated data')\n"
          ]
        },
        {
          "output_type": "stream",
          "name": "stdout",
          "text": [
            "step: 9000, negative critic loss:  -0.0401, time: 182 s\n"
          ]
        },
        {
          "output_type": "stream",
          "name": "stderr",
          "text": [
            "<ipython-input-2-574068bb8da8>:49: FutureWarning: \n",
            "\n",
            "`shade` is now deprecated in favor of `fill`; setting `fill=True`.\n",
            "This will become an error in seaborn v0.14.0; please update your code.\n",
            "\n",
            "  sns.kdeplot(d.flatten(), shade=True, ax=self.ax2, label='Real data')\n",
            "<ipython-input-2-574068bb8da8>:50: FutureWarning: \n",
            "\n",
            "`shade` is now deprecated in favor of `fill`; setting `fill=True`.\n",
            "This will become an error in seaborn v0.14.0; please update your code.\n",
            "\n",
            "  sns.kdeplot(g.flatten(), shade=True, ax=self.ax2, label='Generated data')\n"
          ]
        },
        {
          "output_type": "stream",
          "name": "stdout",
          "text": [
            "step: 9050, negative critic loss:  -0.0088, time: 183 s\n"
          ]
        },
        {
          "output_type": "stream",
          "name": "stderr",
          "text": [
            "<ipython-input-2-574068bb8da8>:49: FutureWarning: \n",
            "\n",
            "`shade` is now deprecated in favor of `fill`; setting `fill=True`.\n",
            "This will become an error in seaborn v0.14.0; please update your code.\n",
            "\n",
            "  sns.kdeplot(d.flatten(), shade=True, ax=self.ax2, label='Real data')\n",
            "<ipython-input-2-574068bb8da8>:50: FutureWarning: \n",
            "\n",
            "`shade` is now deprecated in favor of `fill`; setting `fill=True`.\n",
            "This will become an error in seaborn v0.14.0; please update your code.\n",
            "\n",
            "  sns.kdeplot(g.flatten(), shade=True, ax=self.ax2, label='Generated data')\n"
          ]
        },
        {
          "output_type": "stream",
          "name": "stdout",
          "text": [
            "step: 9100, negative critic loss:   0.0007, time: 183 s\n"
          ]
        },
        {
          "output_type": "stream",
          "name": "stderr",
          "text": [
            "<ipython-input-2-574068bb8da8>:49: FutureWarning: \n",
            "\n",
            "`shade` is now deprecated in favor of `fill`; setting `fill=True`.\n",
            "This will become an error in seaborn v0.14.0; please update your code.\n",
            "\n",
            "  sns.kdeplot(d.flatten(), shade=True, ax=self.ax2, label='Real data')\n",
            "<ipython-input-2-574068bb8da8>:50: FutureWarning: \n",
            "\n",
            "`shade` is now deprecated in favor of `fill`; setting `fill=True`.\n",
            "This will become an error in seaborn v0.14.0; please update your code.\n",
            "\n",
            "  sns.kdeplot(g.flatten(), shade=True, ax=self.ax2, label='Generated data')\n"
          ]
        },
        {
          "output_type": "stream",
          "name": "stdout",
          "text": [
            "step: 9150, negative critic loss:   0.0166, time: 184 s\n"
          ]
        },
        {
          "output_type": "stream",
          "name": "stderr",
          "text": [
            "<ipython-input-2-574068bb8da8>:49: FutureWarning: \n",
            "\n",
            "`shade` is now deprecated in favor of `fill`; setting `fill=True`.\n",
            "This will become an error in seaborn v0.14.0; please update your code.\n",
            "\n",
            "  sns.kdeplot(d.flatten(), shade=True, ax=self.ax2, label='Real data')\n",
            "<ipython-input-2-574068bb8da8>:50: FutureWarning: \n",
            "\n",
            "`shade` is now deprecated in favor of `fill`; setting `fill=True`.\n",
            "This will become an error in seaborn v0.14.0; please update your code.\n",
            "\n",
            "  sns.kdeplot(g.flatten(), shade=True, ax=self.ax2, label='Generated data')\n"
          ]
        },
        {
          "output_type": "stream",
          "name": "stdout",
          "text": [
            "step: 9200, negative critic loss:   0.0472, time: 186 s\n"
          ]
        },
        {
          "output_type": "stream",
          "name": "stderr",
          "text": [
            "<ipython-input-2-574068bb8da8>:49: FutureWarning: \n",
            "\n",
            "`shade` is now deprecated in favor of `fill`; setting `fill=True`.\n",
            "This will become an error in seaborn v0.14.0; please update your code.\n",
            "\n",
            "  sns.kdeplot(d.flatten(), shade=True, ax=self.ax2, label='Real data')\n",
            "<ipython-input-2-574068bb8da8>:50: FutureWarning: \n",
            "\n",
            "`shade` is now deprecated in favor of `fill`; setting `fill=True`.\n",
            "This will become an error in seaborn v0.14.0; please update your code.\n",
            "\n",
            "  sns.kdeplot(g.flatten(), shade=True, ax=self.ax2, label='Generated data')\n"
          ]
        },
        {
          "output_type": "stream",
          "name": "stdout",
          "text": [
            "step: 9250, negative critic loss:  -0.0020, time: 187 s\n"
          ]
        },
        {
          "output_type": "stream",
          "name": "stderr",
          "text": [
            "<ipython-input-2-574068bb8da8>:49: FutureWarning: \n",
            "\n",
            "`shade` is now deprecated in favor of `fill`; setting `fill=True`.\n",
            "This will become an error in seaborn v0.14.0; please update your code.\n",
            "\n",
            "  sns.kdeplot(d.flatten(), shade=True, ax=self.ax2, label='Real data')\n",
            "<ipython-input-2-574068bb8da8>:50: FutureWarning: \n",
            "\n",
            "`shade` is now deprecated in favor of `fill`; setting `fill=True`.\n",
            "This will become an error in seaborn v0.14.0; please update your code.\n",
            "\n",
            "  sns.kdeplot(g.flatten(), shade=True, ax=self.ax2, label='Generated data')\n"
          ]
        },
        {
          "output_type": "stream",
          "name": "stdout",
          "text": [
            "step: 9300, negative critic loss:  -0.0436, time: 188 s\n"
          ]
        },
        {
          "output_type": "stream",
          "name": "stderr",
          "text": [
            "<ipython-input-2-574068bb8da8>:49: FutureWarning: \n",
            "\n",
            "`shade` is now deprecated in favor of `fill`; setting `fill=True`.\n",
            "This will become an error in seaborn v0.14.0; please update your code.\n",
            "\n",
            "  sns.kdeplot(d.flatten(), shade=True, ax=self.ax2, label='Real data')\n",
            "<ipython-input-2-574068bb8da8>:50: FutureWarning: \n",
            "\n",
            "`shade` is now deprecated in favor of `fill`; setting `fill=True`.\n",
            "This will become an error in seaborn v0.14.0; please update your code.\n",
            "\n",
            "  sns.kdeplot(g.flatten(), shade=True, ax=self.ax2, label='Generated data')\n"
          ]
        },
        {
          "output_type": "stream",
          "name": "stdout",
          "text": [
            "step: 9350, negative critic loss:   0.0603, time: 189 s\n"
          ]
        },
        {
          "output_type": "stream",
          "name": "stderr",
          "text": [
            "<ipython-input-2-574068bb8da8>:49: FutureWarning: \n",
            "\n",
            "`shade` is now deprecated in favor of `fill`; setting `fill=True`.\n",
            "This will become an error in seaborn v0.14.0; please update your code.\n",
            "\n",
            "  sns.kdeplot(d.flatten(), shade=True, ax=self.ax2, label='Real data')\n",
            "<ipython-input-2-574068bb8da8>:50: FutureWarning: \n",
            "\n",
            "`shade` is now deprecated in favor of `fill`; setting `fill=True`.\n",
            "This will become an error in seaborn v0.14.0; please update your code.\n",
            "\n",
            "  sns.kdeplot(g.flatten(), shade=True, ax=self.ax2, label='Generated data')\n"
          ]
        },
        {
          "output_type": "stream",
          "name": "stdout",
          "text": [
            "step: 9400, negative critic loss:   0.0310, time: 190 s\n"
          ]
        },
        {
          "output_type": "stream",
          "name": "stderr",
          "text": [
            "<ipython-input-2-574068bb8da8>:49: FutureWarning: \n",
            "\n",
            "`shade` is now deprecated in favor of `fill`; setting `fill=True`.\n",
            "This will become an error in seaborn v0.14.0; please update your code.\n",
            "\n",
            "  sns.kdeplot(d.flatten(), shade=True, ax=self.ax2, label='Real data')\n",
            "<ipython-input-2-574068bb8da8>:50: FutureWarning: \n",
            "\n",
            "`shade` is now deprecated in favor of `fill`; setting `fill=True`.\n",
            "This will become an error in seaborn v0.14.0; please update your code.\n",
            "\n",
            "  sns.kdeplot(g.flatten(), shade=True, ax=self.ax2, label='Generated data')\n"
          ]
        },
        {
          "output_type": "stream",
          "name": "stdout",
          "text": [
            "step: 9450, negative critic loss:  -0.0777, time: 190 s\n"
          ]
        },
        {
          "output_type": "stream",
          "name": "stderr",
          "text": [
            "<ipython-input-2-574068bb8da8>:49: FutureWarning: \n",
            "\n",
            "`shade` is now deprecated in favor of `fill`; setting `fill=True`.\n",
            "This will become an error in seaborn v0.14.0; please update your code.\n",
            "\n",
            "  sns.kdeplot(d.flatten(), shade=True, ax=self.ax2, label='Real data')\n",
            "<ipython-input-2-574068bb8da8>:50: FutureWarning: \n",
            "\n",
            "`shade` is now deprecated in favor of `fill`; setting `fill=True`.\n",
            "This will become an error in seaborn v0.14.0; please update your code.\n",
            "\n",
            "  sns.kdeplot(g.flatten(), shade=True, ax=self.ax2, label='Generated data')\n"
          ]
        },
        {
          "output_type": "stream",
          "name": "stdout",
          "text": [
            "step: 9500, negative critic loss:   0.0542, time: 191 s\n"
          ]
        },
        {
          "output_type": "stream",
          "name": "stderr",
          "text": [
            "<ipython-input-2-574068bb8da8>:49: FutureWarning: \n",
            "\n",
            "`shade` is now deprecated in favor of `fill`; setting `fill=True`.\n",
            "This will become an error in seaborn v0.14.0; please update your code.\n",
            "\n",
            "  sns.kdeplot(d.flatten(), shade=True, ax=self.ax2, label='Real data')\n",
            "<ipython-input-2-574068bb8da8>:50: FutureWarning: \n",
            "\n",
            "`shade` is now deprecated in favor of `fill`; setting `fill=True`.\n",
            "This will become an error in seaborn v0.14.0; please update your code.\n",
            "\n",
            "  sns.kdeplot(g.flatten(), shade=True, ax=self.ax2, label='Generated data')\n"
          ]
        },
        {
          "output_type": "stream",
          "name": "stdout",
          "text": [
            "step: 9550, negative critic loss:   0.0179, time: 192 s\n"
          ]
        },
        {
          "output_type": "stream",
          "name": "stderr",
          "text": [
            "<ipython-input-2-574068bb8da8>:49: FutureWarning: \n",
            "\n",
            "`shade` is now deprecated in favor of `fill`; setting `fill=True`.\n",
            "This will become an error in seaborn v0.14.0; please update your code.\n",
            "\n",
            "  sns.kdeplot(d.flatten(), shade=True, ax=self.ax2, label='Real data')\n",
            "<ipython-input-2-574068bb8da8>:50: FutureWarning: \n",
            "\n",
            "`shade` is now deprecated in favor of `fill`; setting `fill=True`.\n",
            "This will become an error in seaborn v0.14.0; please update your code.\n",
            "\n",
            "  sns.kdeplot(g.flatten(), shade=True, ax=self.ax2, label='Generated data')\n"
          ]
        },
        {
          "output_type": "stream",
          "name": "stdout",
          "text": [
            "step: 9600, negative critic loss:   0.0315, time: 193 s\n"
          ]
        },
        {
          "output_type": "stream",
          "name": "stderr",
          "text": [
            "<ipython-input-2-574068bb8da8>:49: FutureWarning: \n",
            "\n",
            "`shade` is now deprecated in favor of `fill`; setting `fill=True`.\n",
            "This will become an error in seaborn v0.14.0; please update your code.\n",
            "\n",
            "  sns.kdeplot(d.flatten(), shade=True, ax=self.ax2, label='Real data')\n",
            "<ipython-input-2-574068bb8da8>:50: FutureWarning: \n",
            "\n",
            "`shade` is now deprecated in favor of `fill`; setting `fill=True`.\n",
            "This will become an error in seaborn v0.14.0; please update your code.\n",
            "\n",
            "  sns.kdeplot(g.flatten(), shade=True, ax=self.ax2, label='Generated data')\n"
          ]
        },
        {
          "output_type": "stream",
          "name": "stdout",
          "text": [
            "step: 9650, negative critic loss:   0.0044, time: 194 s\n"
          ]
        },
        {
          "output_type": "stream",
          "name": "stderr",
          "text": [
            "<ipython-input-2-574068bb8da8>:49: FutureWarning: \n",
            "\n",
            "`shade` is now deprecated in favor of `fill`; setting `fill=True`.\n",
            "This will become an error in seaborn v0.14.0; please update your code.\n",
            "\n",
            "  sns.kdeplot(d.flatten(), shade=True, ax=self.ax2, label='Real data')\n",
            "<ipython-input-2-574068bb8da8>:50: FutureWarning: \n",
            "\n",
            "`shade` is now deprecated in favor of `fill`; setting `fill=True`.\n",
            "This will become an error in seaborn v0.14.0; please update your code.\n",
            "\n",
            "  sns.kdeplot(g.flatten(), shade=True, ax=self.ax2, label='Generated data')\n"
          ]
        },
        {
          "output_type": "stream",
          "name": "stdout",
          "text": [
            "step: 9700, negative critic loss:  -0.0197, time: 195 s\n"
          ]
        },
        {
          "output_type": "stream",
          "name": "stderr",
          "text": [
            "<ipython-input-2-574068bb8da8>:49: FutureWarning: \n",
            "\n",
            "`shade` is now deprecated in favor of `fill`; setting `fill=True`.\n",
            "This will become an error in seaborn v0.14.0; please update your code.\n",
            "\n",
            "  sns.kdeplot(d.flatten(), shade=True, ax=self.ax2, label='Real data')\n",
            "<ipython-input-2-574068bb8da8>:50: FutureWarning: \n",
            "\n",
            "`shade` is now deprecated in favor of `fill`; setting `fill=True`.\n",
            "This will become an error in seaborn v0.14.0; please update your code.\n",
            "\n",
            "  sns.kdeplot(g.flatten(), shade=True, ax=self.ax2, label='Generated data')\n"
          ]
        },
        {
          "output_type": "stream",
          "name": "stdout",
          "text": [
            "step: 9750, negative critic loss:  -0.0449, time: 196 s\n"
          ]
        },
        {
          "output_type": "stream",
          "name": "stderr",
          "text": [
            "<ipython-input-2-574068bb8da8>:49: FutureWarning: \n",
            "\n",
            "`shade` is now deprecated in favor of `fill`; setting `fill=True`.\n",
            "This will become an error in seaborn v0.14.0; please update your code.\n",
            "\n",
            "  sns.kdeplot(d.flatten(), shade=True, ax=self.ax2, label='Real data')\n",
            "<ipython-input-2-574068bb8da8>:50: FutureWarning: \n",
            "\n",
            "`shade` is now deprecated in favor of `fill`; setting `fill=True`.\n",
            "This will become an error in seaborn v0.14.0; please update your code.\n",
            "\n",
            "  sns.kdeplot(g.flatten(), shade=True, ax=self.ax2, label='Generated data')\n"
          ]
        },
        {
          "output_type": "stream",
          "name": "stdout",
          "text": [
            "step: 9800, negative critic loss:   0.0033, time: 197 s\n"
          ]
        },
        {
          "output_type": "stream",
          "name": "stderr",
          "text": [
            "<ipython-input-2-574068bb8da8>:49: FutureWarning: \n",
            "\n",
            "`shade` is now deprecated in favor of `fill`; setting `fill=True`.\n",
            "This will become an error in seaborn v0.14.0; please update your code.\n",
            "\n",
            "  sns.kdeplot(d.flatten(), shade=True, ax=self.ax2, label='Real data')\n",
            "<ipython-input-2-574068bb8da8>:50: FutureWarning: \n",
            "\n",
            "`shade` is now deprecated in favor of `fill`; setting `fill=True`.\n",
            "This will become an error in seaborn v0.14.0; please update your code.\n",
            "\n",
            "  sns.kdeplot(g.flatten(), shade=True, ax=self.ax2, label='Generated data')\n"
          ]
        },
        {
          "output_type": "stream",
          "name": "stdout",
          "text": [
            "step: 9850, negative critic loss:   0.0185, time: 198 s\n"
          ]
        },
        {
          "output_type": "stream",
          "name": "stderr",
          "text": [
            "<ipython-input-2-574068bb8da8>:49: FutureWarning: \n",
            "\n",
            "`shade` is now deprecated in favor of `fill`; setting `fill=True`.\n",
            "This will become an error in seaborn v0.14.0; please update your code.\n",
            "\n",
            "  sns.kdeplot(d.flatten(), shade=True, ax=self.ax2, label='Real data')\n",
            "<ipython-input-2-574068bb8da8>:50: FutureWarning: \n",
            "\n",
            "`shade` is now deprecated in favor of `fill`; setting `fill=True`.\n",
            "This will become an error in seaborn v0.14.0; please update your code.\n",
            "\n",
            "  sns.kdeplot(g.flatten(), shade=True, ax=self.ax2, label='Generated data')\n"
          ]
        },
        {
          "output_type": "stream",
          "name": "stdout",
          "text": [
            "step: 9900, negative critic loss:  -0.0275, time: 199 s\n"
          ]
        },
        {
          "output_type": "stream",
          "name": "stderr",
          "text": [
            "<ipython-input-2-574068bb8da8>:49: FutureWarning: \n",
            "\n",
            "`shade` is now deprecated in favor of `fill`; setting `fill=True`.\n",
            "This will become an error in seaborn v0.14.0; please update your code.\n",
            "\n",
            "  sns.kdeplot(d.flatten(), shade=True, ax=self.ax2, label='Real data')\n",
            "<ipython-input-2-574068bb8da8>:50: FutureWarning: \n",
            "\n",
            "`shade` is now deprecated in favor of `fill`; setting `fill=True`.\n",
            "This will become an error in seaborn v0.14.0; please update your code.\n",
            "\n",
            "  sns.kdeplot(g.flatten(), shade=True, ax=self.ax2, label='Generated data')\n"
          ]
        },
        {
          "output_type": "stream",
          "name": "stdout",
          "text": [
            "step: 9950, negative critic loss:   0.0096, time: 201 s\n"
          ]
        },
        {
          "output_type": "stream",
          "name": "stderr",
          "text": [
            "<ipython-input-2-574068bb8da8>:49: FutureWarning: \n",
            "\n",
            "`shade` is now deprecated in favor of `fill`; setting `fill=True`.\n",
            "This will become an error in seaborn v0.14.0; please update your code.\n",
            "\n",
            "  sns.kdeplot(d.flatten(), shade=True, ax=self.ax2, label='Real data')\n",
            "<ipython-input-2-574068bb8da8>:50: FutureWarning: \n",
            "\n",
            "`shade` is now deprecated in favor of `fill`; setting `fill=True`.\n",
            "This will become an error in seaborn v0.14.0; please update your code.\n",
            "\n",
            "  sns.kdeplot(g.flatten(), shade=True, ax=self.ax2, label='Generated data')\n"
          ]
        },
        {
          "output_type": "stream",
          "name": "stdout",
          "text": [
            "step: 10000, negative critic loss:  -0.0115, time: 201 s\n"
          ]
        },
        {
          "output_type": "stream",
          "name": "stderr",
          "text": [
            "<ipython-input-2-574068bb8da8>:49: FutureWarning: \n",
            "\n",
            "`shade` is now deprecated in favor of `fill`; setting `fill=True`.\n",
            "This will become an error in seaborn v0.14.0; please update your code.\n",
            "\n",
            "  sns.kdeplot(d.flatten(), shade=True, ax=self.ax2, label='Real data')\n",
            "<ipython-input-2-574068bb8da8>:50: FutureWarning: \n",
            "\n",
            "`shade` is now deprecated in favor of `fill`; setting `fill=True`.\n",
            "This will become an error in seaborn v0.14.0; please update your code.\n",
            "\n",
            "  sns.kdeplot(g.flatten(), shade=True, ax=self.ax2, label='Generated data')\n"
          ]
        }
      ],
      "source": [
        "Gaussian_out = True\n",
        "mu = 0.5\n",
        "sigma = 1.5\n",
        "\n",
        "Uniform_out = False\n",
        "left_v = -1.\n",
        "right_v = 4.\n",
        "\n",
        "Discrete_out = False\n",
        "dis_v_list = [-3., 1.5, 3.2]  # discrete values as a list\n",
        "dis_p_list = [0.3, 0.5, 0.2]   # probabilities for the discrete values\n",
        "\n",
        "seed = 100  # Fix the random seed\n",
        "n_step = 10000  # Run the training procedure for 1450 steps.\n",
        "\n",
        "savepath = ''  # the directory and the file name to save the generated pdf during training\n",
        "file_name = 'Gaussian_pdf.gif'\n",
        "data = Dataset(Gaussian_out, mu, sigma, Uniform_out, left_v, right_v, Discrete_out, dis_v_list, dis_p_list, seed)  # Initialize the toy data object.\n",
        "vis = Visualization(path = savepath, name = file_name, save_animation=True)  # Create the visualization and optionally save the resulting animation.\n",
        "model = GAN(n_step=n_step, callback=vis.plot_progress, seed=seed).fit(data)  # Fit the data and plot the progress.\n"
      ]
    },
    {
      "cell_type": "code",
      "execution_count": null,
      "id": "e8e6473d",
      "metadata": {
        "id": "e8e6473d"
      },
      "outputs": [],
      "source": []
    }
  ],
  "metadata": {
    "kernelspec": {
      "display_name": "Python 3 (ipykernel)",
      "language": "python",
      "name": "python3"
    },
    "language_info": {
      "codemirror_mode": {
        "name": "ipython",
        "version": 3
      },
      "file_extension": ".py",
      "mimetype": "text/x-python",
      "name": "python",
      "nbconvert_exporter": "python",
      "pygments_lexer": "ipython3",
      "version": "3.9.13"
    },
    "colab": {
      "provenance": []
    }
  },
  "nbformat": 4,
  "nbformat_minor": 5
}